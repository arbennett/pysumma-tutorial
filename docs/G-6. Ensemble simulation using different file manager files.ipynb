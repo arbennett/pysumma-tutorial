{
 "cells": [
  {
   "cell_type": "markdown",
   "metadata": {},
   "source": [
    "## G-6. Ensemble simulation using different file manager files"
   ]
  },
  {
   "cell_type": "code",
   "execution_count": 1,
   "metadata": {},
   "outputs": [],
   "source": [
    "from pysumma import hydroshare_utils\n",
    "import os"
   ]
  },
  {
   "cell_type": "code",
   "execution_count": 4,
   "metadata": {},
   "outputs": [
    {
     "name": "stdout",
     "output_type": "stream",
     "text": [
      "Username: choi\n",
      "Password for choi: ········\n"
     ]
    }
   ],
   "source": [
    "from pysumma import hydroshare_utils\n",
    "import os\n",
    "resource_id = 'eefc8724d589425a84ba206f55928735'\n",
    "instance = hydroshare_utils.get_hs_resource(resource_id, os.getcwd())"
   ]
  },
  {
   "cell_type": "code",
   "execution_count": 5,
   "metadata": {},
   "outputs": [
    {
     "name": "stdout",
     "output_type": "stream",
     "text": [
      "TestCases installed\r\n"
     ]
    }
   ],
   "source": [
    "!cd {instance}/; chmod +x ./installTestCases_local.sh\n",
    "!cd {instance}/; ./installTestCases_local.sh"
   ]
  },
  {
   "cell_type": "markdown",
   "metadata": {},
   "source": [
    "## 1. Import pySUMMA 3.0.0"
   ]
  },
  {
   "cell_type": "code",
   "execution_count": 2,
   "metadata": {
    "scrolled": true
   },
   "outputs": [],
   "source": [
    "import pysumma as ps\n",
    "import numpy as np\n",
    "import xarray as xr\n",
    "import os"
   ]
  },
  {
   "cell_type": "markdown",
   "metadata": {},
   "source": [
    "## 2. Create Simulatioin Object"
   ]
  },
  {
   "cell_type": "code",
   "execution_count": 3,
   "metadata": {},
   "outputs": [],
   "source": [
    "executable = \"/usr/bin/summa.exe\"\n",
    "file_manager = os.path.join(os.getcwd(), \"SummaModel_Reynolds_Runoff\", 'settings/summa_fileManager_1dRichards.txt')\n",
    "#s = ps.Simulation(executable, file_manager)"
   ]
  },
  {
   "cell_type": "markdown",
   "metadata": {},
   "source": [
    "## 3. Ensemble Simulations using Different file manager files"
   ]
  },
  {
   "cell_type": "code",
   "execution_count": 4,
   "metadata": {},
   "outputs": [],
   "source": [
    "config = {'++file_manager_1dRichards++': {'file_manager': '/home/jovyan/work/SUMMA3_Manual/SummaModel_Reynolds_Runoff/settings/summa_fileManager_1dRichards.txt'},\n",
    "          '++file_manager_lumpedTopmodel++': {'file_manager': '/home/jovyan/work/SUMMA3_Manual/SummaModel_Reynolds_Runoff/settings/summa_fileManager_lumpedTopmodel.txt'},\n",
    "          '++file_manager_distributedTopmodel++': {'file_manager': '/home/jovyan/work/SUMMA3_Manual/SummaModel_Reynolds_Runoff/settings/summa_fileManager_distributedTopmodel.txt'}}"
   ]
  },
  {
   "cell_type": "code",
   "execution_count": 5,
   "metadata": {},
   "outputs": [
    {
     "name": "stderr",
     "output_type": "stream",
     "text": [
      "/opt/conda/envs/pysumma/lib/python3.8/site-packages/distributed/node.py:151: UserWarning: Port 8787 is already in use.\n",
      "Perhaps you already have a cluster running?\n",
      "Hosting the HTTP server on port 35539 instead\n",
      "  warnings.warn(\n"
     ]
    }
   ],
   "source": [
    "file_manager_ens = ps.Ensemble(executable, config, num_workers=4)"
   ]
  },
  {
   "cell_type": "code",
   "execution_count": 6,
   "metadata": {},
   "outputs": [],
   "source": [
    "# run cnsemble simulation\n",
    "file_manager_ens.run('local')"
   ]
  },
  {
   "cell_type": "code",
   "execution_count": 7,
   "metadata": {},
   "outputs": [
    {
     "data": {
      "text/plain": [
       "{'success': ['++file_manager_1dRichards++',\n",
       "  '++file_manager_lumpedTopmodel++',\n",
       "  '++file_manager_distributedTopmodel++'],\n",
       " 'error': [],\n",
       " 'other': []}"
      ]
     },
     "execution_count": 7,
     "metadata": {},
     "output_type": "execute_result"
    }
   ],
   "source": [
    "# check the status of ensemble simulation\n",
    "file_manager_ens.summary()"
   ]
  },
  {
   "cell_type": "code",
   "execution_count": null,
   "metadata": {},
   "outputs": [],
   "source": [
    "# if there is an errors in summary of ensemble simulation, we need to rerun.\n",
    "file_manager_ens.rerun_failed('local')"
   ]
  },
  {
   "cell_type": "code",
   "execution_count": 8,
   "metadata": {},
   "outputs": [
    {
     "data": {
      "text/plain": [
       "[['/home/jovyan/work/SUMMA3_Manual/SummaModel_Reynolds_Runoff/output/basinRunoff_++file_manager_1dRichards++_timestep.nc'],\n",
       " ['/home/jovyan/work/SUMMA3_Manual/SummaModel_Reynolds_Runoff/output/basinRunoff_++file_manager_lumpedTopmodel++_timestep.nc'],\n",
       " ['/home/jovyan/work/SUMMA3_Manual/SummaModel_Reynolds_Runoff/output/basinRunoff_++file_manager_distributedTopmodel++_timestep.nc']]"
      ]
     },
     "execution_count": 8,
     "metadata": {},
     "output_type": "execute_result"
    }
   ],
   "source": [
    "# check the output files\n",
    "out_file_paths = [s.get_output_files() for s in file_manager_ens.simulations.values()]\n",
    "out_file_paths"
   ]
  },
  {
   "cell_type": "code",
   "execution_count": null,
   "metadata": {},
   "outputs": [],
   "source": []
  },
  {
   "cell_type": "code",
   "execution_count": null,
   "metadata": {},
   "outputs": [],
   "source": []
  }
 ],
 "metadata": {
  "kernelspec": {
   "display_name": "SUMMA",
   "language": "python",
   "name": "pysumma"
  },
  "language_info": {
   "codemirror_mode": {
    "name": "ipython",
    "version": 3
   },
   "file_extension": ".py",
   "mimetype": "text/x-python",
   "name": "python",
   "nbconvert_exporter": "python",
   "pygments_lexer": "ipython3",
   "version": "3.8.5"
  },
  "toc": {
   "base_numbering": 1,
   "nav_menu": {},
   "number_sections": true,
   "sideBar": true,
   "skip_h1_title": false,
   "title_cell": "Table of Contents",
   "title_sidebar": "Contents",
   "toc_cell": false,
   "toc_position": {
    "height": "calc(100% - 180px)",
    "left": "10px",
    "top": "150px",
    "width": "165px"
   },
   "toc_section_display": true,
   "toc_window_display": true
  }
 },
 "nbformat": 4,
 "nbformat_minor": 4
}
