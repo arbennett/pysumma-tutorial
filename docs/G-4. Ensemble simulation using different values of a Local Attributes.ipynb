{
 "cells": [
  {
   "cell_type": "markdown",
   "metadata": {},
   "source": [
    "## G-4. Ensemble simulation using different values of a Local Attributes"
   ]
  },
  {
   "cell_type": "markdown",
   "metadata": {},
   "source": [
    "## 1. Import pySUMMA 3.0.0"
   ]
  },
  {
   "cell_type": "code",
   "execution_count": 1,
   "metadata": {
    "scrolled": true
   },
   "outputs": [],
   "source": [
    "import pysumma as ps\n",
    "import numpy as np\n",
    "import xarray as xr"
   ]
  },
  {
   "cell_type": "markdown",
   "metadata": {},
   "source": [
    "## 2. Create Simulatioin Object"
   ]
  },
  {
   "cell_type": "code",
   "execution_count": 2,
   "metadata": {},
   "outputs": [],
   "source": [
    "executable = \"/usr/bin/summa.exe\"\n",
    "file_manager = 'SummaModel_ReynoldsAspenStand_StomatalResistance/settings/summa_fileManager_riparianAspenSimpleResistance.txt'\n",
    "\n",
    "s = ps.Simulation(executable, file_manager)"
   ]
  },
  {
   "cell_type": "markdown",
   "metadata": {},
   "source": [
    "## 3. Ensemble Simulations using Different Local Attributes"
   ]
  },
  {
   "cell_type": "code",
   "execution_count": 3,
   "metadata": {},
   "outputs": [
    {
     "name": "stdout",
     "output_type": "stream",
     "text": [
      "<xarray.Dataset>\n",
      "Dimensions:         (gru: 1, hru: 1)\n",
      "Dimensions without coordinates: gru, hru\n",
      "Data variables:\n",
      "    hru2gruId       (hru) int32 1001\n",
      "    downHRUindex    (hru) int32 0\n",
      "    slopeTypeIndex  (hru) int32 1\n",
      "    soilTypeIndex   (hru) int32 8\n",
      "    vegTypeIndex    (hru) int32 11\n",
      "    mHeight         (hru) float64 19.25\n",
      "    contourLength   (hru) float64 180.8\n",
      "    tan_slope       (hru) float64 0.2083\n",
      "    elevation       (hru) float64 2.097e+03\n",
      "    longitude       (hru) float64 243.2\n",
      "    latitude        (hru) float64 43.2\n",
      "    HRUarea         (hru) float64 3.27e+04\n",
      "    hruId           (hru) int32 1001\n",
      "    gruId           (gru) int32 1001\n",
      "Attributes:\n",
      "    datasource:  *zLocalAttributes*\n",
      "    history:     Tue Sep 27 21:51:50 2016: ncrename -d nhru,hru -d ngru,gru ....\n",
      "    NCO:         \"4.6.0\"\n"
     ]
    }
   ],
   "source": [
    "# Read local attributes netCDF file\n",
    "print(s.local_attributes)"
   ]
  },
  {
   "cell_type": "code",
   "execution_count": null,
   "metadata": {},
   "outputs": [],
   "source": []
  },
  {
   "cell_type": "code",
   "execution_count": 5,
   "metadata": {},
   "outputs": [
    {
     "data": {
      "text/plain": [
       "{'vegTypeIndex': array([11, 13, 15])}"
      ]
     },
     "execution_count": 5,
     "metadata": {},
     "output_type": "execute_result"
    }
   ],
   "source": [
    "# different parameters\n",
    "import numpy as np\n",
    "local_attributes_options = {'vegTypeIndex': np.array([11, 13, 15])}\n",
    "local_attributes_options"
   ]
  },
  {
   "cell_type": "code",
   "execution_count": 7,
   "metadata": {},
   "outputs": [
    {
     "data": {
      "text/plain": [
       "{'++vegTypeIndex=11++': {'attributes': {'vegTypeIndex': 11}},\n",
       " '++vegTypeIndex=13++': {'attributes': {'vegTypeIndex': 13}},\n",
       " '++vegTypeIndex=15++': {'attributes': {'vegTypeIndex': 15}}}"
      ]
     },
     "execution_count": 7,
     "metadata": {},
     "output_type": "execute_result"
    }
   ],
   "source": [
    "config = ps.ensemble.attribute_product(local_attributes_options)\n",
    "config"
   ]
  },
  {
   "cell_type": "code",
   "execution_count": 8,
   "metadata": {},
   "outputs": [
    {
     "name": "stderr",
     "output_type": "stream",
     "text": [
      "/opt/conda/envs/pysumma/lib/python3.8/site-packages/distributed/node.py:151: UserWarning: Port 8787 is already in use.\n",
      "Perhaps you already have a cluster running?\n",
      "Hosting the HTTP server on port 35571 instead\n",
      "  warnings.warn(\n"
     ]
    }
   ],
   "source": [
    "# create ensemble simulation objects\n",
    "attributes_ens = ps.Ensemble(executable, config, file_manager, num_workers=4)"
   ]
  },
  {
   "cell_type": "code",
   "execution_count": 9,
   "metadata": {},
   "outputs": [],
   "source": [
    "# run cnsemble simulation\n",
    "attributes_ens.run('local')"
   ]
  },
  {
   "cell_type": "code",
   "execution_count": 10,
   "metadata": {},
   "outputs": [
    {
     "data": {
      "text/plain": [
       "{'success': ['++vegTypeIndex=11++',\n",
       "  '++vegTypeIndex=13++',\n",
       "  '++vegTypeIndex=15++'],\n",
       " 'error': [],\n",
       " 'other': []}"
      ]
     },
     "execution_count": 10,
     "metadata": {},
     "output_type": "execute_result"
    }
   ],
   "source": [
    "# check the status of ensemble simulation\n",
    "attributes_ens.summary()"
   ]
  },
  {
   "cell_type": "code",
   "execution_count": null,
   "metadata": {},
   "outputs": [],
   "source": [
    "# if there is an errors in summary of ensemble simulation, we need to rerun.\n",
    "attributes_ens.rerun_failed('local')"
   ]
  },
  {
   "cell_type": "code",
   "execution_count": 11,
   "metadata": {},
   "outputs": [
    {
     "data": {
      "text/plain": [
       "[['/home/jovyan/work/SUMMA3_Manual/SummaModel_ReynoldsAspenStand_StomatalResistance/output/vegImpactsTranspire_++vegTypeIndex=11++_timestep.nc'],\n",
       " ['/home/jovyan/work/SUMMA3_Manual/SummaModel_ReynoldsAspenStand_StomatalResistance/output/vegImpactsTranspire_++vegTypeIndex=13++_timestep.nc'],\n",
       " ['/home/jovyan/work/SUMMA3_Manual/SummaModel_ReynoldsAspenStand_StomatalResistance/output/vegImpactsTranspire_++vegTypeIndex=15++_timestep.nc']]"
      ]
     },
     "execution_count": 11,
     "metadata": {},
     "output_type": "execute_result"
    }
   ],
   "source": [
    "# check the output files\n",
    "out_file_paths = [s.get_output_files() for s in attributes_ens.simulations.values()]\n",
    "out_file_paths"
   ]
  },
  {
   "cell_type": "code",
   "execution_count": null,
   "metadata": {},
   "outputs": [],
   "source": []
  },
  {
   "cell_type": "code",
   "execution_count": null,
   "metadata": {},
   "outputs": [],
   "source": []
  }
 ],
 "metadata": {
  "kernelspec": {
   "display_name": "SUMMA",
   "language": "python",
   "name": "pysumma"
  },
  "language_info": {
   "codemirror_mode": {
    "name": "ipython",
    "version": 3
   },
   "file_extension": ".py",
   "mimetype": "text/x-python",
   "name": "python",
   "nbconvert_exporter": "python",
   "pygments_lexer": "ipython3",
   "version": "3.8.5"
  },
  "toc": {
   "base_numbering": 1,
   "nav_menu": {},
   "number_sections": true,
   "sideBar": true,
   "skip_h1_title": false,
   "title_cell": "Table of Contents",
   "title_sidebar": "Contents",
   "toc_cell": false,
   "toc_position": {
    "height": "calc(100% - 180px)",
    "left": "10px",
    "top": "150px",
    "width": "165px"
   },
   "toc_section_display": true,
   "toc_window_display": true
  }
 },
 "nbformat": 4,
 "nbformat_minor": 4
}
