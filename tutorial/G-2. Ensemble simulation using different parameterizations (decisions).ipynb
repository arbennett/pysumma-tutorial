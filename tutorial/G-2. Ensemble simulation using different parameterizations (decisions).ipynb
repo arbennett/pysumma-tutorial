{
 "cells": [
  {
   "cell_type": "markdown",
   "metadata": {},
   "source": [
    "## G-2. Ensemble simulation using different parameterizations"
   ]
  },
  {
   "cell_type": "markdown",
   "metadata": {},
   "source": [
    "## 1. Import pySUMMA 3.0.0"
   ]
  },
  {
   "cell_type": "code",
   "execution_count": 2,
   "metadata": {
    "scrolled": true
   },
   "outputs": [],
   "source": [
    "import pysumma as ps\n",
    "import numpy as np"
   ]
  },
  {
   "cell_type": "markdown",
   "metadata": {},
   "source": [
    "## 2. Create Simulatioin Object"
   ]
  },
  {
   "cell_type": "code",
   "execution_count": 3,
   "metadata": {},
   "outputs": [],
   "source": [
    "executable = \"/usr/bin/summa.exe\"\n",
    "file_manager = 'SummaModel_ReynoldsAspenStand_StomatalResistance/settings/summa_fileManager_riparianAspenSimpleResistance.txt'\n",
    "\n",
    "s = ps.Simulation(executable, file_manager)"
   ]
  },
  {
   "cell_type": "markdown",
   "metadata": {},
   "source": [
    "## 3. Ensemble Simulations using Different Parameterizations (decision files)"
   ]
  },
  {
   "cell_type": "code",
   "execution_count": 4,
   "metadata": {},
   "outputs": [],
   "source": [
    "# create parameterizations(methods) ensemble\n",
    "decision_options = {\n",
    "    'stomResist': [\"BallBerry\", \"Jarvis\", \"simpleResistance\"],\n",
    "    'vegeParTbl': [\"USGS\", \"MODIFIED_IGBP_MODIS_NOAH\"]\n",
    "}"
   ]
  },
  {
   "cell_type": "code",
   "execution_count": 5,
   "metadata": {},
   "outputs": [
    {
     "data": {
      "text/plain": [
       "6"
      ]
     },
     "execution_count": 5,
     "metadata": {},
     "output_type": "execute_result"
    }
   ],
   "source": [
    "# create config for parameterizations ensemble\n",
    "config = ps.ensemble.decision_product(decision_options)\n",
    "len(config)"
   ]
  },
  {
   "cell_type": "code",
   "execution_count": 6,
   "metadata": {},
   "outputs": [],
   "source": [
    "# create ensemble simulation objects\n",
    "param_ens = ps.Ensemble(executable, config, file_manager, num_workers=4)"
   ]
  },
  {
   "cell_type": "code",
   "execution_count": 7,
   "metadata": {},
   "outputs": [],
   "source": [
    "# run cnsemble simulation\n",
    "param_ens.run('local')"
   ]
  },
  {
   "cell_type": "code",
   "execution_count": 8,
   "metadata": {},
   "outputs": [
    {
     "data": {
      "text/plain": [
       "{'success': ['++BallBerry++USGS++',\n",
       "  '++BallBerry++MODIFIED_IGBP_MODIS_NOAH++',\n",
       "  '++Jarvis++USGS++',\n",
       "  '++Jarvis++MODIFIED_IGBP_MODIS_NOAH++',\n",
       "  '++simpleResistance++USGS++',\n",
       "  '++simpleResistance++MODIFIED_IGBP_MODIS_NOAH++'],\n",
       " 'error': [],\n",
       " 'other': []}"
      ]
     },
     "execution_count": 8,
     "metadata": {},
     "output_type": "execute_result"
    }
   ],
   "source": [
    "# check the status of ensemble simulation\n",
    "param_ens.summary()"
   ]
  },
  {
   "cell_type": "code",
   "execution_count": 12,
   "metadata": {},
   "outputs": [],
   "source": [
    "# if there is an errors in summary of ensemble simulation, we need to rerun.\n",
    "param_ens.rerun_failed('local')"
   ]
  },
  {
   "cell_type": "code",
   "execution_count": 10,
   "metadata": {},
   "outputs": [
    {
     "data": {
      "text/plain": [
       "[['/home/jovyan/work/SUMMA3_Manual/SummaModel_ReynoldsAspenStand_StomatalResistance/output/vegImpactsTranspire_++BallBerry++USGS++_timestep.nc'],\n",
       " ['/home/jovyan/work/SUMMA3_Manual/SummaModel_ReynoldsAspenStand_StomatalResistance/output/vegImpactsTranspire_++BallBerry++MODIFIED_IGBP_MODIS_NOAH++_timestep.nc'],\n",
       " ['/home/jovyan/work/SUMMA3_Manual/SummaModel_ReynoldsAspenStand_StomatalResistance/output/vegImpactsTranspire_++Jarvis++USGS++_timestep.nc'],\n",
       " ['/home/jovyan/work/SUMMA3_Manual/SummaModel_ReynoldsAspenStand_StomatalResistance/output/vegImpactsTranspire_++Jarvis++MODIFIED_IGBP_MODIS_NOAH++_timestep.nc'],\n",
       " ['/home/jovyan/work/SUMMA3_Manual/SummaModel_ReynoldsAspenStand_StomatalResistance/output/vegImpactsTranspire_++simpleResistance++USGS++_timestep.nc'],\n",
       " ['/home/jovyan/work/SUMMA3_Manual/SummaModel_ReynoldsAspenStand_StomatalResistance/output/vegImpactsTranspire_++simpleResistance++MODIFIED_IGBP_MODIS_NOAH++_timestep.nc']]"
      ]
     },
     "execution_count": 10,
     "metadata": {},
     "output_type": "execute_result"
    }
   ],
   "source": [
    "# check the output files\n",
    "out_file_paths = [s.get_output_files() for s in param_ens.simulations.values()]\n",
    "out_file_paths"
   ]
  },
  {
   "cell_type": "code",
   "execution_count": null,
   "metadata": {},
   "outputs": [],
   "source": []
  }
 ],
 "metadata": {
  "kernelspec": {
   "display_name": "SUMMA",
   "language": "python",
   "name": "pysumma"
  },
  "language_info": {
   "codemirror_mode": {
    "name": "ipython",
    "version": 3
   },
   "file_extension": ".py",
   "mimetype": "text/x-python",
   "name": "python",
   "nbconvert_exporter": "python",
   "pygments_lexer": "ipython3",
   "version": "3.8.5"
  },
  "toc": {
   "base_numbering": 1,
   "nav_menu": {},
   "number_sections": true,
   "sideBar": true,
   "skip_h1_title": false,
   "title_cell": "Table of Contents",
   "title_sidebar": "Contents",
   "toc_cell": false,
   "toc_position": {
    "height": "calc(100% - 180px)",
    "left": "10px",
    "top": "150px",
    "width": "165px"
   },
   "toc_section_display": true,
   "toc_window_display": true
  }
 },
 "nbformat": 4,
 "nbformat_minor": 4
}
