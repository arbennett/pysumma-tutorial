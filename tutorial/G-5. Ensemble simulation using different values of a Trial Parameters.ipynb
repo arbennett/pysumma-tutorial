{
 "cells": [
  {
   "cell_type": "markdown",
   "metadata": {},
   "source": [
    "## G-5. Ensemble simulation using different values of a Trial Parameters"
   ]
  },
  {
   "cell_type": "markdown",
   "metadata": {},
   "source": [
    "## 1. Import pySUMMA 3.0.0"
   ]
  },
  {
   "cell_type": "code",
   "execution_count": 1,
   "metadata": {
    "scrolled": true
   },
   "outputs": [],
   "source": [
    "import pysumma as ps\n",
    "import numpy as np\n",
    "import xarray as xr"
   ]
  },
  {
   "cell_type": "markdown",
   "metadata": {},
   "source": [
    "## 2. Create Simulatioin Object"
   ]
  },
  {
   "cell_type": "code",
   "execution_count": 2,
   "metadata": {},
   "outputs": [],
   "source": [
    "executable = \"/usr/bin/summa.exe\"\n",
    "file_manager = 'SummaModel_ReynoldsAspenStand_StomatalResistance/settings/summa_fileManager_riparianAspenSimpleResistance.txt'\n",
    "\n",
    "s = ps.Simulation(executable, file_manager)"
   ]
  },
  {
   "cell_type": "markdown",
   "metadata": {},
   "source": [
    "## 3. Ensemble Simulations using Different Trial Parameters"
   ]
  },
  {
   "cell_type": "code",
   "execution_count": 3,
   "metadata": {},
   "outputs": [
    {
     "name": "stdout",
     "output_type": "stream",
     "text": [
      "<xarray.Dataset>\n",
      "Dimensions:             (hru: 1)\n",
      "Dimensions without coordinates: hru\n",
      "Data variables:\n",
      "    hruIndex            (hru) float64 1.001e+03\n",
      "    frozenPrecipMultip  (hru) float64 1.0\n",
      "    theta_mp            (hru) float64 0.2211\n",
      "    theta_sat           (hru) float64 0.4792\n",
      "    theta_res           (hru) float64 0.1\n",
      "    vGn_alpha           (hru) float64 -0.858\n",
      "    vGn_n               (hru) float64 1.306\n",
      "    f_impede            (hru) float64 0.0\n",
      "    k_soil              (hru) float64 3.53e-06\n",
      "    k_macropore         (hru) float64 0.06255\n",
      "    critSoilWilting     (hru) float64 0.125\n",
      "    critSoilTranspire   (hru) float64 0.2\n",
      "    winterSAI           (hru) float64 0.45\n",
      "    summerLAI           (hru) float64 2.5\n",
      "    heightCanopyTop     (hru) float64 9.5\n",
      "    heightCanopyBottom  (hru) float64 3.0\n",
      "    kAnisotropic        (hru) float64 1.0\n",
      "    rootDistExp         (hru) float64 1.0\n",
      "    zScale_TOPMODEL     (hru) float64 4.057\n",
      "    qSurfScale          (hru) float64 84.06\n",
      "Attributes:\n",
      "    history:  Converted to NetCDF using \"/Users/nijssen/Dropbox/data/PLUMBER/...\n"
     ]
    }
   ],
   "source": [
    "print(s.trial_params)"
   ]
  },
  {
   "cell_type": "code",
   "execution_count": null,
   "metadata": {},
   "outputs": [],
   "source": []
  },
  {
   "cell_type": "code",
   "execution_count": 4,
   "metadata": {},
   "outputs": [
    {
     "data": {
      "text/plain": [
       "{'rootDistExp': array([1.  , 0.5 , 0.25])}"
      ]
     },
     "execution_count": 4,
     "metadata": {},
     "output_type": "execute_result"
    }
   ],
   "source": [
    "# different parameters\n",
    "import numpy as np\n",
    "param_trial_options = {'rootDistExp': np.array([1.0, 0.5, 0.25])}\n",
    "param_trial_options"
   ]
  },
  {
   "cell_type": "code",
   "execution_count": 5,
   "metadata": {},
   "outputs": [
    {
     "data": {
      "text/plain": [
       "{'++rootDistExp=1.0++': {'trial_parameters': {'rootDistExp': 1.0}},\n",
       " '++rootDistExp=0.5++': {'trial_parameters': {'rootDistExp': 0.5}},\n",
       " '++rootDistExp=0.25++': {'trial_parameters': {'rootDistExp': 0.25}}}"
      ]
     },
     "execution_count": 5,
     "metadata": {},
     "output_type": "execute_result"
    }
   ],
   "source": [
    "config = ps.ensemble.trial_parameter_product(param_trial_options)\n",
    "config"
   ]
  },
  {
   "cell_type": "code",
   "execution_count": 6,
   "metadata": {},
   "outputs": [
    {
     "name": "stderr",
     "output_type": "stream",
     "text": [
      "/opt/conda/envs/pysumma/lib/python3.8/site-packages/distributed/node.py:151: UserWarning: Port 8787 is already in use.\n",
      "Perhaps you already have a cluster running?\n",
      "Hosting the HTTP server on port 33153 instead\n",
      "  warnings.warn(\n"
     ]
    }
   ],
   "source": [
    "# create ensemble simulation objects\n",
    "param_trial_ens = ps.Ensemble(executable, config, file_manager, num_workers=4)"
   ]
  },
  {
   "cell_type": "code",
   "execution_count": 7,
   "metadata": {},
   "outputs": [],
   "source": [
    "# run cnsemble simulation\n",
    "param_trial_ens.run('local')"
   ]
  },
  {
   "cell_type": "code",
   "execution_count": 8,
   "metadata": {},
   "outputs": [
    {
     "data": {
      "text/plain": [
       "{'success': ['++albedoMax=0.7++', '++albedoMax=0.8++', '++albedoMax=0.9++'],\n",
       " 'error': [],\n",
       " 'other': []}"
      ]
     },
     "execution_count": 8,
     "metadata": {},
     "output_type": "execute_result"
    }
   ],
   "source": [
    "# check the status of ensemble simulation\n",
    "param_trial_ens.summary()"
   ]
  },
  {
   "cell_type": "code",
   "execution_count": null,
   "metadata": {},
   "outputs": [],
   "source": [
    "# if there is an errors in summary of ensemble simulation, we need to rerun.\n",
    "param_trial_ens.rerun_failed('local')"
   ]
  },
  {
   "cell_type": "code",
   "execution_count": 9,
   "metadata": {},
   "outputs": [
    {
     "data": {
      "text/plain": [
       "[['/home/jovyan/work/SUMMA3_Manual/SummaModel_ReynoldsAspenStand_StomatalResistance/output/vegImpactsTranspire_++albedoMax=0.7++_timestep.nc'],\n",
       " ['/home/jovyan/work/SUMMA3_Manual/SummaModel_ReynoldsAspenStand_StomatalResistance/output/vegImpactsTranspire_++albedoMax=0.8++_timestep.nc'],\n",
       " ['/home/jovyan/work/SUMMA3_Manual/SummaModel_ReynoldsAspenStand_StomatalResistance/output/vegImpactsTranspire_++albedoMax=0.9++_timestep.nc']]"
      ]
     },
     "execution_count": 9,
     "metadata": {},
     "output_type": "execute_result"
    }
   ],
   "source": [
    "# check the output files\n",
    "out_file_paths = [s.get_output_files() for s in param_trial_ens.simulations.values()]\n",
    "out_file_paths"
   ]
  },
  {
   "cell_type": "code",
   "execution_count": null,
   "metadata": {},
   "outputs": [],
   "source": []
  },
  {
   "cell_type": "code",
   "execution_count": null,
   "metadata": {},
   "outputs": [],
   "source": []
  }
 ],
 "metadata": {
  "kernelspec": {
   "display_name": "SUMMA",
   "language": "python",
   "name": "pysumma"
  },
  "language_info": {
   "codemirror_mode": {
    "name": "ipython",
    "version": 3
   },
   "file_extension": ".py",
   "mimetype": "text/x-python",
   "name": "python",
   "nbconvert_exporter": "python",
   "pygments_lexer": "ipython3",
   "version": "3.8.5"
  },
  "toc": {
   "base_numbering": 1,
   "nav_menu": {},
   "number_sections": true,
   "sideBar": true,
   "skip_h1_title": false,
   "title_cell": "Table of Contents",
   "title_sidebar": "Contents",
   "toc_cell": false,
   "toc_position": {
    "height": "calc(100% - 180px)",
    "left": "10px",
    "top": "150px",
    "width": "165px"
   },
   "toc_section_display": true,
   "toc_window_display": true
  }
 },
 "nbformat": 4,
 "nbformat_minor": 4
}
