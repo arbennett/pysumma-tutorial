{
 "cells": [
  {
   "cell_type": "markdown",
   "metadata": {},
   "source": [
    "# E. Explore Trial parameters, Output control and Noah-MP tables of SUMMA 3.0"
   ]
  },
  {
   "cell_type": "markdown",
   "metadata": {},
   "source": [
    "## 1. Import pySUMMA 3.0.0"
   ]
  },
  {
   "cell_type": "code",
   "execution_count": 1,
   "metadata": {},
   "outputs": [],
   "source": [
    "import pysumma as ps"
   ]
  },
  {
   "cell_type": "markdown",
   "metadata": {},
   "source": [
    "## 2. Create Simulatioin Object"
   ]
  },
  {
   "cell_type": "code",
   "execution_count": 2,
   "metadata": {},
   "outputs": [],
   "source": [
    "executable = \"/usr/bin/summa.exe\"\n",
    "file_manager = 'SummaModel_ReynoldsAspenStand_StomatalResistance/settings/summa_fileManager_riparianAspenSimpleResistance.txt'\n",
    "\n",
    "s = ps.Simulation(executable, file_manager)"
   ]
  },
  {
   "cell_type": "markdown",
   "metadata": {},
   "source": [
    "## 3. Explore trial parameters file"
   ]
  },
  {
   "cell_type": "markdown",
   "metadata": {},
   "source": [
    "The trial parameters file is a NetCDF file that specifies model parameters for GRUs and individual HRUs. This enables the user to overwrite the default and/or Noah-MP parameter values with local-specific ones. The trial parameters file is parsed by **`build/source/engine/read_param.f90:read_param()`**."
   ]
  },
  {
   "cell_type": "markdown",
   "metadata": {},
   "source": [
    "The trial parameters file contains a `gru` and/or an `hru` dimension, depending on whether GRU or HRU are being specified. The file can be used to overwrite any of the variables in the basin parameters file, in which the variable dimension should be `gru`, or in the local parameters file, in which the variable dimension should be `hru`. The file can contain zero or more parameter fields."
   ]
  },
  {
   "cell_type": "markdown",
   "metadata": {},
   "source": [
    "The file should include an index variable (`hruId` and/or `gruId`) that corresponds to the values used in the local attributes file to provide the mapping of parameter values to each individual HRU and GRU. Variable names in the trial parameters file must match those in **`build/source/dshare/var_lookup.f90:iLook_param`** for HRU parameters and **`build/source/dshare/var_lookup.f90:iLook_bpar`** for GRU parameters. Note that this matching is case-sensitive."
   ]
  },
  {
   "cell_type": "markdown",
   "metadata": {},
   "source": [
    "### 3.1 Show trial parameters using `print` command"
   ]
  },
  {
   "cell_type": "code",
   "execution_count": 3,
   "metadata": {},
   "outputs": [
    {
     "name": "stdout",
     "output_type": "stream",
     "text": [
      "<xarray.Dataset>\n",
      "Dimensions:             (hru: 1)\n",
      "Dimensions without coordinates: hru\n",
      "Data variables:\n",
      "    hruIndex            (hru) float64 1.001e+03\n",
      "    frozenPrecipMultip  (hru) float64 1.0\n",
      "    theta_mp            (hru) float64 0.2211\n",
      "    theta_sat           (hru) float64 0.4792\n",
      "    theta_res           (hru) float64 0.1\n",
      "    vGn_alpha           (hru) float64 -0.858\n",
      "    vGn_n               (hru) float64 1.306\n",
      "    f_impede            (hru) float64 0.0\n",
      "    k_soil              (hru) float64 3.53e-06\n",
      "    k_macropore         (hru) float64 0.06255\n",
      "    critSoilWilting     (hru) float64 0.125\n",
      "    critSoilTranspire   (hru) float64 0.2\n",
      "    winterSAI           (hru) float64 0.45\n",
      "    summerLAI           (hru) float64 2.5\n",
      "    heightCanopyTop     (hru) float64 9.5\n",
      "    heightCanopyBottom  (hru) float64 3.0\n",
      "    kAnisotropic        (hru) float64 1.0\n",
      "    rootDistExp         (hru) float64 1.0\n",
      "    zScale_TOPMODEL     (hru) float64 4.057\n",
      "    qSurfScale          (hru) float64 84.06\n",
      "Attributes:\n",
      "    history:  Converted to NetCDF using \"/Users/nijssen/Dropbox/data/PLUMBER/...\n"
     ]
    }
   ],
   "source": [
    "# Read parameter trial netCDF file\n",
    "print(s.trial_params)"
   ]
  },
  {
   "cell_type": "markdown",
   "metadata": {},
   "source": [
    "### 3.2 Change value of  `summerLAI` in trial parameters"
   ]
  },
  {
   "cell_type": "code",
   "execution_count": 4,
   "metadata": {},
   "outputs": [
    {
     "name": "stdout",
     "output_type": "stream",
     "text": [
      "<xarray.Dataset>\n",
      "Dimensions:             (hru: 1)\n",
      "Dimensions without coordinates: hru\n",
      "Data variables:\n",
      "    hruIndex            (hru) float64 1.001e+03\n",
      "    frozenPrecipMultip  (hru) float64 1.0\n",
      "    theta_mp            (hru) float64 0.2211\n",
      "    theta_sat           (hru) float64 0.4792\n",
      "    theta_res           (hru) float64 0.1\n",
      "    vGn_alpha           (hru) float64 -0.858\n",
      "    vGn_n               (hru) float64 1.306\n",
      "    f_impede            (hru) float64 0.0\n",
      "    k_soil              (hru) float64 3.53e-06\n",
      "    k_macropore         (hru) float64 0.06255\n",
      "    critSoilWilting     (hru) float64 0.125\n",
      "    critSoilTranspire   (hru) float64 0.2\n",
      "    winterSAI           (hru) float64 0.45\n",
      "    summerLAI           (hru) float64 2.0\n",
      "    heightCanopyTop     (hru) float64 9.5\n",
      "    heightCanopyBottom  (hru) float64 3.0\n",
      "    kAnisotropic        (hru) float64 1.0\n",
      "    rootDistExp         (hru) float64 1.0\n",
      "    zScale_TOPMODEL     (hru) float64 4.057\n",
      "    qSurfScale          (hru) float64 84.06\n",
      "Attributes:\n",
      "    history:  Converted to NetCDF using \"/Users/nijssen/Dropbox/data/PLUMBER/...\n"
     ]
    }
   ],
   "source": [
    "s.assign_trial_params('summerLAI', float(2.0))\n",
    "print(s.trial_params)"
   ]
  },
  {
   "cell_type": "code",
   "execution_count": null,
   "metadata": {},
   "outputs": [],
   "source": []
  },
  {
   "cell_type": "markdown",
   "metadata": {},
   "source": [
    "## 4. Explore Output control text file"
   ]
  },
  {
   "cell_type": "markdown",
   "metadata": {},
   "source": [
    "The output control file is an ASCII file that specifies which variables are retained in the SUMMA output files. The output control file is parsed by **`build/source/dshare/popMetadat.f90:read_output_file()`**"
   ]
  },
  {
   "cell_type": "markdown",
   "metadata": {},
   "source": [
    "SUMMA is pretty flexible in its output. There are many variables that you can output and for most of them you can also choose to record summary statistics. For example, you can configure the model to run with meteorological forcings that are defined every hour, but only save summary output with a daily time step. This flexibility comes at the small price that you need to be clear in specifying what output you want."
   ]
  },
  {
   "cell_type": "markdown",
   "metadata": {},
   "source": [
    "The output control file includes a listing of model variables that you would like to store, with one model variable per line. The variables that are available for output are the individual entries in the data structures specified in **`build/source/dshare/var_lookup.f90`**. Because there are many, there is not much point in repeating them here, but we direct the user to the model code. Any of the variables specified in the following structures can be specified in the output control file: **`iLook_time`, `iLook_force`, `iLook_attr`, `iLook_type`, `iLook_param`, `iLook_index`, `iLook_prog`, `iLook_diag`, `iLook_flux`, `iLook_bpar`, `iLook_bvar`, `iLook_deriv`**. SUMMA will print an error message if a specific variable cannot be output, so the faster way may be to select any variable in **`build/source/dshare/var_lookup.f90`** and remove it if it is not available for output. In addition, some of the variables may only be useful for debugging use, but that is up to the user."
   ]
  },
  {
   "cell_type": "markdown",
   "metadata": {},
   "source": [
    "At a minimum, each line in the output control file will contain two fields, separated by a **`|`**. The first field will be the variable name as specified in **`build/source/dshare/var_lookup.f90`** (case-sensitive). The second field will be the frequency of the model output specified as a multiple of the time resolution in the model forcing files. Thus, if you want to output data for every forcing time step, then this value should be equal to 1. If you want daily output and your forcing frequency is 3 hours, then this value should be equal to 8. Note that you can specify different output frequencies for separate variables, but at this time you can specify only a single output frequency for each variable. For example, you can store **`scalarSenHeatTotal`** with an output frequency of 1 and **`scalarLatHeatTotal`** with an output frequency of 8, but you cannot specify two different output frequencies for **`scalarSenHeatTotal`**."
   ]
  },
  {
   "cell_type": "markdown",
   "metadata": {},
   "source": [
    "For most variables you can also output a statistical summary if you output variables at a lower frequency than your forcing frequency. To do this, you extend the number of fields you specify in the output control file, with all fields separated by a **`|`**. For the fields after the first two, you specify a series of 0's and 1's, which indicate that a specific statistic should not (0) or should be stored (1). The available statistics are (in order) the instantaneous value, the sum over the interval, the mean, the variance, the minimum, the maximum and the mode. So, a complete line in the output control file would be\n",
    "\n",
    "```\n",
    "| varName            | outFreq | inst | sum | mean | var | min | max | mode\n",
    "| scalarSenHeatTotal | 24      | 0    | 1   | 1    | 0   | 1   | 1   | 0\n",
    "```\n",
    "\n",
    "In this example, the first line is a comment (starts with `!`) and then the sum, mean, min, max are calculated for **`scalarSenHeatTotal`** across 24 forcing time steps and written to the output file."
   ]
  },
  {
   "cell_type": "markdown",
   "metadata": {},
   "source": [
    "<br>\n",
    "\n",
    "### Modifying output\n",
    "And one more, we can also modify what get's written to output. \n",
    "The output control file represents the options available through columns of numeric values.\n",
    "These numbers represent how to write the output. \n",
    "From the SUMMA documentation they are arranged as:\n",
    "\n",
    "```\n",
    "! varName          | outFreq | inst | sum | mean | var | min | max | mode\n",
    "```\n",
    "\n",
    "As before, let's look at what's in the `output_control` by simply printing it out.\n",
    "\n",
    "<br>"
   ]
  },
  {
   "cell_type": "markdown",
   "metadata": {},
   "source": [
    "### 4.1 Show output control file using `print` command"
   ]
  },
  {
   "cell_type": "code",
   "execution_count": 5,
   "metadata": {},
   "outputs": [
    {
     "name": "stdout",
     "output_type": "stream",
     "text": [
      "nSnow                                | 1 | 0 | 1 | 0 | 0 | 0 | 0 | 0\n",
      "nSoil                                | 1 | 0 | 1 | 0 | 0 | 0 | 0 | 0\n",
      "pptrate                              | 1 | 0 | 1 | 0 | 0 | 0 | 0 | 0\n",
      "airtemp                              | 1 | 0 | 1 | 0 | 0 | 0 | 0 | 0\n",
      "scalarRainPlusMelt                   | 1 | 0 | 1 | 0 | 0 | 0 | 0 | 0\n",
      "scalarSWE                            | 1 | 0 | 1 | 0 | 0 | 0 | 0 | 0\n",
      "scalarThroughfallSnow                | 1 | 0 | 1 | 0 | 0 | 0 | 0 | 0\n",
      "scalarThroughfallRain                | 1 | 0 | 1 | 0 | 0 | 0 | 0 | 0\n",
      "scalarSnowSublimation                | 1 | 0 | 1 | 0 | 0 | 0 | 0 | 0\n",
      "scalarInfiltration                   | 1 | 0 | 1 | 0 | 0 | 0 | 0 | 0\n",
      "scalarExfiltration                   | 1 | 0 | 1 | 0 | 0 | 0 | 0 | 0\n",
      "scalarSurfaceRunoff                  | 1 | 0 | 1 | 0 | 0 | 0 | 0 | 0\n",
      "scalarSurfaceTemp                    | 1 | 0 | 1 | 0 | 0 | 0 | 0 | 0\n",
      "scalarSenHeatTotal                   | 1 | 0 | 1 | 0 | 0 | 0 | 0 | 0\n",
      "scalarLatHeatTotal                   | 1 | 0 | 1 | 0 | 0 | 0 | 0 | 0\n",
      "scalarCanopyTranspiration            | 1 | 0 | 1 | 0 | 0 | 0 | 0 | 0\n",
      "scalarCanopyEvaporation              | 1 | 0 | 1 | 0 | 0 | 0 | 0 | 0\n",
      "scalarGroundEvaporation              | 1 | 0 | 1 | 0 | 0 | 0 | 0 | 0\n",
      "iLayerHeight                         | 1 | 0 | 1 | 0 | 0 | 0 | 0 | 0\n",
      "iLayerLiqFluxSoil                    | 1 | 0 | 1 | 0 | 0 | 0 | 0 | 0\n",
      "mLayerTemp                           | 1 | 0 | 1 | 0 | 0 | 0 | 0 | 0\n",
      "mLayerDepth                          | 1 | 0 | 1 | 0 | 0 | 0 | 0 | 0\n",
      "mLayerLiqFluxSoil                    | 1 | 0 | 1 | 0 | 0 | 0 | 0 | 0\n",
      "mLayerVolFracIce                     | 1 | 0 | 1 | 0 | 0 | 0 | 0 | 0\n",
      "mLayerVolFracLiq                     | 1 | 0 | 1 | 0 | 0 | 0 | 0 | 0\n",
      "mLayerVolFracWat                     | 1 | 0 | 1 | 0 | 0 | 0 | 0 | 0\n",
      "mLayerMatricHead                     | 1 | 0 | 1 | 0 | 0 | 0 | 0 | 0\n",
      "basin__SurfaceRunoff                 | 1 | 0 | 1 | 0 | 0 | 0 | 0 | 0\n",
      "basin__ColumnOutflow                 | 1 | 0 | 1 | 0 | 0 | 0 | 0 | 0\n",
      "basin__AquiferStorage                | 1 | 0 | 1 | 0 | 0 | 0 | 0 | 0\n",
      "basin__AquiferRecharge               | 1 | 0 | 1 | 0 | 0 | 0 | 0 | 0\n",
      "basin__AquiferBaseflow               | 1 | 0 | 1 | 0 | 0 | 0 | 0 | 0\n",
      "basin__AquiferTranspire              | 1 | 0 | 1 | 0 | 0 | 0 | 0 | 0\n",
      "averageInstantRunoff                 | 1 | 0 | 1 | 0 | 0 | 0 | 0 | 0\n",
      "averageRoutedRunoff                  | 1 | 0 | 1 | 0 | 0 | 0 | 0 | 0\n"
     ]
    }
   ],
   "source": [
    "print(s.output_control)"
   ]
  },
  {
   "cell_type": "markdown",
   "metadata": {},
   "source": [
    "### 4.2 Show value of  `scalarLatHeatTotal` in output control text file"
   ]
  },
  {
   "cell_type": "code",
   "execution_count": 6,
   "metadata": {},
   "outputs": [
    {
     "name": "stdout",
     "output_type": "stream",
     "text": [
      "scalarLatHeatTotal                   | 1 | 0 | 1 | 0 | 0 | 0 | 0 | 0\n"
     ]
    }
   ],
   "source": [
    "print(s.output_control['scalarLatHeatTotal'])"
   ]
  },
  {
   "cell_type": "markdown",
   "metadata": {},
   "source": [
    "### 4.3 Change value of  `scalarLatHeatTotal` in output control text file"
   ]
  },
  {
   "cell_type": "code",
   "execution_count": 7,
   "metadata": {},
   "outputs": [
    {
     "name": "stdout",
     "output_type": "stream",
     "text": [
      "scalarLatHeatTotal                   | 24 | 1 | 0 | 0 | 0 | 0 | 0 | 0\n"
     ]
    }
   ],
   "source": [
    "# Change the output statistic from hourly instantaneous to daily total\n",
    "s.output_control['scalarLatHeatTotal'] = [24, 1, 0, 0, 0, 0, 0, 0]\n",
    "print(s.output_control['scalarLatHeatTotal'])"
   ]
  },
  {
   "cell_type": "markdown",
   "metadata": {},
   "source": [
    "### 4.4 Change value of  `scalarLatHeatTotal`  back in output control text file"
   ]
  },
  {
   "cell_type": "code",
   "execution_count": 8,
   "metadata": {},
   "outputs": [
    {
     "name": "stdout",
     "output_type": "stream",
     "text": [
      "scalarLatHeatTotal                   | 1 | 0 | 1 | 0 | 0 | 0 | 0 | 0\n"
     ]
    }
   ],
   "source": [
    "s.output_control['scalarLatHeatTotal'] = [1, 0, 1, 0, 0, 0, 0, 0]\n",
    "print(s.output_control['scalarLatHeatTotal'])"
   ]
  },
  {
   "cell_type": "code",
   "execution_count": null,
   "metadata": {},
   "outputs": [],
   "source": []
  },
  {
   "cell_type": "markdown",
   "metadata": {},
   "source": [
    "## 5. Explore Noah-MP tables text file"
   ]
  },
  {
   "cell_type": "markdown",
   "metadata": {},
   "source": [
    "SUMMA uses some of the input files and routines from the Noah-MP Land Surface Model (LSM). These routines are mostly contained in the **`build/source/noah-mp`** directory, although a few can be found elsewhere in the code as well. For example, the code that parses the Noah-MP tables is in **`build/source/driver/multi_driver.f90:SOIL_VEG_GEN_PARM()`**. The names of these tables is hard-wired (since that it is how this is implemented in Noah-MP). The file path for these tables is constructed as **`<SETNGS_PATH>/<NOAH_TABLE>`**, where **`SETNGS_PATH`** is defined in the master configuration file and **`NOAH_TABLE`** is **`VEGPARM.TBL`**, **`SOILPARM.TBL`** and **`GENPARM.TBL`**. The format for these files remains unchanged from their specification in Noah-MP, see here for an example. The parameter values in the Noah-MP overwrite the default values that have already been specified based on soil and vegetation type."
   ]
  },
  {
   "cell_type": "code",
   "execution_count": 9,
   "metadata": {},
   "outputs": [
    {
     "name": "stdout",
     "output_type": "stream",
     "text": [
      "General Parameters\n",
      "SLOPE_DATA\n",
      "9\n",
      "0.1 \n",
      "0.6\n",
      "1.0\n",
      "0.35\n",
      "0.55\n",
      "0.8\n",
      "0.63\n",
      "0.0\n",
      "0.0\n",
      "SBETA_DATA\n",
      "-2.0\n",
      "FXEXP_DATA\n",
      "2.0\n",
      "CSOIL_DATA\n",
      "2.00E+6\n",
      "SALP_DATA\n",
      "2.6\n",
      "REFDK_DATA\n",
      "2.0E-6\n",
      "REFKDT_DATA\n",
      "3.0\n",
      "FRZK_DATA\n",
      "0.15\n",
      "ZBOT_DATA\n",
      "-8.0\n",
      "CZIL_DATA\n",
      "0.1\n",
      "SMLOW_DATA\n",
      "0.5\n",
      "SMHIGH_DATA\n",
      "3.0\n",
      "LVCOEF_DATA\n",
      "0.5\n"
     ]
    }
   ],
   "source": [
    "for genparm in s.genparm:\n",
    "    print(genparm.splitlines()[0])"
   ]
  },
  {
   "cell_type": "code",
   "execution_count": 10,
   "metadata": {},
   "outputs": [
    {
     "name": "stdout",
     "output_type": "stream",
     "text": [
      "&noah_mp_usgs_veg_categories\n",
      " VEG_DATASET_DESCRIPTION = \"USGS\"\n",
      " NVEG = 27\n",
      "/\n",
      "&noah_mp_usgs_parameters\n",
      " ! NVEG = 27\n",
      " !  1: Urban and Built-Up Land\n",
      " !  2: Dryland Cropland and Pasture\n",
      " !  3: Irrigated Cropland and Pasture\n",
      " !  4: Mixed Dryland/Irrigated Cropland and Pasture\n",
      " !  5: Cropland/Grassland Mosaic\n",
      " !  6: Cropland/Woodland Mosaic\n",
      " !  7: Grassland\n",
      " !  8: Shrubland\n",
      " !  9: Mixed Shrubland/Grassland\n",
      " ! 10: Savanna\n",
      " ! 11: Deciduous Broadleaf Forest\n",
      " ! 12: Deciduous Needleleaf Forest\n",
      " ! 13: Evergreen Broadleaf Forest\n",
      " ! 14: Evergreen Needleleaf Forest\n",
      " ! 15: Mixed Forest\n",
      " ! 16: Water Bodies\n",
      " ! 17: Herbaceous Wetland\n",
      " ! 18: Wooded Wetland\n",
      " ! 19: Barren or Sparsely Vegetated\n",
      " ! 20: Herbaceous Tundra\n",
      " ! 21: Wooded Tundra\n",
      " ! 22: Mixed Tundra\n",
      " ! 23: Bare Ground Tundra\n",
      " ! 24: Snow or Ice\n",
      " ! 25: Playa\n",
      " ! 26: Lava\n",
      " ! 27: White Sand\n",
      "\n",
      " ISURBAN   = 1\n",
      " ISWATER   = 16\n",
      " ISBARREN  = 19\n",
      " ISSNOW    = 24\n",
      " EBLFOREST = 13\n",
      "\n",
      " !---------------------------------------------------------------------------------------------------------------------------------------------------------------------------------------------------\n",
      " !          1      2      3      4      5      6      7      8      9      10     11     12     13     14     15     16     17     18     19     20     21     22     23     24     25     26    27\n",
      " !---------------------------------------------------------------------------------------------------------------------------------------------------------------------------------------------------\n",
      " CH2OP =   0.1,   0.1,   0.1,   0.1,   0.1,   0.1,   0.1,   0.1,   0.1,   0.1,   0.1,   0.1,   0.1,   0.1,   0.1,   0.1,   0.1,   0.1,   0.1,   0.1,   0.1,   0.1,   0.1,   0.1,   0.1,   0.1,   0.1,\n",
      " DLEAF =  0.04,  0.04,  0.04,  0.04,  0.04,  0.04,  0.04,  0.04,  0.04,  0.04,  0.04,  0.04,  0.04,  0.04,  0.04,  0.04,  0.04,  0.04,  0.04,  0.04,  0.04,  0.04,  0.04,  0.04,  0.04,  0.04,  0.04,\n",
      " Z0MVT =  1.00,  0.06,  0.06,  0.06,  0.06,  0.15,  0.06,  0.06,  0.06,  0.86,  0.80,  0.85,  1.10,  1.09,  0.80,  0.00,  0.06,  0.05,  0.00,  0.04,  0.06,  0.06,  0.03,  0.00,  0.01,  0.00,  0.00,\n",
      " HVT   =  15.0,  0.50,  0.50,  0.50,  0.50,  1.25,  0.50,  0.50,  0.50,  16.0,  16.0,  18.0,  20.0,  20.0,  16.0,  0.00,  0.50,  0.80,  0.00,  0.50,  0.80,  0.80,  0.50,  0.00,  0.10,  0.00,  0.00,\n",
      " HVB   =  1.00,  0.10,  0.10,  0.10,  0.10,  0.15,  0.05,  0.10,  0.10,  3.00,  3.50,  3.00,  4.00,  3.50,  3.00,  0.00,  0.05,  0.10,  0.00,  0.10,  0.10,  0.10,  0.10,  0.00,  0.10,  0.00,  0.00,\n",
      " DEN   =  0.01,  25.0,  25.0,  25.0,  25.0,  25.0,  100.,  10.0,  10.0,  0.02,  0.10,  0.28,  0.02,  0.28,  0.10,  0.01,  10.0,  0.10,  0.01,  1.00,  1.00,  1.00,  1.00,  0.00,  0.01,  0.01,  0.01,\n",
      " RC    =  1.00,  0.08,  0.08,  0.08,  0.08,  0.08,  0.03,  0.12,  0.12,  3.00,  1.40,  1.20,  3.60,  1.20,  1.40,  0.01,  0.10,  1.40,  0.01,  0.30,  0.30,  0.30,  0.30,  0.00,  0.01,  0.01,  0.01,\n",
      "\n",
      " ! Row 1:  Vis\n",
      " ! Row 2:  Near IR\n",
      " RHOL  =  0.00,  0.11,  0.11,  0.11,  0.11,  0.11,  0.11,  0.07,  0.10,  0.10,  0.10,  0.07,  0.10,  0.07,  0.10,  0.00,  0.11,  0.10,  0.00,  0.10,  0.10,  0.10,  0.10,  0.00,  0.10,  0.00,  0.00,\n",
      "          0.00,  0.58,  0.58,  0.58,  0.58,  0.58,  0.58,  0.35,  0.45,  0.45,  0.45,  0.35,  0.45,  0.35,  0.45,  0.00,  0.58,  0.45,  0.00,  0.45,  0.45,  0.45,  0.45,  0.00,  0.45,  0.00,  0.00,\n",
      "\n",
      " ! Row 1:  Vis\n",
      " ! Row 2:  Near IR\n",
      " RHOS  =  0.00,  0.36,  0.36,  0.36,  0.36,  0.36,  0.36,  0.16,  0.16,  0.16,  0.16,  0.16,  0.16,  0.16,  0.16,  0.00,  0.36,  0.16,  0.00,  0.16,  0.16,  0.16,  0.16,  0.00,  0.16,  0.00,  0.00,\n",
      "          0.00,  0.58,  0.58,  0.58,  0.58,  0.58,  0.58,  0.39,  0.39,  0.39,  0.39,  0.39,  0.39,  0.39,  0.39,  0.00,  0.58,  0.39,  0.00,  0.39,  0.39,  0.39,  0.39,  0.00,  0.39,  0.00,  0.00,\n",
      "\n",
      " ! Row 1:  Vis\n",
      " ! Row 2:  Near IR\n",
      " TAUL  =  0.00,  0.07,  0.07,  0.07,  0.07,  0.07,  0.07,  0.05,  0.05,  0.05,  0.05,  0.05,  0.05,  0.05,  0.05,  0.00,  0.07,  0.05,  0.00,  0.05,  0.05,  0.05,  0.05,  0.00,  0.05,  0.00,  0.00,\n",
      "          0.00,  0.25,  0.25,  0.25,  0.25,  0.25,  0.25,  0.10,  0.10,  0.25,  0.25,  0.10,  0.25,  0.10,  0.25,  0.00,  0.25,  0.25,  0.00,  0.25,  0.25,  0.25,  0.25,  0.00,  0.25,  0.00,  0.00,\n",
      "\n",
      " ! Row 1:  Vis\n",
      " ! Row 2:  Near IR\n",
      " TAUS  = 0.000, 0.220, 0.220, 0.220, 0.220, 0.220, 0.220, 0.001, 0.001, 0.001, 0.001, 0.001, 0.001, 0.001, 0.001, 0.000, 0.220, 0.001, 0.000, 0.220, 0.001, 0.001, 0.001, 0.000, 0.001, 0.000, 0.000,\n",
      "         0.000, 0.380, 0.380, 0.380, 0.380, 0.380, 0.380, 0.001, 0.001, 0.001, 0.001, 0.001, 0.001, 0.001, 0.001, 0.000, 0.380, 0.001, 0.000, 0.380, 0.001, 0.001, 0.001, 0.000, 0.001, 0.000, 0.000,\n",
      "\n",
      " XL    = 0.000, -0.30, -0.30, -0.30, -0.30, -0.30, -0.30, 0.010, 0.250, 0.010, 0.250, 0.010, 0.010, 0.010, 0.250, 0.000, -0.30, 0.250, 0.000, -0.30, 0.250, 0.250, 0.250, 0.000, 0.250, 0.000, 0.000,\n",
      " CWPVT =   3.0,   3.0,   3.0,   3.0,   3.0,   3.0,   3.0,   3.0,   3.0,   3.0,   3.0,   3.0,   3.0,   3.0,   3.0,   3.0,   3.0,   3.0,   3.0,   3.0,   3.0,   3.0,   3.0,   3.0,   3.0,   3.0,   3.0,\n",
      " C3PSN =   1.0,   1.0,   1.0,   1.0,   1.0,   1.0,   1.0,   1.0,   1.0,   1.0,   1.0,   1.0,   1.0,   1.0,   1.0,   1.0,   1.0,   1.0,   1.0,   1.0,   1.0,   1.0,   1.0,   1.0,   1.0,   1.0,   1.0,\n",
      " KC25  =  30.0,  30.0,  30.0,  30.0,  30.0,  30.0,  30.0,  30.0,  30.0,  30.0,  30.0,  30.0,  30.0,  30.0,  30.0,  30.0,  30.0,  30.0,  30.0,  30.0,  30.0,  30.0,  30.0,  30.0,  30.0,  30.0,  30.0,\n",
      " AKC   =   2.1,   2.1,   2.1,   2.1,   2.1,   2.1,   2.1,   2.1,   2.1,   2.1,   2.1,   2.1,   2.1,   2.1,   2.1,   2.1,   2.1,   2.1,   2.1,   2.1,   2.1,   2.1,   2.1,   2.1,   2.1,   2.1,   2.1,\n",
      " KO25  =  3.E4,  3.E4,  3.E4,  3.E4,  3.E4,  3.E4,  3.E4,  3.E4,  3.E4,  3.E4,  3.E4,  3.E4,  3.E4,  3.E4,  3.E4,  3.E4,  3.E4,  3.E4,  3.E4,  3.E4,  3.E4,  3.E4,  3.E4,  3.E4,  3.E4,  3.E4,  3.E4,\n",
      " AKO   =   1.2,   1.2,   1.2,   1.2,   1.2,   1.2,   1.2,   1.2,   1.2,   1.2,   1.2,   1.2,   1.2,   1.2,   1.2,   1.2,   1.2,   1.2,   1.2,   1.2,   1.2,   1.2,   1.2,   1.2,   1.2,   1.2,   1.2,\n",
      " AVCMX =   2.4,   2.4,   2.4,   2.4,   2.4,   2.4,   2.4,   2.4,   2.4,   2.4,   2.4,   2.4,   2.4,   2.4,   2.4,   2.4,   2.4,   2.4,   2.4,   2.4,   2.4,   2.4,   2.4,   2.4,   2.4,   2.4,   2.4,\n",
      " AQE   =   1.0,   1.0,   1.0,   1.0,   1.0,   1.0,   1.0,   1.0,   1.0,   1.0,   1.0,   1.0,   1.0,   1.0,   1.0,   1.0,   1.0,   1.0,   1.0,   1.0,   1.0,   1.0,   1.0,   1.0,   1.0,   1.0,   1.0,\n",
      "\n",
      " LTOVRC=   0.0,   1.6,   1.8,   1.2,   1.2,  1.30,  0.50,  0.65,  0.70,  0.65,  0.55,   0.2,  0.55,   0.5,   0.5,   0.0,   1.4,   1.4,   0.0,   1.2,   1.3,   1.4,   1.0,   0.0,   1.0,   0.0,   0.0,\n",
      " DILEFC=  0.00,  0.50,  0.50,  0.50,  0.35,  0.20,  0.20,  0.20,  0.50,  0.50,  0.60,  1.80,  0.50,  1.20,  0.80,  0.00,  0.40,  0.40,  0.00,  0.40,  0.30,  0.40,  0.30,  0.00,  0.30,  0.00,  0.00,\n",
      " DILEFW=  0.00,  0.20,  0.20,  0.20,  0.20,  0.20,  0.10,  0.20,  0.20,  0.50,  0.20,  0.20,  4.00,  0.20,  0.20,  0.00,  0.20,  0.20,  0.00,  0.20,  0.20,  0.20,  0.20,  0.00,  0.20,  0.00,  0.00,\n",
      " RMF25 =  0.00,  1.00,  1.40,  1.45,  1.45,  1.45,  1.80,  0.26,  0.26,  0.80,  3.00,  4.00,  0.65,  3.00,  3.00,  0.00,  3.20,  3.20,  0.00,  3.20,  3.00,  3.00,  3.00,  0.00,  3.00,  0.00,  0.00,\n",
      " SLA   =    60,    80,    80,    80,    80,    80,    60,    60,    60,    50,    80,    80,    80,    80,    80,     0,    80,    80,     0,    80,    80,    80,    80,     0,    80,     0,     0,\n",
      " FRAGR =  0.00,  0.20,  0.20,  0.20,  0.20,  0.20,  0.20,  0.20,  0.20,  0.20,  0.20,  0.10,  0.20,  0.10,  0.10,  0.00,  0.10,  0.10,  0.10,  0.10,  0.10,  0.10,  0.10,  0.00,  0.10,  0.00,  0.00,\n",
      " TMIN  =     0,   273,   273,   273,   273,   273,   273,   273,   273,   273,   273,   268,   273,   265,   268,     0,   268,   268,     0,   268,   268,   268,   268,     0,   268,     0,     0,\n",
      " VCMX25=  0.00,  80.0,  80.0,  80.0,  60.0,  70.0,  40.0,  40.0,  40.0,  40.0,  60.0,  60.0,  60.0,  50.0,  55.0,  0.00,  50.0,  50.0,  0.00,  50.0,  50.0,  50.0,  50.0,  0.00,  50.0,  0.00,  0.00,\n",
      " TDLEF =   278,   278,   278,   278,   278,   278,   278,   278,   278,   278,   278,   268,   278,   278,   268,     0,   268,   268,     0,   268,   268,   268,   268,     0,   268,     0,     0,\n",
      " BP    = 1.E15,  2.E3,  2.E3,  2.E3,  2.E3,  2.E3,  2.E3,  2.E3,  2.E3,  2.E3,  2.E3,  2.E3,  2.E3,  2.E3,  2.E3, 1.E15,  2.E3,  2.E3,  2.E3,  2.E3,  2.E3,  2.E3,  2.E3, 1.E15,  2.E3, 1.E15, 1.E15,\n",
      " MP    =    9.,    9.,    9.,    9.,    9.,    9.,    9.,    9.,    9.,    9.,    9.,    6.,    9.,    6.,    9.,    9.,    9.,    9.,    9.,    9.,    9.,    9.,    9.,    9.,    9.,    9.,    9.,\n",
      " QE25  =    0.,  0.06,  0.06,  0.06,  0.06,  0.06,  0.06,  0.06,  0.06,  0.06,  0.06,  0.06,  0.06,  0.06,  0.06,  0.00,  0.06,  0.06,  0.06,  0.06,  0.06,  0.06,  0.06,  0.00,  0.06,  0.00,  0.00,\n",
      " RMS25 =  0.00,  0.10,  0.10,  0.10,  0.10,  0.10,  0.10,  0.10,  0.10,  0.32,  0.10,  0.64,  0.30,  0.90,  0.80,  0.00,  0.10,  0.10,  0.00,  0.10,  0.10,  0.10,  0.00,  0.00,  0.00,  0.00,  0.00,\n",
      " RMR25 =  0.00,  0.00,  0.00,  0.00,  0.00,  0.00,  1.20,  0.00,  0.00,  0.01,  0.01,  0.05,  0.05,  0.36,  0.03,  0.00,  0.00,  0.00,  0.00,  2.11,  2.11,  2.11,  0.00,  0.00,  0.00,  0.00,  0.00,\n",
      " ARM   =   2.0,   2.0,   2.0,   2.0,   2.0,   2.0,   2.0,   2.0,   2.0,   2.0,   2.0,   2.0,   2.0,   2.0,   2.0,   2.0,   2.0,   2.0,   2.0,   2.0,   2.0,   2.0,   2.0,   2.0,   2.0,   2.0,   2.0,\n",
      " FOLNMX=  0.00,   1.5,   1.5,   1.5,   1.5,   1.5,   1.5,   1.5,   1.5,   1.5,   1.5,   1.5,   1.5,   1.5,   1.5,  0.00,   1.5,   1.5,   1.5,   1.5,   1.5,   1.5,   1.5,  0.00,   1.5,  0.00,  0.00,\n",
      " WDPOOL=  0.00,  0.00,  0.00,  0.00,  0.00,  0.00,  0.00,  1.00,  1.00,  1.00,  1.00,  1.00,  1.00,  1.00,  1.00,  0.00,  0.00,  1.00,  0.00,  0.00,  1.00,  1.00,  0.00,  0.00,  0.00,  0.00,  0.00,\n",
      " WRRAT =  0.00,  0.00,  0.00,  0.00,  0.00,  0.00,  0.00,  3.00,  3.00,  3.00,  30.0,  30.0,  30.0,  30.0,  30.0,  0.00,  0.00,  30.0,  0.00,  0.00,  3.00,  3.00,  0.00,  0.00,  0.00,  0.00,  0.00,\n",
      " MRP   =  0.00,  0.23,  0.23,  0.23,  0.23,  0.23,  0.17,  0.19,  0.19,  0.40,  0.40,  0.37,  0.23,  0.37,  0.30,  0.00,  0.17,  0.40,  0.00,  0.17,  0.23,  0.20,  0.00,  0.00,  0.20,  0.00,  0.00,\n",
      "\n",
      "! Monthly values, one row for each month:\n",
      " SAIM  =   0.0,   0.0,   0.0,   0.0,   0.0,   0.1,   0.3,   0.1,   0.2,   0.1,   0.4,   0.3,   0.5,   0.4,   0.2,   0.0,   0.1,   0.1,   0.0,   0.1,   0.1,   0.1,   0.0,   0.0,   0.0,   0.0,   0.0,\n",
      "           0.0,   0.0,   0.0,   0.0,   0.0,   0.1,   0.3,   0.1,   0.2,   0.1,   0.4,   0.3,   0.5,   0.4,   0.2,   0.0,   0.1,   0.1,   0.0,   0.1,   0.1,   0.1,   0.0,   0.0,   0.0,   0.0,   0.0,\n",
      "           0.0,   0.0,   0.0,   0.0,   0.0,   0.1,   0.3,   0.1,   0.2,   0.1,   0.4,   0.3,   0.5,   0.4,   0.2,   0.0,   0.1,   0.1,   0.0,   0.1,   0.1,   0.1,   0.0,   0.0,   0.0,   0.0,   0.0,\n",
      "           0.0,   0.0,   0.0,   0.0,   0.0,   0.1,   0.3,   0.1,   0.2,   0.1,   0.4,   0.4,   0.5,   0.3,   0.2,   0.0,   0.1,   0.1,   0.0,   0.1,   0.1,   0.1,   0.0,   0.0,   0.0,   0.0,   0.0,\n",
      "           0.0,   0.0,   0.0,   0.0,   0.1,   0.2,   0.3,   0.1,   0.2,   0.1,   0.4,   0.4,   0.5,   0.4,   0.2,   0.0,   0.1,   0.1,   0.0,   0.1,   0.1,   0.1,   0.0,   0.0,   0.0,   0.0,   0.0,\n",
      "           0.0,   0.0,   0.0,   0.0,   0.2,   0.2,   0.4,   0.2,   0.3,   0.1,   0.4,   0.7,   0.5,   0.5,   0.4,   0.0,   0.2,   0.2,   0.0,   0.2,   0.2,   0.2,   0.0,   0.0,   0.0,   0.0,   0.0,\n",
      "           0.0,   0.0,   0.0,   0.0,   0.3,   0.3,   0.8,   0.2,   0.5,   0.1,   0.9,   1.3,   0.5,   0.5,   0.4,   0.0,   0.4,   0.4,   0.0,   0.2,   0.2,   0.2,   0.0,   0.0,   0.0,   0.0,   0.0,\n",
      "           0.0,   0.0,   0.0,   0.0,   0.5,   0.2,   1.3,   0.1,   0.8,   0.1,   1.2,   1.2,   0.5,   0.6,   0.5,   0.0,   0.6,   0.6,   0.0,   0.3,   0.3,   0.3,   0.0,   0.0,   0.0,   0.0,   0.0,\n",
      "           0.0,   0.0,   0.0,   0.0,   0.4,   0.1,   1.1,   0.1,   0.5,   0.1,   1.6,   1.0,   0.5,   0.6,   0.5,   0.0,   0.5,   0.5,   0.0,   0.3,   0.3,   0.3,   0.0,   0.0,   0.0,   0.0,   0.0,\n",
      "           0.0,   0.0,   0.0,   0.0,   0.1,   0.1,   0.4,   0.1,   0.2,   0.1,   1.4,   0.8,   0.5,   0.7,   0.6,   0.0,   0.2,   0.2,   0.0,   0.2,   0.2,   0.2,   0.0,   0.0,   0.0,   0.0,   0.0,\n",
      "           0.0,   0.0,   0.0,   0.0,   0.0,   0.1,   0.4,   0.1,   0.2,   0.1,   0.6,   0.6,   0.5,   0.6,   0.5,   0.0,   0.2,   0.2,   0.0,   0.2,   0.2,   0.2,   0.0,   0.0,   0.0,   0.0,   0.0,\n",
      "           0.0,   0.0,   0.0,   0.0,   0.0,   0.1,   0.4,   0.1,   0.2,   0.1,   0.4,   0.5,   0.5,   0.5,   0.3,   0.0,   0.1,   0.1,   0.0,   0.1,   0.1,   0.1,   0.0,   0.0,   0.0,   0.0,   0.0,\n",
      "\n",
      " LAIM  =   0.0,   0.0,   0.4,   0.4,   0.4,   0.0,   0.4,   1.0,   1.0,   1.0,   0.0,   0.0,   3.5,   1.6,   1.0,   0.0,   0.4,   0.2,   0.0,   0.0,   0.0,   0.0,   0.0,   0.0,   0.0,   0.0,   0.0,\n",
      "           0.0,   0.0,   0.5,   0.5,   0.5,   0.0,   0.5,   1.0,   1.0,   1.0,   0.0,   0.0,   3.5,   1.6,   1.0,   0.0,   0.5,   0.4,   0.0,   0.0,   0.0,   0.0,   0.0,   0.0,   0.0,   0.0,   0.0,\n",
      "           0.0,   0.0,   0.6,   0.6,   0.6,   0.0,   0.6,   1.0,   1.0,   1.0,   0.3,   0.0,   3.5,   1.6,   1.0,   0.0,   0.6,   0.4,   0.0,   0.0,   0.0,   0.0,   0.0,   0.0,   0.0,   0.0,   0.0,\n",
      "           0.0,   0.0,   0.7,   0.7,   0.7,   0.5,   0.7,   1.0,   1.5,   1.0,   1.2,   0.6,   3.5,   1.6,   1.0,   0.0,   0.7,   0.4,   0.0,   0.2,   0.2,   0.2,   0.0,   0.0,   0.0,   0.0,   0.0,\n",
      "           0.0,   1.0,   1.2,   1.2,   1.2,   1.5,   1.2,   1.0,   2.0,   1.0,   3.0,   1.2,   3.5,   5.3,   2.3,   0.0,   1.2,   0.5,   0.0,   0.5,   0.5,   0.5,   0.0,   0.0,   0.0,   0.0,   0.0,\n",
      "           0.0,   2.0,   3.0,   3.0,   3.0,   2.5,   3.0,   1.0,   2.5,   1.0,   4.7,   2.0,   3.5,   5.5,   3.5,   0.0,   3.0,   0.7,   0.0,   1.0,   1.0,   1.0,   0.0,   0.0,   0.0,   0.0,   0.0,\n",
      "           0.0,   3.0,   3.5,   3.5,   3.5,   3.5,   3.5,   1.0,   3.0,   1.0,   4.5,   2.6,   3.5,   5.3,   4.3,   0.0,   3.5,   1.7,   0.0,   2.0,   2.0,   2.0,   0.0,   0.0,   0.0,   0.0,   0.0,\n",
      "           0.0,   3.0,   1.5,   1.5,   1.5,   3.5,   1.5,   1.0,   2.5,   1.0,   3.4,   1.7,   3.5,   5.3,   3.3,   0.0,   1.5,   3.0,   0.0,   1.0,   1.0,   1.0,   0.0,   0.0,   0.0,   0.0,   0.0,\n",
      "           0.0,   1.5,   0.7,   0.7,   0.7,   2.0,   0.7,   1.0,   1.5,   1.0,   1.2,   1.0,   3.5,   4.2,   2.2,   0.0,   0.7,   2.5,   0.0,   0.5,   0.5,   0.5,   0.0,   0.0,   0.0,   0.0,   0.0,\n",
      "           0.0,   0.0,   0.6,   0.6,   0.6,   1.0,   0.6,   1.0,   1.0,   1.0,   0.3,   0.5,   3.5,   2.2,   1.2,   0.0,   0.6,   1.6,   0.0,   0.2,   0.2,   0.2,   0.0,   0.0,   0.0,   0.0,   0.0,\n",
      "           0.0,   0.0,   0.5,   0.5,   0.5,   0.0,   0.5,   1.0,   1.0,   1.0,   0.0,   0.2,   3.5,   2.2,   1.2,   0.0,   0.5,   0.8,   0.0,   0.0,   0.0,   0.0,   0.0,   0.0,   0.0,   0.0,   0.0,\n",
      "           0.0,   0.0,   0.4,   0.4,   0.4,   0.0,   0.4,   1.0,   1.0,   1.0,   0.0,   0.0,   3.5,   2.2,   1.2,   0.0,   0.4,   0.4,   0.0,   0.0,   0.0,   0.0,   0.0,   0.0,   0.0,   0.0,   0.0,\n",
      "\n",
      " SLAREA=0.0228,0.0200,0.0200,0.0295,0.0223,0.0277,0.0060,0.0227,0.0188,0.0236,0.0258,0.0200,0.0200,0.0090,0.0223,0.0422,0.0390,  0.02,  0.02,  0.02,  0.02,  0.02,  0.02,  0.02,  0.02,  0.02,  0.02,\n",
      "\n",
      "! Five types, one row for each type.\n",
      " EPS   = 41.87,  0.00,  0.00,  2.52,  0.04, 17.11,  0.02, 21.62,  0.11, 22.80, 46.86,  0.00,  0.00,  0.46, 30.98,  2.31,  1.63,   0.0,   0.0,   0.0,   0.0,   0.0,   0.0,   0.0,   0.0,   0.0,   0.0,\n",
      "          0.98,  0.00,  0.00,  0.16,  0.09,  0.28,  0.05,  0.92,  0.22,  0.59,  0.38,  0.00,  0.00,  3.34,  0.96,  1.47,  1.07,   0.0,   0.0,   0.0,   0.0,   0.0,   0.0,   0.0,   0.0,   0.0,   0.0,\n",
      "          1.82,  0.00,  0.00,  0.23,  0.05,  0.81,  0.03,  1.73,  1.26,  1.37,  1.84,  0.00,  0.00,  1.85,  1.84,  1.70,  1.21,   0.0,   0.0,   0.0,   0.0,   0.0,   0.0,   0.0,   0.0,   0.0,   0.0,\n",
      "           0.0,   0.0,   0.0,   0.0,   0.0,   0.0,   0.0,   0.0,   0.0,   0.0,   0.0,   0.0,   0.0,   0.0,   0.0,   0.0,   0.0,   0.0,   0.0,   0.0,   0.0,   0.0,   0.0,   0.0,   0.0,   0.0,   0.0,\n",
      "           0.0,   0.0,   0.0,   0.0,   0.0,   0.0,   0.0,   0.0,   0.0,   0.0,   0.0,   0.0,   0.0,   0.0,   0.0,   0.0,   0.0,   0.0,   0.0,   0.0,   0.0,   0.0,   0.0,   0.0,   0.0,   0.0,   0.0,\n",
      "/\n",
      "\n",
      "\n",
      "&noah_mp_modis_veg_categories\n",
      " VEG_DATASET_DESCRIPTION = \"modified igbp modis noah\"\n",
      " NVEG = 20\n",
      "/\n",
      "\n",
      "&noah_mp_modis_parameters\n",
      "! 1          'Evergreen Needleleaf Forest'                       -> USGS 14\n",
      "! 2,         'Evergreen Broadleaf Forest'                        -> USGS 13\n",
      "! 3,         'Deciduous Needleleaf Forest'                       -> USGS 12\n",
      "! 4,         'Deciduous Broadleaf Forest'                        -> USGS 11\n",
      "! 5,         'Mixed Forests'                                     -> USGS 15\n",
      "! 6,         'Closed Shrublands'                                 -> USGS  8 \"shrubland\"\n",
      "! 7,         'Open Shrublands'                                   -> USGS  9 \"shrubland/grassland\"\n",
      "! 8,         'Woody Savannas'                                    -> USGS  8 \"shrubland\"\n",
      "! 9,         'Savannas'                                          -> USGS 10\n",
      "! 10,        'Grasslands'                                        -> USGS  7\n",
      "! 11         'Permanent wetlands'                                -> avg of USGS 17 and 18 (herb. wooded wetland)\n",
      "! 12,        'Croplands'                                         -> USGS  2 \"dryland cropland\"\n",
      "! 13,        'Urban and Built-Up'                                -> USGS  1\n",
      "! 14         'cropland/natural vegetation mosaic'                -> USGS  5 \"cropland/grassland\"\n",
      "! 15,        'Snow and Ice'                                      -> USGS 24\n",
      "! 16,        'Barren or Sparsely Vegetated'                      -> USGS 19\n",
      "! 17,        'Water'                                             -> USGS 16\n",
      "! 18,        'Wooded Tundra'                                     -> USGS 21\n",
      "! 19,        'Mixed Tundra'                                      -> USGS 22\n",
      "! 20,        'Barren Tundra'                                     -> USGS 23\n",
      "\n",
      " ISURBAN   = 13\n",
      " ISWATER   = 17\n",
      " ISBARREN  = 16\n",
      " ISSNOW    = 15\n",
      " EBLFOREST =  2\n",
      "\n",
      " !---------------------------------------------------------------------------------------------------------------------------------------------------------------------\n",
      " !          1       2       3       4       5       6       7       8       9      10      11      12      13      14      15      16      17      18      19      20\n",
      " !---------------------------------------------------------------------------------------------------------------------------------------------------------------------\n",
      " CH2OP =   0.1,    0.1,    0.1,    0.1,    0.1,    0.1,    0.1,    0.1,    0.1,    0.1,    0.1,    0.1,    0.1,    0.1,    0.1,    0.1,    0.1,    0.1,    0.1,    0.1,\n",
      " DLEAF =  0.04,   0.04,   0.04,   0.04,   0.04,   0.04,   0.04,   0.04,   0.04,   0.04,   0.04,   0.04,   0.04,   0.04,   0.04,   0.04,   0.04,   0.04,   0.04,   0.04,\n",
      " Z0MVT =  1.09,   1.10,   0.85,   0.80,   0.80,   0.06,   0.06,   0.06,   0.86,   0.06,  0.055,   0.06,   1.00,   0.06,   0.00,   0.00,   0.00,   0.06,   0.06,   0.03,\n",
      "! Z0MVT =  0.50,   0.50,   0.50,   0.50,   0.50,   0.05,   0.06,   0.05,   0.15,   0.12,  0.30,   0.15,   0.80,   0.14,   0.00,   0.01,   0.00,   0.30,   0.15,   0.10,\n",
      " HVT   =  20.0,   20.0,   18.0,   16.0,   16.0,   0.50,   0.50,   0.50,   16.0,   0.50,   0.65,   0.50,   15.0,   0.50,   0.00,   0.00,   0.00,   0.80,   0.80,   0.50,\n",
      " HVB   =  8.50,   8.00,   7.00,   11.5,   10.0,   0.10,   0.10,   0.10,   5.00,   0.05,  0.075,   0.10,   1.00,   0.10,   0.00,   0.00,   0.00,   0.10,   0.10,   0.10,\n",
      " DEN   =  0.28,   0.02,   0.28,   0.10,   0.10,   10.0,   10.0,   10.0,   0.02,   100.,   5.05,   25.0,   0.01,   25.0,   0.00,   0.01,   0.01,   1.00,   1.00,   1.00,\n",
      " RC    =  1.20,   3.60,   1.20,   1.40,   1.40,   0.12,   0.12,   0.12,   3.00,   0.03,   0.75,   0.08,   1.00,   0.08,   0.00,   0.01,   0.01,   0.30,   0.30,   0.30,\n",
      "\n",
      " ! Row 1:  Vis\n",
      " ! Row 2:  Near IR\n",
      " RHOL  =  0.07,   0.10,   0.07,   0.10,   0.10,   0.07,   0.10,   0.07,   0.10,   0.11,  0.105,   0.11,   0.00,   0.11,   0.00,   0.00,   0.00,   0.10,   0.10,   0.10,\n",
      "          0.35,   0.45,   0.35,   0.45,   0.45,   0.35,   0.45,   0.35,   0.45,   0.58,  0.515,   0.58,   0.00,   0.58,   0.00,   0.00,   0.00,   0.45,   0.45,   0.45,\n",
      "\n",
      " ! Row 1:  Vis\n",
      " ! Row 2:  Near IR\n",
      " RHOS  =  0.16,   0.16,   0.16,   0.16,   0.16,   0.16,   0.16,   0.16,   0.16,   0.36,   0.26,   0.36,   0.00,   0.36,   0.00,   0.00,   0.00,   0.16,   0.16,   0.16,\n",
      "          0.39,   0.39,   0.39,   0.39,   0.39,   0.39,   0.39,   0.39,   0.39,   0.58,  0.485,   0.58,   0.00,   0.58,   0.00,   0.00,   0.00,   0.39,   0.39,   0.39,\n",
      "\n",
      " ! Row 1:  Vis\n",
      " ! Row 2:  Near IR\n",
      " TAUL  =  0.05,   0.05,   0.05,   0.05,   0.05,   0.05,   0.05,   0.05,   0.05,   0.07,   0.06,   0.07,   0.00,   0.07,   0.00,   0.00,   0.00,   0.05,   0.05,   0.05,\n",
      "          0.10,   0.25,   0.10,   0.25,   0.25,   0.10,   0.10,   0.10,   0.25,   0.25,   0.25,   0.25,   0.00,   0.25,   0.00,   0.00,   0.00,   0.25,   0.25,   0.25,\n",
      "\n",
      " ! Row 1:  Vis\n",
      " ! Row 2:  Near IR\n",
      " TAUS  = 0.001,  0.001,  0.001,  0.001,  0.001,  0.001,  0.001,  0.001,  0.001,  0.220, 0.1105,  0.220,  0.000,  0.220,  0.000,  0.000,  0.000,  0.001,  0.001,  0.001,\n",
      "         0.001,  0.001,  0.001,  0.001,  0.001,  0.001,  0.001,  0.001,  0.001,  0.380, 0.1905,  0.380,  0.000,  0.380,  0.000,  0.000,  0.000,  0.001,  0.001,  0.001,\n",
      "\n",
      " XL    = 0.010,  0.010,  0.010,  0.250,  0.250,  0.010,  0.250,  0.010,  0.010,  -0.30, -0.025,  -0.30,  0.000,  -0.30,  0.000,  0.000,  0.000,  0.250,  0.250,  0.250,\n",
      " CWPVT =   3.0,    3.0,    3.0,    3.0,    3.0,    3.0,    3.0,    3.0,    3.0,    3.0,    3.0,    3.0,    3.0,    3.0,    3.0,    3.0,    3.0,    3.0,    3.0,    3.0,\n",
      "! CWPVT =  0.18,   0.18,   0.18,   0.18,   0.18,   0.18,   0.18,   0.18,   0.18,   0.18,   0.18,   0.18,   0.18,   0.18,   0.18,   0.18,   0.18,   0.18,   0.18,   0.18,\n",
      " C3PSN =   1.0,    1.0,    1.0,    1.0,    1.0,    1.0,    1.0,    1.0,    1.0,    1.0,    1.0,    1.0,    1.0,    1.0,    1.0,    1.0,    1.0,    1.0,    1.0,    1.0,\n",
      " KC25  =  30.0,   30.0,   30.0,   30.0,   30.0,   30.0,   30.0,   30.0,   30.0,   30.0,   30.0,   30.0,   30.0,   30.0,   30.0,   30.0,   30.0,   30.0,   30.0,   30.0,\n",
      " AKC   =   2.1,    2.1,    2.1,    2.1,    2.1,    2.1,    2.1,    2.1,    2.1,    2.1,    2.1,    2.1,    2.1,    2.1,    2.1,    2.1,    2.1,    2.1,    2.1,    2.1,\n",
      " KO25  =  3.E4,   3.E4,   3.E4,   3.E4,   3.E4,   3.E4,   3.E4,   3.E4,   3.E4,   3.E4,   3.E4,   3.E4,   3.E4,   3.E4,   3.E4,   3.E4,   3.E4,   3.E4,   3.E4,   3.E4,\n",
      " AKO   =   1.2,    1.2,    1.2,    1.2,    1.2,    1.2,    1.2,    1.2,    1.2,    1.2,    1.2,    1.2,    1.2,    1.2,    1.2,    1.2,    1.2,    1.2,    1.2,    1.2,\n",
      " AVCMX =   2.4,    2.4,    2.4,    2.4,    2.4,    2.4,    2.4,    2.4,    2.4,    2.4,    2.4,    2.4,    2.4,    2.4,    2.4,    2.4,    2.4,    2.4,    2.4,    2.4,\n",
      " AQE   =   1.0,    1.0,    1.0,    1.0,    1.0,    1.0,    1.0,    1.0,    1.0,    1.0,    1.0,    1.0,    1.0,    1.0,    1.0,    1.0,    1.0,    1.0,    1.0,    1.0,\n",
      "\n",
      " LTOVRC=   0.5,   0.55,    0.2,   0.55,    0.5,   0.65,   0.70,   0.65,   0.65,   0.50,    1.4,    1.6,    0.0,    1.2,    0.0,    0.0,    0.0,    1.3,    1.4,    1.0,\n",
      " DILEFC=  1.20,   0.50,   1.80,   0.60,   0.80,   0.20,   0.50,   0.20,   0.50,   0.20,    0.4,   0.50,   0.00,   0.35,   0.00,   0.00,   0.00,   0.30,   0.40,   0.30,\n",
      " DILEFW=  0.20,   4.00,   0.20,   0.20,   0.20,   0.20,   0.20,   0.20,   0.50,   0.10,    0.2,   0.20,   0.00,   0.20,   0.00,   0.00,   0.00,   0.20,   0.20,   0.20,\n",
      " RMF25 =  3.00,   0.65,   4.00,   3.00,   3.00,   0.26,   0.26,   0.26,   0.80,   1.80,    3.2,   1.00,   0.00,   1.45,   0.00,   0.00,   0.00,   3.00,   3.00,   3.00,\n",
      " SLA   =    80,     80,     80,     80,     80,     60,     60,     60,     50,     60,     80,     80,     60,     80,      0,      0,      0,     80,     80,     80,\n",
      " FRAGR =  0.10,   0.20,   0.10,   0.20,   0.10,   0.20,   0.20,   0.20,   0.20,   0.20,    0.1,   0.20,   0.00,   0.20,   0.00,   0.10,   0.00,   0.10,   0.10,   0.10,\n",
      " TMIN  =   265,    273,    268,    273,    268,    273,    273,    273,    273,    273,    268,    273,      0,    273,      0,      0,      0,    268,    268,    268,\n",
      " VCMX25=  50.0,   60.0,   60.0,   60.0,   55.0,   40.0,   40.0,   40.0,   40.0,   40.0,   50.0,   80.0,   0.00,   60.0,   0.00,   0.00,   0.00,   50.0,   50.0,   50.0,\n",
      " TDLEF =   278,    278,    268,    278,    268,    278,    278,    278,    278,    278,    268,    278,    278,    278,      0,      0,      0,    268,    268,    268,\n",
      " BP    =  2.E3,   2.E3,   2.E3,   2.E3,   2.E3,   2.E3,   2.E3,   2.E3,   2.E3,   2.E3,   2.E3,   2.E3,  1.E15,   2.E3,  1.E15,   2.E3,  1.E15,   2.E3,   2.E3,   2.E3,\n",
      " MP    =    6.,     9.,     6.,     9.,     9.,     9.,     9.,     9.,     9.,     9.,     9.,     9.,     9.,     9.,     9.,     9.,     9.,     9.,     9.,     9.,\n",
      " QE25  =  0.06,   0.06,   0.06,   0.06,   0.06,   0.06,   0.06,   0.06,   0.06,   0.06,   0.06,   0.06,   0.00,   0.06,   0.00,   0.06,   0.00,   0.06,   0.06,   0.06,\n",
      " RMS25 =  0.90,   0.30,   0.64,   0.10,   0.80,   0.10,   0.10,   0.10,   0.32,   0.10,   0.10,   0.10,   0.00,   0.10,   0.00,   0.00,   0.00,   0.10,   0.10,   0.00,\n",
      " RMR25 =  0.36,   0.05,   0.05,   0.01,   0.03,   0.00,   0.00,   0.00,   0.01,   1.20,    0.0,   0.00,   0.00,   0.00,   0.00,   0.00,   0.00,   2.11,   2.11,   0.00,\n",
      " ARM   =   2.0,    2.0,    2.0,    2.0,    2.0,    2.0,    2.0,    2.0,    2.0,    2.0,    2.0,    2.0,    2.0,    2.0,    2.0,    2.0,    2.0,    2.0,    2.0,    2.0,\n",
      " FOLNMX=   1.5,    1.5,    1.5,    1.5,    1.5,    1.5,    1.5,    1.5,    1.5,    1.5,    1.5,    1.5,   0.00,    1.5,   0.00,    1.5,   0.00,    1.5,    1.5,    1.5,\n",
      " WDPOOL=  1.00,   1.00,   1.00,   1.00,   1.00,   1.00,   1.00,   1.00,   1.00,   0.00,    0.5,   0.00,   0.00,   0.00,   0.00,   0.00,   0.00,   1.00,   1.00,   0.00,\n",
      " WRRAT =  30.0,   30.0,   30.0,   30.0,   30.0,   3.00,   3.00,   3.00,   3.00,   0.00,   15.0,   0.00,   0.00,   0.00,   0.00,   0.00,   0.00,   3.00,   3.00,   0.00,\n",
      " MRP   =  0.37,   0.23,   0.37,   0.40,   0.30,   0.19,   0.19,   0.19,   0.40,   0.17,  0.285,   0.23,   0.00,   0.23,   0.00,   0.00,   0.00,   0.23,   0.20,   0.00,\n",
      "\n",
      "! Monthly values, one row for each month:\n",
      " SAIM  =   0.4,    0.5,    0.3,    0.4,    0.2,    0.1,    0.2,    0.1,    0.1,    0.3,    0.1,    0.0,    0.0,    0.0,    0.0,    0.0,    0.0,    0.1,    0.1,    0.0,\n",
      "           0.4,    0.5,    0.3,    0.4,    0.2,    0.1,    0.2,    0.1,    0.1,    0.3,    0.1,    0.0,    0.0,    0.0,    0.0,    0.0,    0.0,    0.1,    0.1,    0.0,\n",
      "           0.4,    0.5,    0.3,    0.4,    0.2,    0.1,    0.2,    0.1,    0.1,    0.3,    0.1,    0.0,    0.0,    0.0,    0.0,    0.0,    0.0,    0.1,    0.1,    0.0,\n",
      "           0.3,    0.5,    0.4,    0.4,    0.2,    0.1,    0.2,    0.1,    0.1,    0.3,    0.1,    0.0,    0.0,    0.0,    0.0,    0.0,    0.0,    0.1,    0.1,    0.0,\n",
      "           0.4,    0.5,    0.4,    0.4,    0.2,    0.1,    0.2,    0.1,    0.1,    0.3,    0.1,    0.0,    0.0,    0.1,    0.0,    0.0,    0.0,    0.1,    0.1,    0.0,\n",
      "           0.5,    0.5,    0.7,    0.4,    0.4,    0.2,    0.3,    0.2,    0.1,    0.4,    0.2,    0.0,    0.0,    0.2,    0.0,    0.0,    0.0,    0.2,    0.2,    0.0,\n",
      "           0.5,    0.5,    1.3,    0.9,    0.4,    0.2,    0.5,    0.2,    0.1,    0.8,    0.4,    0.0,    0.0,    0.3,    0.0,    0.0,    0.0,    0.2,    0.2,    0.0,\n",
      "           0.6,    0.5,    1.2,    1.2,    0.5,    0.1,    0.8,    0.1,    0.1,    1.3,    0.6,    0.0,    0.0,    0.5,    0.0,    0.0,    0.0,    0.3,    0.3,    0.0,\n",
      "           0.6,    0.5,    1.0,    1.6,    0.5,    0.1,    0.5,    0.1,    0.1,    1.1,    0.5,    0.0,    0.0,    0.4,    0.0,    0.0,    0.0,    0.3,    0.3,    0.0,\n",
      "           0.7,    0.5,    0.8,    1.4,    0.6,    0.1,    0.2,    0.1,    0.1,    0.4,    0.2,    0.0,    0.0,    0.1,    0.0,    0.0,    0.0,    0.2,    0.2,    0.0,\n",
      "           0.6,    0.5,    0.6,    0.6,    0.5,    0.1,    0.2,    0.1,    0.1,    0.4,    0.2,    0.0,    0.0,    0.0,    0.0,    0.0,    0.0,    0.2,    0.2,    0.0,\n",
      "           0.5,    0.5,    0.5,    0.4,    0.3,    0.1,    0.2,    0.1,    0.1,    0.4,    0.1,    0.0,    0.0,    0.0,    0.0,    0.0,    0.0,    0.1,    0.1,    0.0,\n",
      "\n",
      " LAIM  =   1.6,    4.5,    0.0,    0.0,    1.0,    1.0,    1.0,    1.0,    1.0,    0.4,    0.3,    0.0,    0.0,    0.4,    0.0,    0.0,    0.0,    0.0,    0.0,    0.0,\n",
      "           1.6,    4.5,    0.0,    0.0,    1.0,    1.0,    1.0,    1.0,    1.0,    0.5,   0.45,    0.0,    0.0,    0.5,    0.0,    0.0,    0.0,    0.0,    0.0,    0.0,\n",
      "           1.6,    4.5,    0.0,    0.3,    1.0,    1.0,    1.0,    1.0,    1.0,    0.6,    0.5,    0.0,    0.0,    0.6,    0.0,    0.0,    0.0,    0.0,    0.0,    0.0,\n",
      "           1.6,    4.5,    0.6,    1.2,    1.0,    1.0,    1.5,    1.0,    1.0,    0.7,   0.55,    0.0,    0.0,    0.7,    0.0,    0.0,    0.0,    0.2,    0.2,    0.0,\n",
      "           5.3,    4.5,    1.2,    3.0,    2.3,    1.0,    2.0,    1.0,    1.0,    1.2,   0.85,    1.0,    0.0,    1.2,    0.0,    0.0,    0.0,    0.5,    0.5,    0.0,\n",
      "           5.5,    4.5,    2.0,    4.7,    3.5,    1.0,    2.5,    1.0,    1.0,    3.0,   1.85,    2.0,    0.0,    3.0,    0.0,    0.0,    0.0,    1.0,    1.0,    0.0,\n",
      "           5.3,    4.5,    2.6,    4.5,    4.3,    1.0,    3.0,    1.0,    1.0,    3.5,    2.6,    3.0,    0.0,    3.5,    0.0,    0.0,    0.0,    2.0,    2.0,    0.0,\n",
      "           5.3,    4.5,    1.7,    3.4,    3.3,    1.0,    2.5,    1.0,    1.0,    1.5,   2.25,    3.0,    0.0,    1.5,    0.0,    0.0,    0.0,    1.0,    1.0,    0.0,\n",
      "           4.2,    4.5,    1.0,    1.2,    2.2,    1.0,    1.5,    1.0,    1.0,    0.7,    1.6,    1.5,    0.0,    0.7,    0.0,    0.0,    0.0,    0.5,    0.5,    0.0,\n",
      "           2.2,    4.5,    0.5,    0.3,    1.2,    1.0,    1.0,    1.0,    1.0,    0.6,    1.1,    0.0,    0.0,    0.6,    0.0,    0.0,    0.0,    0.2,    0.2,    0.0,\n",
      "           2.2,    4.5,    0.2,    0.0,    1.2,    1.0,    1.0,    1.0,    1.0,    0.5,   0.65,    0.0,    0.0,    0.5,    0.0,    0.0,    0.0,    0.0,    0.0,    0.0,\n",
      "           2.2,    4.5,    0.0,    0.0,    1.2,    1.0,    1.0,    1.0,    1.0,    0.4,    0.4,    0.0,    0.0,    0.4,    0.0,    0.0,    0.0,    0.0,    0.0,    0.0,\n",
      "\n",
      "! LAIM  =   5.1,    3.3,    0.0,    1.9,    3.0,    1.0,    0.8,    0.5,    0.5,    0.7,    0.3,    1.8,    0.0,    2.4,    0.0,    0.0,    0.0,    0.6,    0.7,    0.0,\n",
      "!           5.0,    3.6,    0.0,    1.9,    2.9,    1.0,    0.6,    1.0,    1.0,    0.7,   0.45,    1.9,    0.0,    2.6,    0.0,    0.0,    0.0,    0.4,    0.4,    0.0,\n",
      "!           5.1,    4.4,    0.0,    2.1,    3.3,    1.0,    0.8,    1.8,    1.7,    1.1,    0.5,    2.6,    0.0,    2.9,    0.0,    0.0,    0.0,    0.4,    0.4,    0.0,\n",
      "!           5.3,    5.4,    0.6,    2.5,    4.0,    1.0,    0.9,    2.6,    2.9,    1.7,   0.55,    3.9,    0.0,    3.4,    0.0,    0.0,    0.0,    0.4,    0.4,    0.0,\n",
      "!           5.9,    6.2,    1.2,    3.1,    5.0,    1.0,    1.5,    3.4,    3.6,    2.5,   0.85,    5.2,    0.0,    4.0,    0.0,    0.0,    0.0,    0.8,    1.0,    0.0,\n",
      "!           6.3,    6.4,    2.0,    3.3,    5.4,    1.0,    2.1,    3.6,    3.5,    2.7,   1.85,    5.6,    0.0,    4.2,    0.0,    0.0,    0.0,    2.0,    2.3,    0.0,\n",
      "!           6.4,    5.9,    2.6,    3.3,    5.4,    1.0,    2.6,    3.4,    2.9,    2.8,    2.6,    5.3,    0.0,    4.1,    0.0,    0.0,    0.0,    3.3,    3.3,    0.0,\n",
      "!           6.1,    5.6,    1.7,    3.1,    5.0,    1.0,    2.4,    3.2,    2.7,    2.4,   2.25,    4.5,    0.0,    3.8,    0.0,    0.0,    0.0,    3.3,    3.0,    0.0,\n",
      "!           6.0,    5.3,    1.0,    2.9,    4.8,    1.0,    2.2,    2.9,    2.4,    2.1,    1.6,    4.1,    0.0,    3.7,    0.0,    0.0,    0.0,    2.8,    3.0,    0.0,\n",
      "!           5.5,    4.7,    0.5,    2.6,    4.1,    1.0,    1.6,    2.3,    1.8,    1.7,    1.1,    3.2,    0.0,    3.2,    0.0,    0.0,    0.0,    1.4,    1.4,    0.0,\n",
      "!           5.2,    4.0,    0.2,    2.2,    3.4,    1.0,    1.0,    1.5,    1.4,    1.3,   0.65,    2.3,    0.0,    2.7,    0.0,    0.0,    0.0,    0.5,    0.7,    0.0,\n",
      "!           5.1,    3.2,    0.0,    1.9,    3.0,    1.0,    0.9,    0.7,    0.7,    0.8,    0.4,    1.7,    0.0,    2.4,    0.0,    0.0,    0.0,    0.8,    0.7,    0.0,\n",
      "\n",
      " SLAREA=0.0090, 0.0200, 0.0200, 0.0258, 0.0223, 0.0227, 0.0188, 0.0227, 0.0236, 0.0060, 0.0295, 0.0200, 0.0228, 0.0223,   0.02,   0.02, 0.0422,   0.02,   0.02,   0.02,\n",
      "\n",
      "! Five types, one row for each type.\n",
      " EPS   =  0.46,   0.00,   0.00,  46.86,  30.98,  21.62,   0.11,  21.62,  22.80,   0.02,  0.815,   0.00,  41.87,   0.04,    0.0,    0.0,   2.31,    0.0,    0.0,    0.0,\n",
      "          3.34,   0.00,   0.00,   0.38,   0.96,   0.92,   0.22,   0.92,   0.59,   0.05,  0.535,   0.00,   0.98,   0.09,    0.0,    0.0,   1.47,    0.0,    0.0,    0.0,\n",
      "          1.85,   0.00,   0.00,   1.84,   1.84,   1.73,   1.26,   1.73,   1.37,   0.03,  0.605,   0.00,   1.82,   0.05,    0.0,    0.0,   1.70,    0.0,    0.0,    0.0,\n",
      "           0.0,    0.0,    0.0,    0.0,    0.0,    0.0,    0.0,    0.0,    0.0,    0.0,    0.0,    0.0,    0.0,    0.0,    0.0,    0.0,    0.0,    0.0,    0.0,    0.0,\n",
      "           0.0,    0.0,    0.0,    0.0,    0.0,    0.0,    0.0,    0.0,    0.0,    0.0,    0.0,    0.0,    0.0,    0.0,    0.0,    0.0,    0.0,    0.0,    0.0,    0.0,\n",
      "/\n"
     ]
    }
   ],
   "source": [
    "for mptable in s.mptable:\n",
    "    print(mptable.splitlines()[0])"
   ]
  },
  {
   "cell_type": "code",
   "execution_count": 11,
   "metadata": {},
   "outputs": [
    {
     "name": "stdout",
     "output_type": "stream",
     "text": [
      "Soil Parameters\n",
      "STAS\n",
      "19,1   'BB      DRYSMC      F11     MAXSMC   REFSMC   SATPSI  SATDK       SATDW     WLTSMC  QTZ    '\n",
      "1,     2.79,    0.010,    -0.472,   0.339,   0.236,   0.069,  1.07E-6,  0.608E-6,   0.010,  0.92, 'SAND'\n",
      "2,     4.26,    0.028,    -1.044,   0.421,   0.383,   0.036,  1.41E-5,  0.514E-5,   0.028,  0.82, 'LOAMY SAND'\n",
      "3,     4.74,    0.047,    -0.569,   0.434,   0.383,   0.141,  5.23E-6,  0.805E-5,   0.047,  0.60, 'SANDY LOAM'\n",
      "4,     5.33,    0.084,     0.162,   0.476,   0.360,   0.759,  2.81E-6,  0.239E-4,   0.084,  0.25, 'SILT LOAM'\n",
      "5,     5.33,    0.084,     0.162,   0.476,   0.383,   0.759,  2.81E-6,  0.239E-4,   0.084,  0.10, 'SILT'\n",
      "6,     5.25,    0.066,    -0.327,   0.439,   0.329,   0.355,  3.38E-6,  0.143E-4,   0.066,  0.40, 'LOAM'\n",
      "7,     6.66,    0.067,    -1.491,   0.404,   0.314,   0.135,  4.45E-6,  0.990E-5,   0.067,  0.60, 'SANDY CLAY LOAM'\n",
      "8,     8.72,    0.120,    -1.118,   0.464,   0.387,   0.617,  2.04E-6,  0.237E-4,   0.120,  0.10, 'SILTY CLAY LOAM'\n",
      "9,     8.17,    0.103,    -1.297,   0.465,   0.382,   0.263,  2.45E-6,  0.113E-4,   0.103,  0.35, 'CLAY LOAM'\n",
      "10,   10.73,    0.100,    -3.209,   0.406,   0.338,   0.098,  7.22E-6,  0.187E-4,   0.100,  0.52, 'SANDY CLAY'\n",
      "11,   10.39,    0.126,    -1.916,   0.468,   0.404,   0.324,  1.34E-6,  0.964E-5,   0.126,  0.10, 'SILTY CLAY'\n",
      "12,   11.55,    0.138,    -2.138,   0.468,   0.412,   0.468,  9.74E-7,  0.112E-4,   0.138,  0.25, 'CLAY'\n",
      "13,    5.25,    0.066,    -0.327,   0.439,   0.329,   0.355,  3.38E-6,  0.143E-4,   0.066,  0.05, 'ORGANIC MATERIAL'\n",
      "14,     0.0,      0.0,       0.0,     1.0,     0.0,     0.0,      0.0,       0.0,     0.0,  0.60, 'WATER'\n",
      "15,    2.79,    0.006,    -1.111,    0.20,    0.17,   0.069,  1.41E-4,  0.136E-3,   0.006,  0.07, 'BEDROCK'\n",
      "16,    4.26,    0.028,    -1.044,   0.421,   0.283,   0.036,  1.41E-5,  0.514E-5,   0.028,  0.25, 'OTHER(land-ice)'\n",
      "17,   11.55,    0.030,   -10.472,   0.468,   0.454,   0.468,  9.74E-7,  0.112E-4,   0.030,  0.60, 'PLAYA'\n",
      "18,    2.79,    0.006,    -0.472,   0.200,    0.17,   0.069,  1.41E-4,  0.136E-3,   0.006,  0.52, 'LAVA'\n",
      "19,    2.79,     0.01,    -0.472,   0.339,   0.236,   0.069,  1.07E-6,  0.608E-6,    0.01,  0.92, 'WHITE SAND'\n",
      "Soil Parameters\n",
      "STAS-RUC\n",
      "19,1   'BB      DRYSMC       HC     MAXSMC   REFSMC   SATPSI  SATDK       SATDW     WLTSMC  QTZ    '\n",
      "1,     4.05,    0.045,      1.47,   0.395,   0.236,   0.121,  1.76E-4,  0.608E-6,   0.068,  0.92, 'SAND'\n",
      "2,     4.38,    0.057,      1.41,   0.410,   0.383,   0.090,  1.56E-4,  0.514E-5,   0.075,  0.82, 'LOAMY SAND'\n",
      "3,     4.90,    0.065,      1.34,   0.435,   0.383,   0.218,  3.47E-5,  0.805E-5,   0.114,  0.60, 'SANDY LOAM'\n",
      "4,     5.30,    0.067,      1.27,   0.485,   0.360,   0.786,  7.20E-6,  0.239E-4,   0.179,  0.25, 'SILT LOAM'\n",
      "5,     5.30,    0.034,      1.27,   0.485,   0.383,   0.786,  7.20E-6,  0.239E-4,   0.179,  0.10, 'SILT'\n",
      "6,     5.39,    0.078,      1.21,   0.451,   0.329,   0.478,  6.95E-6,  0.143E-4,   0.155,  0.40, 'LOAM'\n",
      "7,     7.12,    0.100,      1.18,   0.420,   0.314,   0.299,  6.30E-6,  0.990E-5,   0.175,  0.60, 'SANDY CLAY LOAM'\n",
      "8,     7.75,    0.089,      1.32,   0.477,   0.387,   0.356,  1.70E-6,  0.237E-4,   0.218,  0.10, 'SILTY CLAY LOAM'\n",
      "9,     8.52,    0.095,      1.23,   0.476,   0.382,   0.630,  2.45E-6,  0.113E-4,   0.250,  0.35, 'CLAY LOAM'\n",
      "10,   10.40,    0.100,      1.18,   0.426,   0.338,   0.153,  2.17E-6,  0.187E-4,   0.219,  0.52, 'SANDY CLAY'\n",
      "11,   10.40,    0.070,      1.15,   0.492,   0.404,   0.490,  1.03E-6,  0.964E-5,   0.283,  0.10, 'SILTY CLAY'\n",
      "12,   11.40,    0.068,      1.09,   0.482,   0.412,   0.405,  1.28E-6,  0.112E-4,   0.286,  0.25, 'CLAY'\n",
      "13,    5.39,    0.078,      1.21,   0.451,   0.329,   0.478,  6.95E-6,  0.143E-4,   0.155,  0.05, 'ORGANIC MATERIAL'\n",
      "14,     0.0,      0.0,      4.18,   1.0,     1.0,     0.0,      0.0,       0.0,     0.0,    0.00, 'WATER'\n",
      "15,    4.05,    0.004,      2.03,   0.200,   0.17,   0.121,  1.41E-4,  0.136E-3,   0.006,  0.60, 'BEDROCK'\n",
      "16,    4.90,    0.065,      2.10,   0.435,   0.283,   0.218,  3.47E-5,  0.514E-5,   0.114,  0.05, 'OTHER(land-ice)'\n",
      "17,   11.40,    0.030,      1.41,   0.468,   0.454,   0.468,  9.74E-7,  0.112E-4,   0.030,  0.60, 'PLAYA'\n",
      "18,    4.05,    0.006,      1.41,   0.200,   0.17,   0.069,  1.41E-4,  0.136E-3,   0.060,  0.52, 'LAVA'\n",
      "19,    4.05,     0.01,      1.47,   0.339,   0.236,   0.069,  1.76E-4,  0.608E-6,   0.060,  0.92, 'WHITE SAND'\n",
      "Soil Parameters\n",
      "ROSETTA\n",
      "12,1 'theta_res   theta_sat   vGn_alpha       vGn_n      k_soil          BB      DRYSMC          HC      MAXSMC      REFSMC      SATPSI       SATDK       SATDW      WLTSMC         QTZ    '\n",
      "1         0.098       0.459      -1.496       1.253 1.70799e-06        1.40       0.068        1.09       0.482       0.412       0.405     1.28E-6    0.112E-4       0.286        0.25    'CLAY' \n",
      "2         0.079       0.442      -1.581       1.416 9.47297e-07        8.52       0.095        1.23       0.476       0.382       0.630     2.45E-6    0.113E-4       0.250        0.35    'CLAY LOAM'\n",
      "3         0.061       0.399      -1.112       1.472 1.39472e-06        5.39       0.078        1.21       0.451       0.329       0.478     6.95E-6    0.143E-4       0.155        0.40    'LOAM' \n",
      "4         0.049       0.390      -3.475       1.746 1.21755e-05        4.38       0.057        1.41       0.410       0.383       0.090     1.56E-4    0.514E-5       0.075        0.82    'LOAMY SAND'\n",
      "5         0.053       0.375      -3.524       3.177 7.43852e-05        4.05       0.045        1.47       0.395       0.236       0.121     1.76E-4    0.608E-6       0.068        0.92    'SAND'\n",
      "6         0.117       0.385      -3.342       1.208 1.31367e-06        0.40       0.100        1.18       0.426       0.338       0.153     2.17E-6    0.187E-4       0.219        0.52    'SANDY CLAY'\n",
      "7         0.063       0.384      -2.109       1.330 1.52576e-06        7.12       0.100        1.18       0.420       0.314       0.299     6.30E-6    0.990E-5       0.175        0.60    'SANDY CLAY LOAM'\n",
      "8         0.039       0.387      -2.667       1.449 4.43084e-06        4.90       0.065        1.34       0.435       0.383       0.218     3.47E-5    0.805E-5       0.114        0.60    'SANDY LOAM'\n",
      "9         0.050       0.489      -0.658       1.679 5.06391e-06        5.30       0.034        1.27       0.485       0.383       0.786     7.20E-6    0.239E-4       0.179        0.10    'SILT'\n",
      "10        0.111       0.481      -1.622       1.321 1.11298e-06        0.40       0.070        1.15       0.492       0.404       0.490     1.03E-6    0.964E-5       0.283        0.10    'SILTY CLAY'\n",
      "11        0.090       0.482      -0.839       1.521 1.28673e-06        7.75       0.089        1.32       0.477       0.387       0.356     1.70E-6    0.237E-4       0.218        0.10    'SILTY CLAY LOAM'\n",
      "12        0.065       0.439      -0.506       1.663 2.11099e-06        5.30       0.067        1.27       0.485       0.360       0.786     7.20E-6    0.239E-4       0.179        0.25    'SILT LOAM'\n"
     ]
    }
   ],
   "source": [
    "for soilparm in s.soilparm:\n",
    "    print(soilparm.splitlines()[0])"
   ]
  },
  {
   "cell_type": "code",
   "execution_count": 12,
   "metadata": {},
   "outputs": [
    {
     "name": "stdout",
     "output_type": "stream",
     "text": [
      "Vegetation Parameters\n",
      "USGS\n",
      "27,1, 'SHDFAC NROOT   RS      RGL      HS      SNUP  MAXALB   LAIMIN  LAIMAX  EMISSMIN EMISSMAX ALBEDOMIN ALBEDOMAX  Z0MIN    Z0MAX  '\n",
      "1,      .10,   1,    200.,   999.,   999.0,   0.04,    46.,    1.00,   1.00,   .880,    .880,     .15,      .15,      .50,     .50,     'Urban and Built-Up Land'  \n",
      "2,      .80,   3,     40.,   100.,   36.25,   0.04,    66.,    1.56,   5.68,   .920,    .985,     .17,      .23,      .05,     .15,     'Dryland Cropland and Pasture' \n",
      "3,      .80,   3,     40.,   100.,   36.25,   0.04,    66.,    1.56,   5.68,   .930,    .985,     .20,      .25,      .02,     .10,     'Irrigated Cropland and Pasture' \n",
      "4,      .80,   3,     40.,   100.,   36.25,   0.04,    66.,    1.00,   4.50,   .920,    .985,     .18,      .23,      .05,     .15,     'Mixed Dryland/Irrigated Cropland and Pasture' \n",
      "5,      .80,   3,     40.,   100.,   36.25,   0.04,    68.,    2.29,   4.29,   .920,    .980,     .18,      .23,      .05,     .14,     'Cropland/Grassland Mosaic'\n",
      "6,      .80,   3,     70.,    65.,   44.14,   0.04,    60.,    2.00,   4.00,   .930,    .985,     .16,      .20,      .20,     .20,     'Cropland/Woodland Mosaic' \n",
      "7,      .80,   3,     40.,   100.,   36.35,   0.04,    70.,    0.52,   2.90,   .920,    .960,     .19,      .23,      .10,     .12,     'Grassland' \n",
      "8,      .70,   3,    300.,   100.,   42.00,   0.03,    60.,    0.50,   3.66,   .930,    .930,     .25,      .30,      .01,     .05,     'Shrubland' \n",
      "9,      .70,   3,    170.,   100.,   39.18,  0.035,    65.,    0.60,   2.60,   .930,    .950,     .22,      .30,      .01,     .06,     'Mixed Shrubland/Grassland' \n",
      "10,     .50,   3,     70.,    65.,   54.53,   0.04,    50.,    0.50,   3.66,   .920,    .920,     .20,      .20,      .15,     .15,     'Savanna' \n",
      "11,     .80,   4,    100.,    30.,   54.53,   0.08,    58.,    1.85,   3.31,   .930,    .930,     .16,      .17,      .50,     .50,     'Deciduous Broadleaf Forest' \n",
      "12,     .70,   4,    150.,    30.,   47.35,   0.08,    54.,    1.00,   5.16,   .930,    .940,     .14,      .15,      .50,     .50,     'Deciduous Needleleaf Forest' \n",
      "13,     .95,   4,    150.,    30.,   41.69,   0.08,    35.,    3.08,   6.48,   .950,    .950,     .12,      .12,      .50,     .50,     'Evergreen Broadleaf Forest'\n",
      "14,     .70,   4,    125.,    30.,   47.35,   0.08,    52.,    5.00,   6.40,   .950,    .950,     .12,      .12,      .50,     .50,     'Evergreen Needleleaf Forest'  \n",
      "15,     .80,   4,    125.,    30.,   51.93,   0.08,    53.,    2.80,   5.50,   .930,    .970,     .17,      .25,      .20,     .50,     'Mixed Forest' \n",
      "16,     .00,   0,    100.,    30.,   51.75,   0.01,    70.,    0.01,   0.01,   .980,    .980,     .08,      .08,   0.0001,  0.0001,     'Water Bodies' \n",
      "17,     .60,   2,     40.,   100.,   60.00,   0.01,    68.,    1.50,   5.65,   .950,    .950,     .14,      .14,      .20,     .20,     'Herbaceous Wetland' \n",
      "18,     .60,   2,    100.,    30.,   51.93,   0.02,    50.,    2.00,   5.80,   .950,    .950,     .14,      .14,      .40,     .40,     'Wooded Wetland' \n",
      "19,     .01,   1,    999.,   999.,   999.0,   0.02,    75.,    0.10,   0.75,   .900,    .900,     .38,      .38,      .01,     .01,     'Barren or Sparsely Vegetated' \n",
      "20,     .60,   3,    150.,   100.,   42.00,  0.025,    68.,    0.41,   3.35,   .920,    .920,     .15,      .20,      .10,     .10,     'Herbaceous Tundra' \n",
      "21,     .60,   3,    150.,   100.,   42.00,  0.025,    55.,    0.41,   3.35,   .930,    .930,     .15,      .20,      .30,     .30,     'Wooded Tundra' \n",
      "22,     .60,   3,    150.,   100.,   42.00,  0.025,    60.,    0.41,   3.35,   .920,    .920,     .15,      .20,      .15,     .15,     'Mixed Tundra' \n",
      "23,     .30,   2,    200.,   100.,   42.00,   0.02,    75.,    0.41,   3.35,   .900,    .900,     .25,      .25,      .05,     .10,     'Bare Ground Tundra' \n",
      "24,     .00,   1,    999.,   999.,   999.0,   0.02,    82.,    0.01,   0.01,   .950,    .950,     .55,      .70,    0.001,   0.001,     'Snow or Ice' \n",
      "25,     .50,   1,     40.,   100.,   36.25,   0.02,    75.,    0.01,   0.01,   .890,    .890,     .30,      .30,      .01,     .01,     'Playa' \n",
      "26,     .00,   0,    999.,   999.,   999.0,   0.02,    75.,    0.01,   0.01,   .880,    .880,     .16,      .16,      .15,     .15,     'Lava'   \n",
      "27,     .00,   0,    999.,   999.,   999.0,   0.02,    75.,    0.01,   0.01,   .830,    .830,     .60,      .60,      .01,     .01,     'White Sand' \n",
      "TOPT_DATA\n",
      "298.0\n",
      "CMCMAX_DATA\n",
      "0.5E-3\n",
      "CFACTR_DATA\n",
      "0.5\n",
      "RSMAX_DATA\n",
      "5000.0\n",
      "BARE\n",
      "19\n",
      "NATURAL\n",
      "5\n",
      "Vegetation Parameters\n",
      "MODIFIED_IGBP_MODIS_NOAH\n",
      "20,1, 'SHDFAC NROOT   RS      RGL      HS      SNUP  MAXALB   LAIMIN  LAIMAX   EMISSMIN EMISSMAX ALBEDOMIN ALBEDOMAX   Z0MIN    Z0MAX'\n",
      "1       .70,   4,    125.,    30.,   47.35,   0.08,    52.,    5.00,   6.40,   .950,    .950,     .12,      .12,      .50,     .50,         'Evergreen Needleleaf Forest'\n",
      "2,      .95,   4,    150.,    30.,   41.69,   0.08,    35.,    3.08,   6.48,   .950,    .950,     .12,      .12,      .50,     .50,         'Evergreen Broadleaf Forest'\n",
      "3,      .70,   4,    150.,    30.,   47.35,   0.08,    54.,    1.00,   5.16,   .930,    .940,     .14,      .15,      .50,     .50,         'Deciduous Needleleaf Forest'\n",
      "4,      .80,   4,    100.,    30.,   54.53,   0.08,    58.,    1.85,   3.31,   .930,    .930,     .16,      .17,      .50,     .50,         'Deciduous Broadleaf Forest'\n",
      "5,      .80,   4,    125.,    30.,   51.93,   0.08,    53.,    2.80,   5.50,   .930,    .970,     .17,      .25,      .20,     .50,         'Mixed Forests'\n",
      "6,      .70,   3,    300.,   100.,   42.00,   0.03,    60.,    0.50,   3.66,   .930,    .930,     .25,      .30,      .01,     .05,         'Closed Shrublands'\n",
      "7,      .70,   3,    170.,   100.,   39.18,  0.035,    65.,    0.60,   2.60,   .930,    .950,     .22,      .30,      .01,     .06,         'Open Shrublands'\n",
      "8,      .70,   3,    300.,   100.,   42.00,   0.03,    60.,    0.50,   3.66,   .930,    .930,     .25,      .30,      .01,     .05,         'Woody Savannas'\n",
      "9,      .50,   3,     70.,    65.,   54.53,   0.04,    50.,    0.50,   3.66,   .920,    .920,     .20,      .20,      .15,     .15,         'Savannas'\n",
      "10,     .80,   3,     40.,   100.,   36.35,   0.04,    70.,    0.52,   2.90,   .920,    .960,     .19,      .23,      .10,     .12,         'Grasslands'\n",
      "11      .60,   2,     70.,    65.,   55.97   0.015     59.,    1.75,   5.72,   .950,    .950,     .14,      .14,      .30,     .30,         'Permanent wetlands'\n",
      "12,     .80,   3,     40.,   100.,   36.25,   0.04,    66.,    1.56,   5.68,   .920,    .985,     .17,      .23,      .05,     .15,         'Croplands'\n",
      "13,     .10,   1,    200.,   999.,   999.0,   0.04,    46.,    1.00,   1.00,   .880,    .880,     .15,      .15,      .50,     .50,         'Urban and Built-Up'\n",
      "14      .80,   3,     40.,   100.,   36.25,   0.04,    68.,    2.29,   4.29,   .920,    .980,     .18,      .23,      .05,     .14,         'cropland/natural vegetation mosaic'\n",
      "15,     .00,   1,    999.,   999.,   999.0,   0.02,    82.,    0.01,   0.01,   .950,    .950,     .55,      .70,    0.001,   0.001,         'Snow and Ice'\n",
      "16,     .01,   1,    999.,   999.,   999.0,   0.02,    75.,    0.10,   0.75,   .900,    .900,     .38,      .38,      .01,     .01,         'Barren or Sparsely Vegetated'\n",
      "17,     .00,   0,    100.,    30.,   51.75,   0.01,    70.,    0.01,   0.01,   .980,    .980,     .08,      .08,   0.0001,  0.0001,         'Water'\n",
      "18,     .60,   3,    150.,   100.,   42.00,  0.025,    55.,    0.41,   3.35,   .930,    .930,     .15,      .20,      .30,     .30,         'Wooded Tundra'\n",
      "19,     .60,   3,    150.,   100.,   42.00,  0.025,    60.,    0.41,   3.35,   .920,    .920,     .15,      .20,      .15,     .15,         'Mixed Tundra'\n",
      "20,     .30,   2,    200.,   100.,   42.00,   0.02,    75.,    0.41,   3.35,   .900,    .900,     .25,      .25,      .05,     .10,         'Barren Tundra'\n",
      "TOPT_DATA\n",
      "298.0\n",
      "CMCMAX_DATA\n",
      "0.5E-3\n",
      "CFACTR_DATA\n",
      "0.5\n",
      "RSMAX_DATA\n",
      "5000.0\n",
      "BARE\n",
      "16\n",
      "NATURAL\n",
      "14\n",
      "Vegetation Parameters\n",
      "USGS-RUC\n",
      "27,1, 'ALBEDO    Z0   LEMI     PC   SHDFAC NROOT   RS      RGL      HS      SNUP    LAI   MAXALB'\n",
      "1,     .18,     .50,   .88,   .40,   .10,   1,    200.,   999.,   999.0,   0.04,   4.0,     40.,    'Urban and Built-Up Land'\n",
      "2,     .17,     .06,   .92,   .30,   .80,   3,     40.,   100.,   36.25,   0.04,   4.0,     64.,    'Dryland Cropland and Pasture'\n",
      "3,     .18,     .075,  .92,   .40,   .80,   3,     40.,   100.,   36.25,   0.04,   4.0,     64.,    'Irrigated Cropland and Pasture'\n",
      "4,     .18,     .065,  .92,   .40,   .80,   3,     40.,   100.,   36.25,   0.04,   4.0,     64.,    'Mixed Dryland/Irrigated Cropland and Pasture'\n",
      "5,     .18,     .05,   .92,   .40,   .80,   3,     40.,   100.,   36.25,   0.04,   4.0,     64.,    'Cropland/Grassland Mosaic'\n",
      "6,     .16,     .20,   .93,   .40,   .80,   3,     70.,    65.,   44.14,   0.04,   4.0,     60.,    'Cropland/Woodland Mosaic'\n",
      "7,     .19,     .075   .92,   .40,   .80,   3,     40.,   100.,   36.35,   0.04,   4.0,     64.,    'Grassland'\n",
      "8,     .22,     .10,   .88,   .40,   .70,   3,    300.,   100.,   42.00,   0.03,   4.0,     69.,    'Shrubland'\n",
      "9,     .20,     .11,   .90,   .40,   .70,   3,    170.,   100.,   39.18,  0.035,   4.0,     67.,    'Mixed Shrubland/Grassland'\n",
      "10,    .20,     .15,   .92,   .40,   .50,   3,     70.,    65.,   54.53,   0.04,   4.0,     45.,    'Savanna'\n",
      "11,    .16,     .50,   .93,   .55,   .80,   4,    100.,    30.,   54.53,   0.08,   4.0,     58.,    'Deciduous Broadleaf Forest'\n",
      "12,    .14,     .50,   .94,   .55,   .70,   4,    150.,    30.,   47.35,   0.08,   4.0,     54.,    'Deciduous Needleleaf Forest'\n",
      "13,    .12,     .50,   .95,   .55,   .95,   4,    150.,    30.,   41.69,   0.08,   4.0,     32.,    'Evergreen Broadleaf Forest'\n",
      "14,    .12,     .50,   .95,   .55,   .70,   4,    125.,    30.,   47.35,   0.08,   4.0,     52.,    'Evergreen Needleleaf Forest'\n",
      "15,    .13,     .50,   .94,   .55,   .80,   4,    125.,    30.,   51.93,   0.08,   4.0,     53.,    'Mixed Forest'\n",
      "16,    .08,    .0001,  .98,   .00,   .00,   0,    100.,    30.,   51.75,   0.01,   4.0,     70.,    'Water Bodies'\n",
      "17,    .14,     .20,   .95,   .55,   .60,   2,     40.,   100.,   60.00,   0.01,   4.0,     35.,    'Herbaceous Wetland'\n",
      "18,    .14,     .40,   .95,   .55,   .60,   2,    100.,    30.,   51.93,   0.02,   4.0,     30.,    'Wooded Wetland'\n",
      "19,    .25,     .05,   .85,   .30,   .01,   1,    999.,   999.,   999.0,   0.02,   4.0,     69.,    'Barren or Sparsely Vegetated'\n",
      "20,    .15,     .10,   .92,   .30,   .60,   3,    150.,   100.,   42.00,  0.025,   4.0,     58.,    'Herbaceous Tundra'\n",
      "21,    .15,     .15,   .93,   .40,   .60,   3,    150.,   100.,   42.00,  0.025,   4.0,     55.,    'Wooded Tundra'\n",
      "22,    .15,     .10,   .92,   .40,   .60,   3,    150.,   100.,   42.00,  0.025,   4.0,     55.,    'Mixed Tundra'\n",
      "23,    .25,     .065   .85,   .30,   .30,   2,    200.,   100.,   42.00,   0.02,   4.0,     65.,    'Bare Ground Tundra'\n",
      "24,    .55,     .05,   .95,   .00,   .00,   1,    999.,   999.,   999.0,   0.02,   4.0,     75.,    'Snow or Ice'\n",
      "25,    .30,     .01,   .85,   .30,   .50,   1,     40.,   100.,   36.25,   0.02,   4.0,     69.,    'Playa'\n",
      "26,    .16,     .15,   .85,   .00,   .00,   0,    999.,   999.,   999.0,   0.02,   4.0,     69.,    'Lava'\n",
      "27,    .60,     .01,   .90,   .00,   .00,   0,    999.,   999.,   999.0,   0.02,   4.0,     69.,    'White Sand'\n",
      "TOPT_DATA\n",
      "298.0\n",
      "CMCMAX_DATA\n",
      "0.5E-3\n",
      "CFACTR_DATA\n",
      "0.5\n",
      "RSMAX_DATA\n",
      "5000.0\n",
      "BARE\n",
      "19\n",
      "NATURAL\n",
      "5\n"
     ]
    }
   ],
   "source": [
    "for vegparm in s.vegparm:\n",
    "    print(vegparm.splitlines()[0])"
   ]
  },
  {
   "cell_type": "code",
   "execution_count": null,
   "metadata": {},
   "outputs": [],
   "source": []
  }
 ],
 "metadata": {
  "kernelspec": {
   "display_name": "SUMMA",
   "language": "python",
   "name": "pysumma"
  },
  "language_info": {
   "codemirror_mode": {
    "name": "ipython",
    "version": 3
   },
   "file_extension": ".py",
   "mimetype": "text/x-python",
   "name": "python",
   "nbconvert_exporter": "python",
   "pygments_lexer": "ipython3",
   "version": "3.8.5"
  },
  "toc": {
   "base_numbering": 1,
   "nav_menu": {},
   "number_sections": true,
   "sideBar": true,
   "skip_h1_title": false,
   "title_cell": "Table of Contents",
   "title_sidebar": "Contents",
   "toc_cell": false,
   "toc_position": {
    "height": "calc(100% - 180px)",
    "left": "10px",
    "top": "150px",
    "width": "255.797px"
   },
   "toc_section_display": true,
   "toc_window_display": true
  }
 },
 "nbformat": 4,
 "nbformat_minor": 4
}
