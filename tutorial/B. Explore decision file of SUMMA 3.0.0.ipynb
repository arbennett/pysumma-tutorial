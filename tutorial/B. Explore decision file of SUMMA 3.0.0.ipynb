{
 "cells": [
  {
   "cell_type": "markdown",
   "metadata": {},
   "source": [
    "# B. Explore decision file of SUMMA 3.0.0"
   ]
  },
  {
   "cell_type": "markdown",
   "metadata": {},
   "source": [
    "The model **`decisions`** file is an **ASCII file** that indicates the model decisions with which SUMMA is configured. The model decisions file is parsed by **`build/source/engine/mDecisions.f90`**, which also serves as the file of record for all available options for the individual model decisions. The names for the model decisions are found in **`build/source/dshare/get_ixname.f90:function get_ixdecisions(varName)`**. Detailed information about the individual model decisions and their associated options can be found in the configuration section.\n",
    "\n",
    "Model decisions can be specified in any order with one decision per line. The decisions take the form **`<keyword> <value>`**, where **`<keyword>`** is the decision to be made and **`<value>`** is the option that is selected for that decision. For example, the line **`f_Richards mixdform`** indicates that the mixed form of the Richards's equation (unsaturated/saturated flow) should be used in the simulation(**`mixdform`** option for the **`f_Richards`** decision). Another option for this model decision would be **`moisture`**, which would be the moisture-based form (only unsaturated flow).\n",
    "\n",
    "The model decisions and their options or values are listed in the following tables. Note that the decisions and their options are case sensitive. For details about each option see the configuration section."
   ]
  },
  {
   "cell_type": "markdown",
   "metadata": {},
   "source": [
    "## 1. Import pySUMMA 3.0.0"
   ]
  },
  {
   "cell_type": "code",
   "execution_count": 1,
   "metadata": {},
   "outputs": [],
   "source": [
    "import pysumma as ps"
   ]
  },
  {
   "cell_type": "markdown",
   "metadata": {},
   "source": [
    "## 2. Create Simulatioin Object"
   ]
  },
  {
   "cell_type": "code",
   "execution_count": 2,
   "metadata": {},
   "outputs": [],
   "source": [
    "executable = \"/usr/bin/summa.exe\"\n",
    "file_manager = 'SummaModel_ReynoldsAspenStand_StomatalResistance/settings/summa_fileManager_riparianAspenSimpleResistance.txt'\n",
    "\n",
    "s = ps.Simulation(executable, file_manager)"
   ]
  },
  {
   "cell_type": "markdown",
   "metadata": {},
   "source": [
    "## 3. Explore decision file"
   ]
  },
  {
   "cell_type": "markdown",
   "metadata": {},
   "source": [
    "### 3.1 Show decision file from `decisions.json` in meta folder (review every available options)"
   ]
  },
  {
   "cell_type": "code",
   "execution_count": 3,
   "metadata": {},
   "outputs": [
    {
     "data": {
      "text/plain": [
       "{'soilCatTbl': {'options': ['STAS', 'STAS-RUC', 'ROSETTA'],\n",
       "  'description': 'soil-category dataset'},\n",
       " 'vegeParTbl': {'options': ['USGS', 'MODIFIED_IGBP_MODIS_NOAH'],\n",
       "  'description': 'vegetation-category dataset'},\n",
       " 'soilStress': {'options': ['NoahType', 'CLM_Type', 'SiB_Type'],\n",
       "  'description': 'choice of function for the soil moisture control on stomatal resistance'},\n",
       " 'stomResist': {'options': ['BallBerry',\n",
       "   'Jarvis',\n",
       "   'simpleResistance',\n",
       "   'BallBerryFlex',\n",
       "   'BallBerryTest'],\n",
       "  'description': 'choice of function for stomatal resistance'},\n",
       " 'bbTempFunc': {'options': ['q10Func', 'Arrhenius'],\n",
       "  'description': 'Ball-Berry: leaf temperature controls on photosynthesis + stomatal resistance'},\n",
       " 'bbHumdFunc': {'options': ['humidLeafSurface', 'scaledHyperbolic'],\n",
       "  'description': 'Ball-Berry: humidity controls on stomatal resistance'},\n",
       " 'bbElecFunc': {'options': ['linear', 'linearJmax', 'quadraticJmax'],\n",
       "  'description': 'Ball-Berry: dependence of photosynthesis on PAR'},\n",
       " 'bbCO2point': {'options': ['origBWB', 'Leuning'],\n",
       "  'description': 'Ball-Berry: use of CO2 compensation point to calculate stomatal resistance'},\n",
       " 'bbNumerics': {'options': ['NoahMPsolution', 'newtonRaphson'],\n",
       "  'description': 'Ball-Berry: iterative numerical solution method'},\n",
       " 'bbAssimFnc': {'options': ['colimitation', 'minFunc'],\n",
       "  'description': 'Ball-Berry: controls on carbon assimilation'},\n",
       " 'bbCanIntg8': {'options': ['constantScaling', 'laiScaling'],\n",
       "  'description': 'Ball-Berry: scaling of photosynthesis from the leaf to the canopy'},\n",
       " 'num_method': {'options': ['itertive', 'non_iter', 'itersurf'],\n",
       "  'description': 'choice of numerical method'},\n",
       " 'fDerivMeth': {'options': ['numericl', 'analytic'],\n",
       "  'description': 'choice of method to calculate flux derivatives'},\n",
       " 'LAI_method': {'options': ['monTable', 'specified'],\n",
       "  'description': 'choice of method to determine LAI and SAI'},\n",
       " 'cIntercept': {'options': ['sparseCanopy', 'storageFunc', 'notPopulatedYet'],\n",
       "  'description': 'choice of parameterization for canopy interception'},\n",
       " 'f_Richards': {'options': ['moisture', 'mixdform'],\n",
       "  'description': 'form of Richards equation'},\n",
       " 'groundwatr': {'options': ['qTopmodl', 'bigBuckt', 'noXplict'],\n",
       "  'description': 'choice of groundwater parameterization'},\n",
       " 'hc_profile': {'options': ['constant', 'pow_prof'],\n",
       "  'description': 'choice of hydraulic conductivity profile'},\n",
       " 'bcUpprTdyn': {'options': ['presTemp', 'nrg_flux', 'zeroFlux'],\n",
       "  'description': 'type of upper boundary condition for thermodynamics'},\n",
       " 'bcLowrTdyn': {'options': ['presTemp', 'zeroFlux'],\n",
       "  'description': 'type of lower boundary condition for thermodynamics'},\n",
       " 'bcUpprSoiH': {'options': ['presHead', 'liq_flux'],\n",
       "  'description': 'type of upper boundary condition for soil hydrology'},\n",
       " 'bcLowrSoiH': {'options': ['presHead', 'bottmPsi', 'drainage', 'zeroFlux'],\n",
       "  'description': 'type of lower boundary condition for soil hydrology'},\n",
       " 'veg_traits': {'options': ['Raupach_BLM1994', 'CM_QJRMS1988', 'vegTypeTable'],\n",
       "  'description': 'choice of parameterization for vegetation roughness length and displacement height'},\n",
       " 'rootProfil': {'options': ['powerLaw', 'doubleExp'],\n",
       "  'description': 'choice of parameterization for the rooting profile'},\n",
       " 'canopyEmis': {'options': ['simplExp', 'difTrans'],\n",
       "  'description': 'choice of parameterization for canopy emissivity'},\n",
       " 'snowIncept': {'options': ['stickySnow', 'lightSnow'],\n",
       "  'description': 'choice of parameterization for snow interception'},\n",
       " 'snowUnload': {'options': ['meltDripUnload', 'windUnload'],\n",
       "  'description': 'choice of parameterization for snow unloading from canopy'},\n",
       " 'windPrfile': {'options': ['exponential', 'logBelowCanopy'],\n",
       "  'description': 'choice of canopy wind profile'},\n",
       " 'astability': {'options': ['standard', 'louisinv', 'mahrtexp'],\n",
       "  'description': 'choice of stability function'},\n",
       " 'compaction': {'options': ['consettl', 'anderson'],\n",
       "  'description': 'choice of compaction routine'},\n",
       " 'snowLayers': {'options': ['jrdn1991', 'CLM_2010'],\n",
       "  'description': 'choice of method to combine and sub-divide snow layers'},\n",
       " 'thCondSnow': {'options': ['tyen1965', 'melr1977', 'jrdn1991', 'smnv2000'],\n",
       "  'description': 'choice of thermal conductivity representation for snow'},\n",
       " 'thCondSoil': {'options': ['funcSoilWet', 'mixConstit', 'hanssonVZJ'],\n",
       "  'description': 'choice of thermal conductivity representation for soil'},\n",
       " 'canopySrad': {'options': ['noah_mp',\n",
       "   'CLM_2stream',\n",
       "   'UEB_2stream',\n",
       "   'NL_scatter',\n",
       "   'BeersLaw'],\n",
       "  'description': 'choice of method for canopy shortwave radiation'},\n",
       " 'alb_method': {'options': ['conDecay', 'varDecay'],\n",
       "  'description': 'choice of albedo representation'},\n",
       " 'spatial_gw': {'options': ['localColumn', 'singleBasin'],\n",
       "  'description': 'choice of method for spatial representation of groundwater'},\n",
       " 'subRouting': {'options': ['timeDlay', 'qInstant'],\n",
       "  'description': 'choice of method for sub-grid routing'},\n",
       " 'snowDenNew': {'options': ['hedAndPom', 'anderson', 'pahaut_76', 'constDens'],\n",
       "  'description': 'choice of method for new snow density'}}"
      ]
     },
     "execution_count": 3,
     "metadata": {},
     "output_type": "execute_result"
    }
   ],
   "source": [
    "ps.decisions.DECISION_META"
   ]
  },
  {
   "cell_type": "markdown",
   "metadata": {},
   "source": [
    "### 3.2 Show decision file using `orginal_contents` attribute"
   ]
  },
  {
   "cell_type": "code",
   "execution_count": 4,
   "metadata": {},
   "outputs": [
    {
     "data": {
      "text/plain": [
       "['soilCatTbl    ROSETTA              ! soil-category dataset\\n',\n",
       " 'vegeParTbl    USGS                 ! vegetation-category dataset\\n',\n",
       " 'soilStress    NoahType             ! choice of function for the soil moisture control on stomatal resistance\\n',\n",
       " 'stomResist    simpleResistance     ! choice of function for stomatal resistance\\n',\n",
       " 'num_method    itertive             ! choice of numerical method\\n',\n",
       " 'fDerivMeth    analytic             ! choice of method to calculate flux derivatives\\n',\n",
       " 'LAI_method    specified            ! choice of method to determine LAI and SAI\\n',\n",
       " 'f_Richards    mixdform             ! form of Richards equation\\n',\n",
       " 'groundwatr    noXplict             ! choice of groundwater parameterization\\n',\n",
       " 'hc_profile    constant             ! choice of hydraulic conductivity profile\\n',\n",
       " 'bcUpprTdyn    nrg_flux             ! type of upper boundary condition for thermodynamics\\n',\n",
       " 'bcLowrTdyn    zeroFlux             ! type of lower boundary condition for thermodynamics\\n',\n",
       " 'bcUpprSoiH    liq_flux             ! type of upper boundary condition for soil hydrology\\n',\n",
       " 'bcLowrSoiH    drainage             ! type of lower boundary condition for soil hydrology\\n',\n",
       " 'veg_traits    CM_QJRMS1988         ! choice of parameterization for vegetation roughness length and displacement height\\n',\n",
       " 'canopyEmis    difTrans             ! choice of parameterization for canopy emissivity\\n',\n",
       " 'snowIncept    lightSnow            ! choice of parameterization for snow interception\\n',\n",
       " 'windPrfile    logBelowCanopy       ! choice of canopy wind profile\\n',\n",
       " 'astability    louisinv             ! choice of stability function\\n',\n",
       " 'canopySrad    BeersLaw             ! choice of method for canopy shortwave radiation\\n',\n",
       " 'alb_method    varDecay             ! choice of albedo representation\\n',\n",
       " 'compaction    anderson             ! choice of compaction routine\\n',\n",
       " 'snowLayers    CLM_2010             ! choice of method to combine and sub-divide snow layers\\n',\n",
       " 'thCondSnow    jrdn1991             ! choice of thermal conductivity representation for snow\\n',\n",
       " 'thCondSoil    mixConstit           ! choice of thermal conductivity representation for soil\\n',\n",
       " 'spatial_gw    localColumn          ! choice of method for spatial representation of groundwater\\n',\n",
       " 'subRouting    timeDlay             ! choice of method for sub-grid routing\\n']"
      ]
     },
     "execution_count": 4,
     "metadata": {},
     "output_type": "execute_result"
    }
   ],
   "source": [
    "s.decisions.original_contents"
   ]
  },
  {
   "cell_type": "markdown",
   "metadata": {},
   "source": [
    "### 3.3 Show decision file using `print` command"
   ]
  },
  {
   "cell_type": "code",
   "execution_count": 5,
   "metadata": {},
   "outputs": [
    {
     "name": "stdout",
     "output_type": "stream",
     "text": [
      "soilCatTbl    ROSETTA              ! soil-category dataset\n",
      "vegeParTbl    USGS                 ! vegetation-category dataset\n",
      "soilStress    NoahType             ! choice of function for the soil moisture control on stomatal resistance\n",
      "stomResist    simpleResistance     ! choice of function for stomatal resistance\n",
      "num_method    itertive             ! choice of numerical method\n",
      "fDerivMeth    analytic             ! choice of method to calculate flux derivatives\n",
      "LAI_method    specified            ! choice of method to determine LAI and SAI\n",
      "f_Richards    mixdform             ! form of Richards equation\n",
      "groundwatr    noXplict             ! choice of groundwater parameterization\n",
      "hc_profile    constant             ! choice of hydraulic conductivity profile\n",
      "bcUpprTdyn    nrg_flux             ! type of upper boundary condition for thermodynamics\n",
      "bcLowrTdyn    zeroFlux             ! type of lower boundary condition for thermodynamics\n",
      "bcUpprSoiH    liq_flux             ! type of upper boundary condition for soil hydrology\n",
      "bcLowrSoiH    drainage             ! type of lower boundary condition for soil hydrology\n",
      "veg_traits    CM_QJRMS1988         ! choice of parameterization for vegetation roughness length and displacement height\n",
      "canopyEmis    difTrans             ! choice of parameterization for canopy emissivity\n",
      "snowIncept    lightSnow            ! choice of parameterization for snow interception\n",
      "windPrfile    logBelowCanopy       ! choice of canopy wind profile\n",
      "astability    louisinv             ! choice of stability function\n",
      "canopySrad    BeersLaw             ! choice of method for canopy shortwave radiation\n",
      "alb_method    varDecay             ! choice of albedo representation\n",
      "compaction    anderson             ! choice of compaction routine\n",
      "snowLayers    CLM_2010             ! choice of method to combine and sub-divide snow layers\n",
      "thCondSnow    jrdn1991             ! choice of thermal conductivity representation for snow\n",
      "thCondSoil    mixConstit           ! choice of thermal conductivity representation for soil\n",
      "spatial_gw    localColumn          ! choice of method for spatial representation of groundwater\n",
      "subRouting    timeDlay             ! choice of method for sub-grid routing\n"
     ]
    }
   ],
   "source": [
    "print(s.decisions)"
   ]
  },
  {
   "cell_type": "markdown",
   "metadata": {},
   "source": [
    "### 3.4 Get value of each line in decision file"
   ]
  },
  {
   "cell_type": "code",
   "execution_count": 6,
   "metadata": {
    "scrolled": true
   },
   "outputs": [
    {
     "data": {
      "text/plain": [
       "'stomResist'"
      ]
     },
     "execution_count": 6,
     "metadata": {},
     "output_type": "execute_result"
    }
   ],
   "source": [
    "# show the current name of `stomResist`\n",
    "s.decisions['stomResist'].name"
   ]
  },
  {
   "cell_type": "code",
   "execution_count": 7,
   "metadata": {},
   "outputs": [
    {
     "data": {
      "text/plain": [
       "['BallBerry', 'Jarvis', 'simpleResistance', 'BallBerryFlex', 'BallBerryTest']"
      ]
     },
     "execution_count": 7,
     "metadata": {},
     "output_type": "execute_result"
    }
   ],
   "source": [
    "# show the current available options of `stomResist`\n",
    "s.decisions['stomResist'].available_options"
   ]
  },
  {
   "cell_type": "code",
   "execution_count": 8,
   "metadata": {},
   "outputs": [
    {
     "data": {
      "text/plain": [
       "'simpleResistance'"
      ]
     },
     "execution_count": 8,
     "metadata": {},
     "output_type": "execute_result"
    }
   ],
   "source": [
    "# show the current value of `stomResist`\n",
    "s.decisions['stomResist'].value"
   ]
  },
  {
   "cell_type": "code",
   "execution_count": 9,
   "metadata": {},
   "outputs": [
    {
     "data": {
      "text/plain": [
       "'choice of function for stomatal resistance'"
      ]
     },
     "execution_count": 9,
     "metadata": {},
     "output_type": "execute_result"
    }
   ],
   "source": [
    "# show the current description of `stomResist`\n",
    "s.decisions['stomResist'].description"
   ]
  },
  {
   "cell_type": "markdown",
   "metadata": {},
   "source": [
    "### 3.5 Change the value of each line in decision file"
   ]
  },
  {
   "cell_type": "code",
   "execution_count": 10,
   "metadata": {},
   "outputs": [],
   "source": [
    "# set different value of `stomResist` \n",
    "s.decisions['stomResist'] = 'Jarvis'"
   ]
  },
  {
   "cell_type": "code",
   "execution_count": 11,
   "metadata": {},
   "outputs": [
    {
     "data": {
      "text/plain": [
       "'Jarvis'"
      ]
     },
     "execution_count": 11,
     "metadata": {},
     "output_type": "execute_result"
    }
   ],
   "source": [
    "# set different value of `stomResist`\n",
    "s.decisions['stomResist'].value"
   ]
  },
  {
   "cell_type": "code",
   "execution_count": 12,
   "metadata": {},
   "outputs": [],
   "source": [
    "# overwirte the current value of `stomResist` in decision file\n",
    "s.decisions.write()"
   ]
  },
  {
   "cell_type": "code",
   "execution_count": 13,
   "metadata": {},
   "outputs": [
    {
     "name": "stdout",
     "output_type": "stream",
     "text": [
      "soilCatTbl    ROSETTA              ! soil-category dataset\n",
      "vegeParTbl    USGS                 ! vegetation-category dataset\n",
      "soilStress    NoahType             ! choice of function for the soil moisture control on stomatal resistance\n",
      "stomResist    Jarvis               ! choice of function for stomatal resistance\n",
      "num_method    itertive             ! choice of numerical method\n",
      "fDerivMeth    analytic             ! choice of method to calculate flux derivatives\n",
      "LAI_method    specified            ! choice of method to determine LAI and SAI\n",
      "f_Richards    mixdform             ! form of Richards equation\n",
      "groundwatr    noXplict             ! choice of groundwater parameterization\n",
      "hc_profile    constant             ! choice of hydraulic conductivity profile\n",
      "bcUpprTdyn    nrg_flux             ! type of upper boundary condition for thermodynamics\n",
      "bcLowrTdyn    zeroFlux             ! type of lower boundary condition for thermodynamics\n",
      "bcUpprSoiH    liq_flux             ! type of upper boundary condition for soil hydrology\n",
      "bcLowrSoiH    drainage             ! type of lower boundary condition for soil hydrology\n",
      "veg_traits    CM_QJRMS1988         ! choice of parameterization for vegetation roughness length and displacement height\n",
      "canopyEmis    difTrans             ! choice of parameterization for canopy emissivity\n",
      "snowIncept    lightSnow            ! choice of parameterization for snow interception\n",
      "windPrfile    logBelowCanopy       ! choice of canopy wind profile\n",
      "astability    louisinv             ! choice of stability function\n",
      "canopySrad    BeersLaw             ! choice of method for canopy shortwave radiation\n",
      "alb_method    varDecay             ! choice of albedo representation\n",
      "compaction    anderson             ! choice of compaction routine\n",
      "snowLayers    CLM_2010             ! choice of method to combine and sub-divide snow layers\n",
      "thCondSnow    jrdn1991             ! choice of thermal conductivity representation for snow\n",
      "thCondSoil    mixConstit           ! choice of thermal conductivity representation for soil\n",
      "spatial_gw    localColumn          ! choice of method for spatial representation of groundwater\n",
      "subRouting    timeDlay             ! choice of method for sub-grid routing\n"
     ]
    }
   ],
   "source": [
    "print(s.manager.decisions)"
   ]
  },
  {
   "cell_type": "code",
   "execution_count": null,
   "metadata": {},
   "outputs": [],
   "source": []
  }
 ],
 "metadata": {
  "kernelspec": {
   "display_name": "SUMMA",
   "language": "python",
   "name": "pysumma"
  },
  "language_info": {
   "codemirror_mode": {
    "name": "ipython",
    "version": 3
   },
   "file_extension": ".py",
   "mimetype": "text/x-python",
   "name": "python",
   "nbconvert_exporter": "python",
   "pygments_lexer": "ipython3",
   "version": "3.8.5"
  },
  "toc": {
   "base_numbering": 1,
   "nav_menu": {},
   "number_sections": true,
   "sideBar": true,
   "skip_h1_title": false,
   "title_cell": "Table of Contents",
   "title_sidebar": "Contents",
   "toc_cell": false,
   "toc_position": {
    "height": "calc(100% - 180px)",
    "left": "10px",
    "top": "150px",
    "width": "255.797px"
   },
   "toc_section_display": true,
   "toc_window_display": true
  }
 },
 "nbformat": 4,
 "nbformat_minor": 4
}
