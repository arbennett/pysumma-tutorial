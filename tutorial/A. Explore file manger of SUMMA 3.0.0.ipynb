{
 "cells": [
  {
   "cell_type": "markdown",
   "metadata": {},
   "source": [
    "# A. Explore file manger of SUMMA 3.0.0"
   ]
  },
  {
   "cell_type": "markdown",
   "metadata": {},
   "source": [
    "SUMMA has a large number of input files that configure the model and provide the necessary initial conditions and time-varying boundary conditions to make a model simulation. This can at times be confusing. We encourage the user to look at the SUMMA test cases, which provide working SUMMA setups."
   ]
  },
  {
   "cell_type": "markdown",
   "metadata": {},
   "source": [
    "The **`master configuration file`** (called **`file manger`**) is an **ASCII file** and is provided to SUMMA at run-time as a command-line option. The path to this file needs to be supplied with the **`-m`** or **`--master`** command-line flag. The contents of this file orchestrate the remainder of the SUMMA run and are processed by the code in **`build/source/hookup/summaFileManager.f90`**. The file contents mostly consist of file paths that provide the actual information about the model configuration.\n",
    "\n",
    "The following items must be provided in order in the master configuration file. Each item must be on its own line, but may be followed by a comment and you can add lines of comments between the items. Each entry must be enclosed in single quotes 'entry'. In the following, I start each enumerated entry with the actual variable name that is used in the SUMMA source code to refer to each of the entries (in summaFileManager.f90) and its default value in case you are trying to trace a problem.\n",
    "\n",
    "The model file manager file must also contain the start (`simStartTime`) and end (`simEndTime`) times of the simulation. These are specified as `'YYYY-MM-DD hh:mm'` and must be enclosed in single quotes. They are typically the first model file manager to be specified."
   ]
  },
  {
   "cell_type": "markdown",
   "metadata": {},
   "source": [
    "* `controlVersion`\n",
    ": Version of the file manager that should be used to process the master configuration file. At this time, this string should be equal to 'SUMMA_FILE_MANAGER_V3.0'.\n",
    "\n",
    "* `simStartTime`: \n",
    "\n",
    "* `simEndTime`: \n",
    "\n",
    "* `tmZoneInfo`: \n",
    "\n",
    "* `settingsPath`: Base path for the configuration files. Most of the file paths in the remainder of the master configuration file are relative to this path (except INPUT_PATH and OUTPUT_PATH).\n",
    "\n",
    "* `forcingPath`: Base path for the meteorological forcing files specified in the FORCING_FILELIST.\n",
    "\n",
    "* `outputPath`: Base path for the SUMMA output files.\n",
    "\n",
    "* `decisionsFile`: File path for the model decisions file (relative to settings_path).\n",
    "\n",
    "* `outputControlFile`: File path for the output control file (relative to settings_path).\n",
    "\n",
    "* `globalHruParamFile`: File path for the local parameters file (relative to settings_path).\n",
    "\n",
    "* `globalGruParamFile`: File path for the basin parameters file (relative to settings_path)'.\n",
    "\n",
    "* `attributeFile`: File path for the local attributes file (relative to settings_path).\n",
    "\n",
    "* `trialParamFile`: File path for the trial parameters file (relative to settings_path).\n",
    "\n",
    "* `forcingListFile`: File path for the list of forcing files file (relative to settings_path).\n",
    "\n",
    "* `initConditionFile`: File path for the initial conditions file (relative to settings_path).\n",
    "\n",
    "* `outFilePrefix`: Text string prepended to each output filename to identify a specific model setup. Note that the user can further modify the output file name at run-time by using the -s|--suffix command-line option.\n",
    "\n",
    "* `vegTableFile`: \n",
    "\n",
    "* `soilTableFile`: \n",
    "\n",
    "* `generalTableFile`:\n",
    "\n",
    "* `noahmpTableFile`:"
   ]
  },
  {
   "cell_type": "code",
   "execution_count": 1,
   "metadata": {},
   "outputs": [
    {
     "name": "stdout",
     "output_type": "stream",
     "text": [
      "Username: choi\n",
      "Password for choi: ········\n"
     ]
    }
   ],
   "source": [
    "from pysumma import hydroshare_utils\n",
    "import os\n",
    "\n",
    "# Download SUMMA Model Instance from HydroShare\n",
    "resource_id = '13d6b84a9553410297a67fa366a56cb2'\n",
    "instance = hydroshare_utils.get_hs_resource(resource_id, os.getcwd())"
   ]
  },
  {
   "cell_type": "code",
   "execution_count": 2,
   "metadata": {},
   "outputs": [
    {
     "name": "stdout",
     "output_type": "stream",
     "text": [
      "TestCases installed\r\n"
     ]
    }
   ],
   "source": [
    "!cd {instance}/; chmod +x ./installTestCases_local.sh\n",
    "!cd {instance}/; ./installTestCases_local.sh"
   ]
  },
  {
   "cell_type": "markdown",
   "metadata": {},
   "source": [
    "## 1. Import pySUMMA 3.0.0"
   ]
  },
  {
   "cell_type": "code",
   "execution_count": 3,
   "metadata": {},
   "outputs": [],
   "source": [
    "import pysumma as ps\n",
    "import os"
   ]
  },
  {
   "cell_type": "markdown",
   "metadata": {},
   "source": [
    "## 2. Create Simulatioin Object"
   ]
  },
  {
   "cell_type": "code",
   "execution_count": 4,
   "metadata": {
    "scrolled": true
   },
   "outputs": [],
   "source": [
    "instance = 'SummaModel_ReynoldsAspenStand_StomatalResistance'\n",
    "executable = \"/usr/bin/summa.exe\"\n",
    "file_manager = os.path.join(os.getcwd(), instance, 'settings/summa_fileManager_riparianAspenSimpleResistance.txt')\n",
    "\n",
    "s = ps.Simulation(executable, file_manager)"
   ]
  },
  {
   "cell_type": "markdown",
   "metadata": {},
   "source": [
    "## 3. Explore file manager"
   ]
  },
  {
   "cell_type": "markdown",
   "metadata": {},
   "source": [
    "### 3.1 Show file manager using `orginal_contents` attribute"
   ]
  },
  {
   "cell_type": "code",
   "execution_count": 5,
   "metadata": {},
   "outputs": [
    {
     "data": {
      "text/plain": [
       "[\"controlVersion       'SUMMA_FILE_MANAGER_V3.0.0' !  fman_ver\\n\",\n",
       " \"simStartTime         '2006-07-01 00:00' ! \\n\",\n",
       " \"simEndTime           '2007-09-30 00:00' ! \\n\",\n",
       " \"tmZoneInfo           'localTime' ! \\n\",\n",
       " \"settingsPath         '/home/jovyan/work/SUMMA3_Manual/SummaModel_ReynoldsAspenStand_StomatalResistance/settings/' !  setting_path\\n\",\n",
       " \"forcingPath          '/home/jovyan/work/SUMMA3_Manual/SummaModel_ReynoldsAspenStand_StomatalResistance/data/forcingData/' !  input_path\\n\",\n",
       " \"outputPath           '/home/jovyan/work/SUMMA3_Manual/SummaModel_ReynoldsAspenStand_StomatalResistance/output/' !  output_path\\n\",\n",
       " \"decisionsFile        'summa_zDecisions_riparianAspenSimpleResistance.txt' !  decision\\n\",\n",
       " \"outputControlFile    'meta/Model_Output.txt' !  OUTPUT_CONTROL\\n\",\n",
       " \"globalHruParamFile   'summa_zLocalParamInfo.txt' !  local_par\\n\",\n",
       " \"globalGruParamFile   'summa_zBasinParamInfo.txt' !  basin_par\\n\",\n",
       " \"attributeFile        'summa_zLocalAttributes_riparianAspen.nc' !  local_attr\\n\",\n",
       " \"trialParamFile       'summa_zParamTrial_riparianAspen.nc' !  para_trial\\n\",\n",
       " \"forcingListFile      'summa_zForcingFileList_riparianAspen.txt' !  forcing_list\\n\",\n",
       " \"initConditionFile    'summa_zInitialCond.nc' !  initial_cond\\n\",\n",
       " \"outFilePrefix        'vegImpactsTranspire' !  output_prefix\\n\",\n",
       " \"vegTableFile         'VEGPARM.TBL' ! \\n\",\n",
       " \"soilTableFile        'SOILPARM.TBL' ! \\n\",\n",
       " \"generalTableFile     'GENPARM.TBL' ! \\n\",\n",
       " \"noahmpTableFile      'MPTABLE.TBL' ! \\n\",\n",
       " '! history Mon Jul 20 16:08:15 2020: /pool0/home/andrbenn/data/summa_3/utils/convert_summa_config_v2_v3.py ./wrrPaperTestCases/figure07/summa_fileManager_riparianAspenSimpleResistance.txt\\n']"
      ]
     },
     "execution_count": 5,
     "metadata": {},
     "output_type": "execute_result"
    }
   ],
   "source": [
    "s.manager.original_contents"
   ]
  },
  {
   "cell_type": "markdown",
   "metadata": {},
   "source": [
    "### 3.2 Show file manager using `print` command"
   ]
  },
  {
   "cell_type": "code",
   "execution_count": 6,
   "metadata": {},
   "outputs": [
    {
     "name": "stdout",
     "output_type": "stream",
     "text": [
      "controlVersion                       'SUMMA_FILE_MANAGER_V3.0.0'\n",
      "simStartTime                         '2006-07-01 00:00'\n",
      "simEndTime                           '2007-09-30 00:00'\n",
      "tmZoneInfo                           'localTime'\n",
      "settingsPath                         '/home/jovyan/work/SUMMA3_Manual/SummaModel_ReynoldsAspenStand_StomatalResistance/settings/'\n",
      "forcingPath                          '/home/jovyan/work/SUMMA3_Manual/SummaModel_ReynoldsAspenStand_StomatalResistance/data/forcingData/'\n",
      "outputPath                           '/home/jovyan/work/SUMMA3_Manual/SummaModel_ReynoldsAspenStand_StomatalResistance/output/'\n",
      "decisionsFile                        'summa_zDecisions_riparianAspenSimpleResistance.txt'\n",
      "outputControlFile                    'meta/Model_Output.txt'\n",
      "globalHruParamFile                   'summa_zLocalParamInfo.txt'\n",
      "globalGruParamFile                   'summa_zBasinParamInfo.txt'\n",
      "attributeFile                        'summa_zLocalAttributes_riparianAspen.nc'\n",
      "trialParamFile                       'summa_zParamTrial_riparianAspen.nc'\n",
      "forcingListFile                      'summa_zForcingFileList_riparianAspen.txt'\n",
      "initConditionFile                    'summa_zInitialCond.nc'\n",
      "outFilePrefix                        'vegImpactsTranspire'\n",
      "vegTableFile                         'VEGPARM.TBL'\n",
      "soilTableFile                        'SOILPARM.TBL'\n",
      "generalTableFile                     'GENPARM.TBL'\n",
      "noahmpTableFile                      'MPTABLE.TBL'\n"
     ]
    }
   ],
   "source": [
    "print(s.manager)"
   ]
  },
  {
   "cell_type": "markdown",
   "metadata": {},
   "source": [
    "### 3.3 Get value of each line in file manager"
   ]
  },
  {
   "cell_type": "code",
   "execution_count": 7,
   "metadata": {},
   "outputs": [
    {
     "data": {
      "text/plain": [
       "'/home/jovyan/work/SUMMA3_Manual/SummaModel_ReynoldsAspenStand_StomatalResistance/settings/'"
      ]
     },
     "execution_count": 7,
     "metadata": {},
     "output_type": "execute_result"
    }
   ],
   "source": [
    "s.manager['settingsPath'].value"
   ]
  },
  {
   "cell_type": "code",
   "execution_count": 8,
   "metadata": {},
   "outputs": [
    {
     "data": {
      "text/plain": [
       "'/home/jovyan/work/SUMMA3_Manual/SummaModel_ReynoldsAspenStand_StomatalResistance/data/forcingData/'"
      ]
     },
     "execution_count": 8,
     "metadata": {},
     "output_type": "execute_result"
    }
   ],
   "source": [
    "s.manager['forcingPath'].value"
   ]
  },
  {
   "cell_type": "code",
   "execution_count": 9,
   "metadata": {},
   "outputs": [
    {
     "data": {
      "text/plain": [
       "'summa_zLocalAttributes_riparianAspen.nc'"
      ]
     },
     "execution_count": 9,
     "metadata": {},
     "output_type": "execute_result"
    }
   ],
   "source": [
    "s.manager['attributeFile'].value"
   ]
  },
  {
   "cell_type": "markdown",
   "metadata": {},
   "source": [
    "### 3.4 Change the value of each line in file manager"
   ]
  },
  {
   "cell_type": "code",
   "execution_count": 10,
   "metadata": {},
   "outputs": [
    {
     "data": {
      "text/plain": [
       "'2006-07-01 00:00'"
      ]
     },
     "execution_count": 10,
     "metadata": {},
     "output_type": "execute_result"
    }
   ],
   "source": [
    "# show the current value of simStartTime\n",
    "s.manager['simStartTime'].value"
   ]
  },
  {
   "cell_type": "code",
   "execution_count": 11,
   "metadata": {},
   "outputs": [],
   "source": [
    "# set different value of simStartTime\n",
    "s.manager['simStartTime'].value = '[notUsed]'"
   ]
  },
  {
   "cell_type": "code",
   "execution_count": 12,
   "metadata": {},
   "outputs": [
    {
     "data": {
      "text/plain": [
       "'[notUsed]'"
      ]
     },
     "execution_count": 12,
     "metadata": {},
     "output_type": "execute_result"
    }
   ],
   "source": [
    "s.manager['simStartTime'].value"
   ]
  },
  {
   "cell_type": "code",
   "execution_count": 13,
   "metadata": {},
   "outputs": [],
   "source": [
    "# another way to set different value of simStartTime\n",
    "s.manager['simStartTime'].value = '2006-07-01 00:00'"
   ]
  },
  {
   "cell_type": "code",
   "execution_count": 14,
   "metadata": {},
   "outputs": [
    {
     "data": {
      "text/plain": [
       "'2006-07-01 00:00'"
      ]
     },
     "execution_count": 14,
     "metadata": {},
     "output_type": "execute_result"
    }
   ],
   "source": [
    "s.manager['simStartTime'].value"
   ]
  },
  {
   "cell_type": "code",
   "execution_count": 15,
   "metadata": {},
   "outputs": [],
   "source": [
    "# overwirte the current value of meta_time in file manger\n",
    "s.manager.write()"
   ]
  },
  {
   "cell_type": "code",
   "execution_count": 16,
   "metadata": {},
   "outputs": [
    {
     "name": "stdout",
     "output_type": "stream",
     "text": [
      "controlVersion                       'SUMMA_FILE_MANAGER_V3.0.0'\n",
      "simStartTime                         '2006-07-01 00:00'\n",
      "simEndTime                           '2007-09-30 00:00'\n",
      "tmZoneInfo                           'localTime'\n",
      "settingsPath                         '/home/jovyan/work/SUMMA3_Manual/SummaModel_ReynoldsAspenStand_StomatalResistance/settings/'\n",
      "forcingPath                          '/home/jovyan/work/SUMMA3_Manual/SummaModel_ReynoldsAspenStand_StomatalResistance/data/forcingData/'\n",
      "outputPath                           '/home/jovyan/work/SUMMA3_Manual/SummaModel_ReynoldsAspenStand_StomatalResistance/output/'\n",
      "decisionsFile                        'summa_zDecisions_riparianAspenSimpleResistance.txt'\n",
      "outputControlFile                    'meta/Model_Output.txt'\n",
      "globalHruParamFile                   'summa_zLocalParamInfo.txt'\n",
      "globalGruParamFile                   'summa_zBasinParamInfo.txt'\n",
      "attributeFile                        'summa_zLocalAttributes_riparianAspen.nc'\n",
      "trialParamFile                       'summa_zParamTrial_riparianAspen.nc'\n",
      "forcingListFile                      'summa_zForcingFileList_riparianAspen.txt'\n",
      "initConditionFile                    'summa_zInitialCond.nc'\n",
      "outFilePrefix                        'vegImpactsTranspire'\n",
      "vegTableFile                         'VEGPARM.TBL'\n",
      "soilTableFile                        'SOILPARM.TBL'\n",
      "generalTableFile                     'GENPARM.TBL'\n",
      "noahmpTableFile                      'MPTABLE.TBL'\n"
     ]
    }
   ],
   "source": [
    "# check the changed value of meta_time in file manger\n",
    "print(s.manager)"
   ]
  },
  {
   "cell_type": "markdown",
   "metadata": {},
   "source": [
    "### 3.5 Look at other configuration files using manager modules"
   ]
  },
  {
   "cell_type": "code",
   "execution_count": 17,
   "metadata": {},
   "outputs": [
    {
     "name": "stdout",
     "output_type": "stream",
     "text": [
      "soilCatTbl    ROSETTA              ! soil-category dataset\n",
      "vegeParTbl    USGS                 ! vegetation-category dataset\n",
      "soilStress    NoahType             ! choice of function for the soil moisture control on stomatal resistance\n",
      "stomResist    simpleResistance     ! choice of function for stomatal resistance\n",
      "num_method    itertive             ! choice of numerical method\n",
      "fDerivMeth    analytic             ! choice of method to calculate flux derivatives\n",
      "LAI_method    specified            ! choice of method to determine LAI and SAI\n",
      "f_Richards    mixdform             ! form of Richards equation\n",
      "groundwatr    noXplict             ! choice of groundwater parameterization\n",
      "hc_profile    constant             ! choice of hydraulic conductivity profile\n",
      "bcUpprTdyn    nrg_flux             ! type of upper boundary condition for thermodynamics\n",
      "bcLowrTdyn    zeroFlux             ! type of lower boundary condition for thermodynamics\n",
      "bcUpprSoiH    liq_flux             ! type of upper boundary condition for soil hydrology\n",
      "bcLowrSoiH    drainage             ! type of lower boundary condition for soil hydrology\n",
      "veg_traits    CM_QJRMS1988         ! choice of parameterization for vegetation roughness length and displacement height\n",
      "canopyEmis    difTrans             ! choice of parameterization for canopy emissivity\n",
      "snowIncept    lightSnow            ! choice of parameterization for snow interception\n",
      "windPrfile    logBelowCanopy       ! choice of canopy wind profile\n",
      "astability    louisinv             ! choice of stability function\n",
      "canopySrad    BeersLaw             ! choice of method for canopy shortwave radiation\n",
      "alb_method    varDecay             ! choice of albedo representation\n",
      "compaction    anderson             ! choice of compaction routine\n",
      "snowLayers    CLM_2010             ! choice of method to combine and sub-divide snow layers\n",
      "thCondSnow    jrdn1991             ! choice of thermal conductivity representation for snow\n",
      "thCondSoil    mixConstit           ! choice of thermal conductivity representation for soil\n",
      "spatial_gw    localColumn          ! choice of method for spatial representation of groundwater\n",
      "subRouting    timeDlay             ! choice of method for sub-grid routing\n"
     ]
    }
   ],
   "source": [
    "# Read decision text file\n",
    "print(s.decisions)"
   ]
  },
  {
   "cell_type": "code",
   "execution_count": 18,
   "metadata": {},
   "outputs": [
    {
     "name": "stdout",
     "output_type": "stream",
     "text": [
      "nSnow                                | 1 | 0 | 1 | 0 | 0 | 0 | 0 | 0\n",
      "nSoil                                | 1 | 0 | 1 | 0 | 0 | 0 | 0 | 0\n",
      "pptrate                              | 1 | 0 | 1 | 0 | 0 | 0 | 0 | 0\n",
      "airtemp                              | 1 | 0 | 1 | 0 | 0 | 0 | 0 | 0\n",
      "scalarRainPlusMelt                   | 1 | 0 | 1 | 0 | 0 | 0 | 0 | 0\n",
      "scalarSWE                            | 1 | 0 | 1 | 0 | 0 | 0 | 0 | 0\n",
      "scalarThroughfallSnow                | 1 | 0 | 1 | 0 | 0 | 0 | 0 | 0\n",
      "scalarThroughfallRain                | 1 | 0 | 1 | 0 | 0 | 0 | 0 | 0\n",
      "scalarSnowSublimation                | 1 | 0 | 1 | 0 | 0 | 0 | 0 | 0\n",
      "scalarInfiltration                   | 1 | 0 | 1 | 0 | 0 | 0 | 0 | 0\n",
      "scalarExfiltration                   | 1 | 0 | 1 | 0 | 0 | 0 | 0 | 0\n",
      "scalarSurfaceRunoff                  | 1 | 0 | 1 | 0 | 0 | 0 | 0 | 0\n",
      "scalarSurfaceTemp                    | 1 | 0 | 1 | 0 | 0 | 0 | 0 | 0\n",
      "scalarSenHeatTotal                   | 1 | 0 | 1 | 0 | 0 | 0 | 0 | 0\n",
      "scalarLatHeatTotal                   | 1 | 0 | 1 | 0 | 0 | 0 | 0 | 0\n",
      "scalarCanopyTranspiration            | 1 | 0 | 1 | 0 | 0 | 0 | 0 | 0\n",
      "scalarCanopyEvaporation              | 1 | 0 | 1 | 0 | 0 | 0 | 0 | 0\n",
      "scalarGroundEvaporation              | 1 | 0 | 1 | 0 | 0 | 0 | 0 | 0\n",
      "iLayerHeight                         | 1 | 0 | 1 | 0 | 0 | 0 | 0 | 0\n",
      "iLayerLiqFluxSoil                    | 1 | 0 | 1 | 0 | 0 | 0 | 0 | 0\n",
      "mLayerTemp                           | 1 | 0 | 1 | 0 | 0 | 0 | 0 | 0\n",
      "mLayerDepth                          | 1 | 0 | 1 | 0 | 0 | 0 | 0 | 0\n",
      "mLayerLiqFluxSoil                    | 1 | 0 | 1 | 0 | 0 | 0 | 0 | 0\n",
      "mLayerVolFracIce                     | 1 | 0 | 1 | 0 | 0 | 0 | 0 | 0\n",
      "mLayerVolFracLiq                     | 1 | 0 | 1 | 0 | 0 | 0 | 0 | 0\n",
      "mLayerVolFracWat                     | 1 | 0 | 1 | 0 | 0 | 0 | 0 | 0\n",
      "mLayerMatricHead                     | 1 | 0 | 1 | 0 | 0 | 0 | 0 | 0\n",
      "basin__SurfaceRunoff                 | 1 | 0 | 1 | 0 | 0 | 0 | 0 | 0\n",
      "basin__ColumnOutflow                 | 1 | 0 | 1 | 0 | 0 | 0 | 0 | 0\n",
      "basin__AquiferStorage                | 1 | 0 | 1 | 0 | 0 | 0 | 0 | 0\n",
      "basin__AquiferRecharge               | 1 | 0 | 1 | 0 | 0 | 0 | 0 | 0\n",
      "basin__AquiferBaseflow               | 1 | 0 | 1 | 0 | 0 | 0 | 0 | 0\n",
      "basin__AquiferTranspire              | 1 | 0 | 1 | 0 | 0 | 0 | 0 | 0\n",
      "averageInstantRunoff                 | 1 | 0 | 1 | 0 | 0 | 0 | 0 | 0\n",
      "averageRoutedRunoff                  | 1 | 0 | 1 | 0 | 0 | 0 | 0 | 0\n"
     ]
    }
   ],
   "source": [
    "# Read output control text file\n",
    "print(s.output_control)"
   ]
  },
  {
   "cell_type": "code",
   "execution_count": 19,
   "metadata": {},
   "outputs": [
    {
     "name": "stdout",
     "output_type": "stream",
     "text": [
      "upperBoundHead            |      -7.5d-1 |      -1.0d+2 |      -1.0d-2\n",
      "lowerBoundHead            |       0.0000 |      -1.0d+2 |      -1.0d-2\n",
      "upperBoundTheta           |       0.2004 |       0.1020 |       0.3680\n",
      "lowerBoundTheta           |       0.1100 |       0.1020 |       0.3680\n",
      "upperBoundTemp            |     272.1600 |     270.1600 |     280.1600\n",
      "lowerBoundTemp            |     274.1600 |     270.1600 |     280.1600\n",
      "tempCritRain              |     273.1600 |     272.1600 |     274.1600\n",
      "tempRangeTimestep         |       2.0000 |       0.5000 |       5.0000\n",
      "frozenPrecipMultip        |       1.0000 |       0.5000 |       1.5000\n",
      "snowfrz_scale             |      50.0000 |      10.0000 |    1000.0000\n",
      "fixedThermalCond_snow     |       0.3500 |       0.1000 |       1.0000\n",
      "albedoMax                 |       0.8400 |       0.7000 |       0.9500\n",
      "albedoMinWinter           |       0.5500 |       0.6000 |       1.0000\n",
      "albedoMinSpring           |       0.5500 |       0.3000 |       1.0000\n",
      "albedoMaxVisible          |       0.9500 |       0.7000 |       0.9500\n",
      "albedoMinVisible          |       0.7500 |       0.5000 |       0.7500\n",
      "albedoMaxNearIR           |       0.6500 |       0.5000 |       0.7500\n",
      "albedoMinNearIR           |       0.3000 |       0.1500 |       0.4500\n",
      "albedoDecayRate           |       1.0d+6 |       1.0d+5 |       5.0d+6\n",
      "albedoSootLoad            |       0.3000 |       0.1000 |       0.5000\n",
      "albedoRefresh             |       1.0000 |       1.0000 |      10.0000\n",
      "radExt_snow               |      20.0000 |      20.0000 |      20.0000\n",
      "directScale               |       0.0900 |       0.0000 |       0.5000\n",
      "Frad_direct               |       0.7000 |       0.0000 |       1.0000\n",
      "Frad_vis                  |       0.5000 |       0.0000 |       1.0000\n",
      "newSnowDenMin             |     100.0000 |      50.0000 |     100.0000\n",
      "newSnowDenMult            |     100.0000 |      25.0000 |      75.0000\n",
      "newSnowDenScal            |       5.0000 |       1.0000 |       5.0000\n",
      "constSnowDen              |     100.0000 |      50.0000 |     250.0000\n",
      "newSnowDenAdd             |     109.0000 |      80.0000 |     120.0000\n",
      "newSnowDenMultTemp        |       6.0000 |       1.0000 |      12.0000\n",
      "newSnowDenMultWind        |      26.0000 |      16.0000 |      36.0000\n",
      "newSnowDenMultAnd         |       1.0000 |       1.0000 |       3.0000\n",
      "newSnowDenBase            |       0.0000 |       0.0000 |       0.0000\n",
      "densScalGrowth            |       0.0460 |       0.0230 |       0.0920\n",
      "tempScalGrowth            |       0.0400 |       0.0200 |       0.0600\n",
      "grainGrowthRate           |       2.7d-6 |       1.0d-6 |       5.0d-6\n",
      "densScalOvrbdn            |       0.0230 |       0.0115 |       0.0460\n",
      "tempScalOvrbdn            |       0.0800 |       0.6000 |       1.0000\n",
      "baseViscosity             |       9.0d+5 |       5.0d+5 |       1.5d+6\n",
      "Fcapil                    |       0.0600 |       0.0100 |       0.1000\n",
      "k_snow                    |       0.0150 |       0.0050 |       0.0500\n",
      "mw_exp                    |       3.0000 |       1.0000 |       5.0000\n",
      "z0Snow                    |       0.0010 |       0.0010 |      10.0000\n",
      "z0Soil                    |       0.0100 |       0.0010 |      10.0000\n",
      "z0Canopy                  |       0.1000 |       0.0010 |      10.0000\n",
      "zpdFraction               |       0.6500 |       0.5000 |       0.8500\n",
      "critRichNumber            |       0.2000 |       0.1000 |       1.0000\n",
      "Louis79_bparam            |       9.4000 |       9.2000 |       9.6000\n",
      "Louis79_cStar             |       5.3000 |       5.1000 |       5.5000\n",
      "Mahrt87_eScale            |       1.0000 |       0.5000 |       2.0000\n",
      "leafExchangeCoeff         |       0.0100 |       0.0010 |       0.1000\n",
      "windReductionParam        |       0.2800 |       0.0000 |       1.0000\n",
      "Kc25                      |     296.0770 |     296.0770 |     296.0770\n",
      "Ko25                      |       0.2961 |       0.2961 |       0.2961\n",
      "Kc_qFac                   |       2.1000 |       2.1000 |       2.1000\n",
      "Ko_qFac                   |       1.2000 |       1.2000 |       1.2000\n",
      "kc_Ha                     |       7.9d+4 |       7.9d+4 |       7.9d+4\n",
      "ko_Ha                     |       3.6d+4 |       3.6d+4 |       3.6d+4\n",
      "vcmax25_canopyTop         |      40.0000 |      20.0000 |     100.0000\n",
      "vcmax_qFac                |       2.4000 |       2.4000 |       2.4000\n",
      "vcmax_Ha                  |       6.5d+4 |       6.5d+4 |       6.5d+4\n",
      "vcmax_Hd                  |       2.2d+5 |       1.5d+5 |       1.5d+5\n",
      "vcmax_Sv                  |     710.0000 |     485.0000 |     485.0000\n",
      "vcmax_Kn                  |       0.6000 |       0.0000 |       1.2000\n",
      "jmax25_scale              |       2.0000 |       2.0000 |       2.0000\n",
      "jmax_Ha                   |       4.4d+4 |       4.4d+4 |       4.4d+4\n",
      "jmax_Hd                   |       1.5d+5 |       1.5d+5 |       1.5d+5\n",
      "jmax_Sv                   |     495.0000 |     495.0000 |     495.0000\n",
      "fractionJ                 |       0.1500 |       0.1500 |       0.1500\n",
      "quantamYield              |       0.0500 |       0.0500 |       0.0500\n",
      "vpScaleFactor             |    1500.0000 |    1500.0000 |    1500.0000\n",
      "cond2photo_slope          |       9.0000 |       1.0000 |      10.0000\n",
      "minStomatalConductance    |    2000.0000 |    2000.0000 |    2000.0000\n",
      "winterSAI                 |       1.0000 |       0.0100 |       3.0000\n",
      "summerLAI                 |       3.0000 |       0.0100 |      10.0000\n",
      "rootScaleFactor1          |       2.0000 |       1.0000 |      10.0000\n",
      "rootScaleFactor2          |       5.0000 |       1.0000 |      10.0000\n",
      "rootingDepth              |       2.0000 |       0.0100 |      10.0000\n",
      "rootDistExp               |       1.0000 |       0.0100 |       1.0000\n",
      "plantWiltPsi              |      -1.5d+2 |      -5.0d+2 |       0.0000\n",
      "soilStressParam           |       5.8000 |       4.3600 |       6.3700\n",
      "critSoilWilting           |       0.0750 |       0.0000 |       1.0000\n",
      "critSoilTranspire         |       0.1750 |       0.0000 |       1.0000\n",
      "critAquiferTranspire      |       0.2000 |       0.1000 |      10.0000\n",
      "minStomatalResistance     |      50.0000 |      10.0000 |     200.0000\n",
      "leafDimension             |       0.0400 |       0.0100 |       0.1000\n",
      "heightCanopyTop           |      20.0000 |       0.0500 |     100.0000\n",
      "heightCanopyBottom        |       2.0000 |       0.0000 |       5.0000\n",
      "specificHeatVeg           |     874.0000 |     500.0000 |    1500.0000\n",
      "maxMassVegetation         |      25.0000 |       1.0000 |      50.0000\n",
      "throughfallScaleSnow      |       0.5000 |       0.1000 |       0.9000\n",
      "throughfallScaleRain      |       0.5000 |       0.1000 |       0.9000\n",
      "refInterceptCapSnow       |       6.6000 |       1.0000 |      10.0000\n",
      "refInterceptCapRain       |       1.0000 |       0.0100 |       1.0000\n",
      "snowUnloadingCoeff        |       0.0000 |       0.0000 |       1.5d-6\n",
      "canopyDrainageCoeff       |       0.0050 |       0.0010 |       0.0100\n",
      "ratioDrip2Unloading       |       0.4000 |       0.0000 |       1.0000\n",
      "canopyWettingFactor       |       0.7000 |       0.0000 |       1.0000\n",
      "canopyWettingExp          |       1.0000 |       0.0000 |       1.0000\n",
      "soil_dens_intr            |    2700.0000 |     500.0000 |    4000.0000\n",
      "thCond_soil               |       5.5000 |       2.9000 |       8.4000\n",
      "frac_sand                 |       0.1600 |       0.0000 |       1.0000\n",
      "frac_silt                 |       0.2800 |       0.0000 |       1.0000\n",
      "frac_clay                 |       0.5600 |       0.0000 |       1.0000\n",
      "fieldCapacity             |       0.2000 |       0.0000 |       1.0000\n",
      "wettingFrontSuction       |       0.3000 |       0.1000 |       1.5000\n",
      "theta_mp                  |       0.4010 |       0.3000 |       0.6000\n",
      "theta_sat                 |       0.5500 |       0.3000 |       0.6000\n",
      "theta_res                 |       0.1390 |       0.0010 |       0.1000\n",
      "vGn_alpha                 |      -8.4d-1 |      -1.0d+0 |      -1.0d-2\n",
      "vGn_n                     |       1.3000 |       1.0000 |       3.0000\n",
      "mpExp                     |       5.0000 |       1.0000 |      10.0000\n",
      "k_soil                    |       7.5d-6 |       1.0d-7 |       1.0d-5\n",
      "k_macropore               |       0.0010 |       1.0d-7 |       1.0d-5\n",
      "kAnisotropic              |       1.0000 |       0.0001 |      10.0000\n",
      "zScale_TOPMODEL           |       2.5000 |       0.1000 |     100.0000\n",
      "compactedDepth            |       1.0000 |       0.0000 |       1.0000\n",
      "aquiferScaleFactor        |       0.3500 |       0.1000 |     100.0000\n",
      "aquiferBaseflowExp        |       2.0000 |       1.0000 |      10.0000\n",
      "aquiferBaseflowRate       |       2.0000 |       1.0000 |      10.0000\n",
      "qSurfScale                |      50.0000 |       1.0000 |     100.0000\n",
      "specificYield             |       0.2000 |       0.1000 |       0.3000\n",
      "specificStorage           |       1.0d-9 |       1.0d-5 |       1.0d-7\n",
      "f_impede                  |       2.0000 |       1.0000 |      10.0000\n",
      "soilIceScale              |       0.1300 |       0.0001 |       1.0000\n",
      "soilIceCV                 |       0.4500 |       0.1000 |       5.0000\n",
      "minwind                   |       0.1000 |       0.0010 |       1.0000\n",
      "minstep                   |       1.0000 |       1.0000 |    1800.0000\n",
      "maxstep                   |    3600.0000 |      60.0000 |    1800.0000\n",
      "wimplicit                 |       0.0000 |       0.0000 |       1.0000\n",
      "maxiter                   |     100.0000 |       1.0000 |     100.0000\n",
      "relConvTol_liquid         |       0.0010 |       1.0d-5 |       0.1000\n",
      "absConvTol_liquid         |       1.0d-6 |       1.0d-8 |       0.0010\n",
      "relConvTol_matric         |       1.0d-6 |       1.0d-5 |       0.1000\n",
      "absConvTol_matric         |       1.0d-6 |       1.0d-8 |       0.0010\n",
      "relConvTol_energy         |       0.0100 |       1.0d-5 |       0.1000\n",
      "absConvTol_energy         |       1.0000 |       0.0100 |      10.0000\n",
      "relConvTol_aquifr         |       1.0000 |       0.0100 |      10.0000\n",
      "absConvTol_aquifr         |       1.0d-5 |       1.0d-5 |       0.1000\n",
      "zmin                      |       0.0100 |       0.0050 |       0.1000\n",
      "zmax                      |       0.0500 |       0.0100 |       0.5000\n",
      "zminLayer1                |       0.0075 |       0.0075 |       0.0075\n",
      "zminLayer2                |       0.0100 |       0.0100 |       0.0100\n",
      "zminLayer3                |       0.0500 |       0.0500 |       0.0500\n",
      "zminLayer4                |       0.1000 |       0.1000 |       0.1000\n",
      "zminLayer5                |       0.2500 |       0.2500 |       0.2500\n",
      "zmaxLayer1_lower          |       0.0500 |       0.0500 |       0.0500\n",
      "zmaxLayer2_lower          |       0.2000 |       0.2000 |       0.2000\n",
      "zmaxLayer3_lower          |       0.5000 |       0.5000 |       0.5000\n",
      "zmaxLayer4_lower          |       1.0000 |       1.0000 |       1.0000\n",
      "zmaxLayer1_upper          |       0.0300 |       0.0300 |       0.0300\n",
      "zmaxLayer2_upper          |       0.1500 |       0.1500 |       0.1500\n",
      "zmaxLayer3_upper          |       0.3000 |       0.3000 |       0.3000\n",
      "zmaxLayer4_upper          |       0.7500 |       0.7500 |       0.7500\n",
      "minTempUnloading          |     270.1600 |     260.1600 |     273.1600\n",
      "minWindUnloading          |       0.0000 |       0.0000 |      10.0000\n",
      "rateTempUnloading         |       1.9d+5 |       1.0d+5 |       3.0d+5\n",
      "rateWindUnloading         |       1.6d+5 |       1.0d+5 |       3.0d+5\n"
     ]
    }
   ],
   "source": [
    "# Read local param info text file\n",
    "print(s.global_hru_params)"
   ]
  },
  {
   "cell_type": "code",
   "execution_count": 20,
   "metadata": {},
   "outputs": [
    {
     "name": "stdout",
     "output_type": "stream",
     "text": [
      "basin__aquiferHydCond     |       0.0100 |       0.0001 |      10.0000\n",
      "basin__aquiferScaleFactor |       3.5000 |       0.1000 |     100.0000\n",
      "basin__aquiferBaseflowExp |       5.0000 |       1.0000 |      10.0000\n",
      "routingGammaShape         |       2.5000 |       2.0000 |       3.0000\n",
      "routingGammaScale         |       2.0d+4 |       1.0000 |       5.0d+6\n"
     ]
    }
   ],
   "source": [
    "# Read basin param info text file\n",
    "print(s.global_gru_params)"
   ]
  },
  {
   "cell_type": "code",
   "execution_count": 21,
   "metadata": {},
   "outputs": [
    {
     "name": "stdout",
     "output_type": "stream",
     "text": [
      "'forcing_above_aspen.nc'\n"
     ]
    }
   ],
   "source": [
    "# Read forcing file list\n",
    "print(s.force_file_list)"
   ]
  },
  {
   "cell_type": "code",
   "execution_count": 22,
   "metadata": {},
   "outputs": [
    {
     "name": "stdout",
     "output_type": "stream",
     "text": [
      "<xarray.Dataset>\n",
      "Dimensions:         (gru: 1, hru: 1)\n",
      "Dimensions without coordinates: gru, hru\n",
      "Data variables:\n",
      "    hru2gruId       (hru) int32 1001\n",
      "    downHRUindex    (hru) int32 0\n",
      "    slopeTypeIndex  (hru) int32 1\n",
      "    soilTypeIndex   (hru) int32 8\n",
      "    vegTypeIndex    (hru) int32 11\n",
      "    mHeight         (hru) float64 19.25\n",
      "    contourLength   (hru) float64 180.8\n",
      "    tan_slope       (hru) float64 0.2083\n",
      "    elevation       (hru) float64 2.097e+03\n",
      "    longitude       (hru) float64 243.2\n",
      "    latitude        (hru) float64 43.2\n",
      "    HRUarea         (hru) float64 3.27e+04\n",
      "    hruId           (hru) int32 1001\n",
      "    gruId           (gru) int32 1001\n",
      "Attributes:\n",
      "    datasource:  *zLocalAttributes*\n",
      "    history:     Tue Sep 27 21:51:50 2016: ncrename -d nhru,hru -d ngru,gru ....\n",
      "    NCO:         \"4.6.0\"\n"
     ]
    }
   ],
   "source": [
    "# Read local attributes netCDF file\n",
    "print(s.local_attributes)"
   ]
  },
  {
   "cell_type": "code",
   "execution_count": 23,
   "metadata": {},
   "outputs": [
    {
     "name": "stdout",
     "output_type": "stream",
     "text": [
      "<xarray.Dataset>\n",
      "Dimensions:             (hru: 1)\n",
      "Dimensions without coordinates: hru\n",
      "Data variables:\n",
      "    hruIndex            (hru) float64 1.001e+03\n",
      "    frozenPrecipMultip  (hru) float64 1.0\n",
      "    theta_mp            (hru) float64 0.2211\n",
      "    theta_sat           (hru) float64 0.4792\n",
      "    theta_res           (hru) float64 0.1\n",
      "    vGn_alpha           (hru) float64 -0.858\n",
      "    vGn_n               (hru) float64 1.306\n",
      "    f_impede            (hru) float64 0.0\n",
      "    k_soil              (hru) float64 3.53e-06\n",
      "    k_macropore         (hru) float64 0.06255\n",
      "    critSoilWilting     (hru) float64 0.125\n",
      "    critSoilTranspire   (hru) float64 0.2\n",
      "    winterSAI           (hru) float64 0.45\n",
      "    summerLAI           (hru) float64 2.5\n",
      "    heightCanopyTop     (hru) float64 9.5\n",
      "    heightCanopyBottom  (hru) float64 3.0\n",
      "    kAnisotropic        (hru) float64 1.0\n",
      "    rootDistExp         (hru) float64 1.0\n",
      "    zScale_TOPMODEL     (hru) float64 4.057\n",
      "    qSurfScale          (hru) float64 84.06\n",
      "Attributes:\n",
      "    history:  Converted to NetCDF using \"/Users/nijssen/Dropbox/data/PLUMBER/...\n"
     ]
    }
   ],
   "source": [
    "# Read parameter trial netCDF file\n",
    "print(s.trial_params)"
   ]
  },
  {
   "cell_type": "code",
   "execution_count": 24,
   "metadata": {},
   "outputs": [
    {
     "name": "stdout",
     "output_type": "stream",
     "text": [
      "<xarray.Dataset>\n",
      "Dimensions:               (hru: 1, ifcToto: 9, midSoil: 8, midToto: 8, scalarv: 1)\n",
      "Dimensions without coordinates: hru, ifcToto, midSoil, midToto, scalarv\n",
      "Data variables:\n",
      "    mLayerVolFracIce      (midToto, hru) float64 0.0 0.0 0.0 0.0 0.0 0.0 0.0 0.0\n",
      "    scalarCanairTemp      (scalarv, hru) float64 286.0\n",
      "    nSnow                 (scalarv, hru) int64 0\n",
      "    iLayerHeight          (ifcToto, hru) float64 0.0 0.025 0.1 ... 1.5 2.5 4.0\n",
      "    mLayerMatricHead      (midSoil, hru) float64 -100.0 -100.0 ... -100.0 -100.0\n",
      "    scalarSnowAlbedo      (scalarv, hru) float64 0.82\n",
      "    dt_init               (scalarv, hru) float64 360.0\n",
      "    mLayerTemp            (midToto, hru) float64 288.5 288.5 ... 288.5 288.5\n",
      "    scalarSfcMeltPond     (scalarv, hru) float64 0.0\n",
      "    scalarCanopyTemp      (scalarv, hru) float64 290.0\n",
      "    scalarSnowDepth       (scalarv, hru) float64 0.0\n",
      "    nSoil                 (scalarv, hru) int64 8\n",
      "    scalarSWE             (scalarv, hru) float64 0.0\n",
      "    scalarCanopyLiq       (scalarv, hru) float64 3.16\n",
      "    mLayerVolFracLiq      (midToto, hru) float64 0.29 0.29 0.29 ... 0.29 0.29\n",
      "    mLayerDepth           (midToto, hru) float64 0.025 0.075 0.15 ... 1.0 1.5\n",
      "    scalarCanopyIce       (scalarv, hru) float64 0.0\n",
      "    scalarAquiferStorage  (scalarv, hru) float64 0.0\n"
     ]
    }
   ],
   "source": [
    "# Read parameter trial netCDF file\n",
    "print(s.initial_conditions)"
   ]
  },
  {
   "cell_type": "code",
   "execution_count": 25,
   "metadata": {},
   "outputs": [
    {
     "name": "stdout",
     "output_type": "stream",
     "text": [
      "General Parameters\n",
      "SLOPE_DATA\n",
      "9\n",
      "0.1 \n",
      "0.6\n",
      "1.0\n",
      "0.35\n",
      "0.55\n",
      "0.8\n",
      "0.63\n",
      "0.0\n",
      "0.0\n",
      "SBETA_DATA\n",
      "-2.0\n",
      "FXEXP_DATA\n",
      "2.0\n",
      "CSOIL_DATA\n",
      "2.00E+6\n",
      "SALP_DATA\n",
      "2.6\n",
      "REFDK_DATA\n",
      "2.0E-6\n",
      "REFKDT_DATA\n",
      "3.0\n",
      "FRZK_DATA\n",
      "0.15\n",
      "ZBOT_DATA\n",
      "-8.0\n",
      "CZIL_DATA\n",
      "0.1\n",
      "SMLOW_DATA\n",
      "0.5\n",
      "SMHIGH_DATA\n",
      "3.0\n",
      "LVCOEF_DATA\n",
      "0.5\n"
     ]
    }
   ],
   "source": [
    "for genparm in s.genparm:\n",
    "    print(genparm.splitlines()[0])"
   ]
  },
  {
   "cell_type": "code",
   "execution_count": 26,
   "metadata": {
    "scrolled": false
   },
   "outputs": [
    {
     "name": "stdout",
     "output_type": "stream",
     "text": [
      "&noah_mp_usgs_veg_categories\n",
      " VEG_DATASET_DESCRIPTION = \"USGS\"\n",
      " NVEG = 27\n",
      "/\n",
      "&noah_mp_usgs_parameters\n",
      " ! NVEG = 27\n",
      " !  1: Urban and Built-Up Land\n",
      " !  2: Dryland Cropland and Pasture\n",
      " !  3: Irrigated Cropland and Pasture\n",
      " !  4: Mixed Dryland/Irrigated Cropland and Pasture\n",
      " !  5: Cropland/Grassland Mosaic\n",
      " !  6: Cropland/Woodland Mosaic\n",
      " !  7: Grassland\n",
      " !  8: Shrubland\n",
      " !  9: Mixed Shrubland/Grassland\n",
      " ! 10: Savanna\n",
      " ! 11: Deciduous Broadleaf Forest\n",
      " ! 12: Deciduous Needleleaf Forest\n",
      " ! 13: Evergreen Broadleaf Forest\n",
      " ! 14: Evergreen Needleleaf Forest\n",
      " ! 15: Mixed Forest\n",
      " ! 16: Water Bodies\n",
      " ! 17: Herbaceous Wetland\n",
      " ! 18: Wooded Wetland\n",
      " ! 19: Barren or Sparsely Vegetated\n",
      " ! 20: Herbaceous Tundra\n",
      " ! 21: Wooded Tundra\n",
      " ! 22: Mixed Tundra\n",
      " ! 23: Bare Ground Tundra\n",
      " ! 24: Snow or Ice\n",
      " ! 25: Playa\n",
      " ! 26: Lava\n",
      " ! 27: White Sand\n",
      "\n",
      " ISURBAN   = 1\n",
      " ISWATER   = 16\n",
      " ISBARREN  = 19\n",
      " ISSNOW    = 24\n",
      " EBLFOREST = 13\n",
      "\n",
      " !---------------------------------------------------------------------------------------------------------------------------------------------------------------------------------------------------\n",
      " !          1      2      3      4      5      6      7      8      9      10     11     12     13     14     15     16     17     18     19     20     21     22     23     24     25     26    27\n",
      " !---------------------------------------------------------------------------------------------------------------------------------------------------------------------------------------------------\n",
      " CH2OP =   0.1,   0.1,   0.1,   0.1,   0.1,   0.1,   0.1,   0.1,   0.1,   0.1,   0.1,   0.1,   0.1,   0.1,   0.1,   0.1,   0.1,   0.1,   0.1,   0.1,   0.1,   0.1,   0.1,   0.1,   0.1,   0.1,   0.1,\n",
      " DLEAF =  0.04,  0.04,  0.04,  0.04,  0.04,  0.04,  0.04,  0.04,  0.04,  0.04,  0.04,  0.04,  0.04,  0.04,  0.04,  0.04,  0.04,  0.04,  0.04,  0.04,  0.04,  0.04,  0.04,  0.04,  0.04,  0.04,  0.04,\n",
      " Z0MVT =  1.00,  0.06,  0.06,  0.06,  0.06,  0.15,  0.06,  0.06,  0.06,  0.86,  0.80,  0.85,  1.10,  1.09,  0.80,  0.00,  0.06,  0.05,  0.00,  0.04,  0.06,  0.06,  0.03,  0.00,  0.01,  0.00,  0.00,\n",
      " HVT   =  15.0,  0.50,  0.50,  0.50,  0.50,  1.25,  0.50,  0.50,  0.50,  16.0,  16.0,  18.0,  20.0,  20.0,  16.0,  0.00,  0.50,  0.80,  0.00,  0.50,  0.80,  0.80,  0.50,  0.00,  0.10,  0.00,  0.00,\n",
      " HVB   =  1.00,  0.10,  0.10,  0.10,  0.10,  0.15,  0.05,  0.10,  0.10,  3.00,  3.50,  3.00,  4.00,  3.50,  3.00,  0.00,  0.05,  0.10,  0.00,  0.10,  0.10,  0.10,  0.10,  0.00,  0.10,  0.00,  0.00,\n",
      " DEN   =  0.01,  25.0,  25.0,  25.0,  25.0,  25.0,  100.,  10.0,  10.0,  0.02,  0.10,  0.28,  0.02,  0.28,  0.10,  0.01,  10.0,  0.10,  0.01,  1.00,  1.00,  1.00,  1.00,  0.00,  0.01,  0.01,  0.01,\n",
      " RC    =  1.00,  0.08,  0.08,  0.08,  0.08,  0.08,  0.03,  0.12,  0.12,  3.00,  1.40,  1.20,  3.60,  1.20,  1.40,  0.01,  0.10,  1.40,  0.01,  0.30,  0.30,  0.30,  0.30,  0.00,  0.01,  0.01,  0.01,\n",
      "\n",
      " ! Row 1:  Vis\n",
      " ! Row 2:  Near IR\n",
      " RHOL  =  0.00,  0.11,  0.11,  0.11,  0.11,  0.11,  0.11,  0.07,  0.10,  0.10,  0.10,  0.07,  0.10,  0.07,  0.10,  0.00,  0.11,  0.10,  0.00,  0.10,  0.10,  0.10,  0.10,  0.00,  0.10,  0.00,  0.00,\n",
      "          0.00,  0.58,  0.58,  0.58,  0.58,  0.58,  0.58,  0.35,  0.45,  0.45,  0.45,  0.35,  0.45,  0.35,  0.45,  0.00,  0.58,  0.45,  0.00,  0.45,  0.45,  0.45,  0.45,  0.00,  0.45,  0.00,  0.00,\n",
      "\n",
      " ! Row 1:  Vis\n",
      " ! Row 2:  Near IR\n",
      " RHOS  =  0.00,  0.36,  0.36,  0.36,  0.36,  0.36,  0.36,  0.16,  0.16,  0.16,  0.16,  0.16,  0.16,  0.16,  0.16,  0.00,  0.36,  0.16,  0.00,  0.16,  0.16,  0.16,  0.16,  0.00,  0.16,  0.00,  0.00,\n",
      "          0.00,  0.58,  0.58,  0.58,  0.58,  0.58,  0.58,  0.39,  0.39,  0.39,  0.39,  0.39,  0.39,  0.39,  0.39,  0.00,  0.58,  0.39,  0.00,  0.39,  0.39,  0.39,  0.39,  0.00,  0.39,  0.00,  0.00,\n",
      "\n",
      " ! Row 1:  Vis\n",
      " ! Row 2:  Near IR\n",
      " TAUL  =  0.00,  0.07,  0.07,  0.07,  0.07,  0.07,  0.07,  0.05,  0.05,  0.05,  0.05,  0.05,  0.05,  0.05,  0.05,  0.00,  0.07,  0.05,  0.00,  0.05,  0.05,  0.05,  0.05,  0.00,  0.05,  0.00,  0.00,\n",
      "          0.00,  0.25,  0.25,  0.25,  0.25,  0.25,  0.25,  0.10,  0.10,  0.25,  0.25,  0.10,  0.25,  0.10,  0.25,  0.00,  0.25,  0.25,  0.00,  0.25,  0.25,  0.25,  0.25,  0.00,  0.25,  0.00,  0.00,\n",
      "\n",
      " ! Row 1:  Vis\n",
      " ! Row 2:  Near IR\n",
      " TAUS  = 0.000, 0.220, 0.220, 0.220, 0.220, 0.220, 0.220, 0.001, 0.001, 0.001, 0.001, 0.001, 0.001, 0.001, 0.001, 0.000, 0.220, 0.001, 0.000, 0.220, 0.001, 0.001, 0.001, 0.000, 0.001, 0.000, 0.000,\n",
      "         0.000, 0.380, 0.380, 0.380, 0.380, 0.380, 0.380, 0.001, 0.001, 0.001, 0.001, 0.001, 0.001, 0.001, 0.001, 0.000, 0.380, 0.001, 0.000, 0.380, 0.001, 0.001, 0.001, 0.000, 0.001, 0.000, 0.000,\n",
      "\n",
      " XL    = 0.000, -0.30, -0.30, -0.30, -0.30, -0.30, -0.30, 0.010, 0.250, 0.010, 0.250, 0.010, 0.010, 0.010, 0.250, 0.000, -0.30, 0.250, 0.000, -0.30, 0.250, 0.250, 0.250, 0.000, 0.250, 0.000, 0.000,\n",
      " CWPVT =   3.0,   3.0,   3.0,   3.0,   3.0,   3.0,   3.0,   3.0,   3.0,   3.0,   3.0,   3.0,   3.0,   3.0,   3.0,   3.0,   3.0,   3.0,   3.0,   3.0,   3.0,   3.0,   3.0,   3.0,   3.0,   3.0,   3.0,\n",
      " C3PSN =   1.0,   1.0,   1.0,   1.0,   1.0,   1.0,   1.0,   1.0,   1.0,   1.0,   1.0,   1.0,   1.0,   1.0,   1.0,   1.0,   1.0,   1.0,   1.0,   1.0,   1.0,   1.0,   1.0,   1.0,   1.0,   1.0,   1.0,\n",
      " KC25  =  30.0,  30.0,  30.0,  30.0,  30.0,  30.0,  30.0,  30.0,  30.0,  30.0,  30.0,  30.0,  30.0,  30.0,  30.0,  30.0,  30.0,  30.0,  30.0,  30.0,  30.0,  30.0,  30.0,  30.0,  30.0,  30.0,  30.0,\n",
      " AKC   =   2.1,   2.1,   2.1,   2.1,   2.1,   2.1,   2.1,   2.1,   2.1,   2.1,   2.1,   2.1,   2.1,   2.1,   2.1,   2.1,   2.1,   2.1,   2.1,   2.1,   2.1,   2.1,   2.1,   2.1,   2.1,   2.1,   2.1,\n",
      " KO25  =  3.E4,  3.E4,  3.E4,  3.E4,  3.E4,  3.E4,  3.E4,  3.E4,  3.E4,  3.E4,  3.E4,  3.E4,  3.E4,  3.E4,  3.E4,  3.E4,  3.E4,  3.E4,  3.E4,  3.E4,  3.E4,  3.E4,  3.E4,  3.E4,  3.E4,  3.E4,  3.E4,\n",
      " AKO   =   1.2,   1.2,   1.2,   1.2,   1.2,   1.2,   1.2,   1.2,   1.2,   1.2,   1.2,   1.2,   1.2,   1.2,   1.2,   1.2,   1.2,   1.2,   1.2,   1.2,   1.2,   1.2,   1.2,   1.2,   1.2,   1.2,   1.2,\n",
      " AVCMX =   2.4,   2.4,   2.4,   2.4,   2.4,   2.4,   2.4,   2.4,   2.4,   2.4,   2.4,   2.4,   2.4,   2.4,   2.4,   2.4,   2.4,   2.4,   2.4,   2.4,   2.4,   2.4,   2.4,   2.4,   2.4,   2.4,   2.4,\n",
      " AQE   =   1.0,   1.0,   1.0,   1.0,   1.0,   1.0,   1.0,   1.0,   1.0,   1.0,   1.0,   1.0,   1.0,   1.0,   1.0,   1.0,   1.0,   1.0,   1.0,   1.0,   1.0,   1.0,   1.0,   1.0,   1.0,   1.0,   1.0,\n",
      "\n",
      " LTOVRC=   0.0,   1.6,   1.8,   1.2,   1.2,  1.30,  0.50,  0.65,  0.70,  0.65,  0.55,   0.2,  0.55,   0.5,   0.5,   0.0,   1.4,   1.4,   0.0,   1.2,   1.3,   1.4,   1.0,   0.0,   1.0,   0.0,   0.0,\n",
      " DILEFC=  0.00,  0.50,  0.50,  0.50,  0.35,  0.20,  0.20,  0.20,  0.50,  0.50,  0.60,  1.80,  0.50,  1.20,  0.80,  0.00,  0.40,  0.40,  0.00,  0.40,  0.30,  0.40,  0.30,  0.00,  0.30,  0.00,  0.00,\n",
      " DILEFW=  0.00,  0.20,  0.20,  0.20,  0.20,  0.20,  0.10,  0.20,  0.20,  0.50,  0.20,  0.20,  4.00,  0.20,  0.20,  0.00,  0.20,  0.20,  0.00,  0.20,  0.20,  0.20,  0.20,  0.00,  0.20,  0.00,  0.00,\n",
      " RMF25 =  0.00,  1.00,  1.40,  1.45,  1.45,  1.45,  1.80,  0.26,  0.26,  0.80,  3.00,  4.00,  0.65,  3.00,  3.00,  0.00,  3.20,  3.20,  0.00,  3.20,  3.00,  3.00,  3.00,  0.00,  3.00,  0.00,  0.00,\n",
      " SLA   =    60,    80,    80,    80,    80,    80,    60,    60,    60,    50,    80,    80,    80,    80,    80,     0,    80,    80,     0,    80,    80,    80,    80,     0,    80,     0,     0,\n",
      " FRAGR =  0.00,  0.20,  0.20,  0.20,  0.20,  0.20,  0.20,  0.20,  0.20,  0.20,  0.20,  0.10,  0.20,  0.10,  0.10,  0.00,  0.10,  0.10,  0.10,  0.10,  0.10,  0.10,  0.10,  0.00,  0.10,  0.00,  0.00,\n",
      " TMIN  =     0,   273,   273,   273,   273,   273,   273,   273,   273,   273,   273,   268,   273,   265,   268,     0,   268,   268,     0,   268,   268,   268,   268,     0,   268,     0,     0,\n",
      " VCMX25=  0.00,  80.0,  80.0,  80.0,  60.0,  70.0,  40.0,  40.0,  40.0,  40.0,  60.0,  60.0,  60.0,  50.0,  55.0,  0.00,  50.0,  50.0,  0.00,  50.0,  50.0,  50.0,  50.0,  0.00,  50.0,  0.00,  0.00,\n",
      " TDLEF =   278,   278,   278,   278,   278,   278,   278,   278,   278,   278,   278,   268,   278,   278,   268,     0,   268,   268,     0,   268,   268,   268,   268,     0,   268,     0,     0,\n",
      " BP    = 1.E15,  2.E3,  2.E3,  2.E3,  2.E3,  2.E3,  2.E3,  2.E3,  2.E3,  2.E3,  2.E3,  2.E3,  2.E3,  2.E3,  2.E3, 1.E15,  2.E3,  2.E3,  2.E3,  2.E3,  2.E3,  2.E3,  2.E3, 1.E15,  2.E3, 1.E15, 1.E15,\n",
      " MP    =    9.,    9.,    9.,    9.,    9.,    9.,    9.,    9.,    9.,    9.,    9.,    6.,    9.,    6.,    9.,    9.,    9.,    9.,    9.,    9.,    9.,    9.,    9.,    9.,    9.,    9.,    9.,\n",
      " QE25  =    0.,  0.06,  0.06,  0.06,  0.06,  0.06,  0.06,  0.06,  0.06,  0.06,  0.06,  0.06,  0.06,  0.06,  0.06,  0.00,  0.06,  0.06,  0.06,  0.06,  0.06,  0.06,  0.06,  0.00,  0.06,  0.00,  0.00,\n",
      " RMS25 =  0.00,  0.10,  0.10,  0.10,  0.10,  0.10,  0.10,  0.10,  0.10,  0.32,  0.10,  0.64,  0.30,  0.90,  0.80,  0.00,  0.10,  0.10,  0.00,  0.10,  0.10,  0.10,  0.00,  0.00,  0.00,  0.00,  0.00,\n",
      " RMR25 =  0.00,  0.00,  0.00,  0.00,  0.00,  0.00,  1.20,  0.00,  0.00,  0.01,  0.01,  0.05,  0.05,  0.36,  0.03,  0.00,  0.00,  0.00,  0.00,  2.11,  2.11,  2.11,  0.00,  0.00,  0.00,  0.00,  0.00,\n",
      " ARM   =   2.0,   2.0,   2.0,   2.0,   2.0,   2.0,   2.0,   2.0,   2.0,   2.0,   2.0,   2.0,   2.0,   2.0,   2.0,   2.0,   2.0,   2.0,   2.0,   2.0,   2.0,   2.0,   2.0,   2.0,   2.0,   2.0,   2.0,\n",
      " FOLNMX=  0.00,   1.5,   1.5,   1.5,   1.5,   1.5,   1.5,   1.5,   1.5,   1.5,   1.5,   1.5,   1.5,   1.5,   1.5,  0.00,   1.5,   1.5,   1.5,   1.5,   1.5,   1.5,   1.5,  0.00,   1.5,  0.00,  0.00,\n",
      " WDPOOL=  0.00,  0.00,  0.00,  0.00,  0.00,  0.00,  0.00,  1.00,  1.00,  1.00,  1.00,  1.00,  1.00,  1.00,  1.00,  0.00,  0.00,  1.00,  0.00,  0.00,  1.00,  1.00,  0.00,  0.00,  0.00,  0.00,  0.00,\n",
      " WRRAT =  0.00,  0.00,  0.00,  0.00,  0.00,  0.00,  0.00,  3.00,  3.00,  3.00,  30.0,  30.0,  30.0,  30.0,  30.0,  0.00,  0.00,  30.0,  0.00,  0.00,  3.00,  3.00,  0.00,  0.00,  0.00,  0.00,  0.00,\n",
      " MRP   =  0.00,  0.23,  0.23,  0.23,  0.23,  0.23,  0.17,  0.19,  0.19,  0.40,  0.40,  0.37,  0.23,  0.37,  0.30,  0.00,  0.17,  0.40,  0.00,  0.17,  0.23,  0.20,  0.00,  0.00,  0.20,  0.00,  0.00,\n",
      "\n",
      "! Monthly values, one row for each month:\n",
      " SAIM  =   0.0,   0.0,   0.0,   0.0,   0.0,   0.1,   0.3,   0.1,   0.2,   0.1,   0.4,   0.3,   0.5,   0.4,   0.2,   0.0,   0.1,   0.1,   0.0,   0.1,   0.1,   0.1,   0.0,   0.0,   0.0,   0.0,   0.0,\n",
      "           0.0,   0.0,   0.0,   0.0,   0.0,   0.1,   0.3,   0.1,   0.2,   0.1,   0.4,   0.3,   0.5,   0.4,   0.2,   0.0,   0.1,   0.1,   0.0,   0.1,   0.1,   0.1,   0.0,   0.0,   0.0,   0.0,   0.0,\n",
      "           0.0,   0.0,   0.0,   0.0,   0.0,   0.1,   0.3,   0.1,   0.2,   0.1,   0.4,   0.3,   0.5,   0.4,   0.2,   0.0,   0.1,   0.1,   0.0,   0.1,   0.1,   0.1,   0.0,   0.0,   0.0,   0.0,   0.0,\n",
      "           0.0,   0.0,   0.0,   0.0,   0.0,   0.1,   0.3,   0.1,   0.2,   0.1,   0.4,   0.4,   0.5,   0.3,   0.2,   0.0,   0.1,   0.1,   0.0,   0.1,   0.1,   0.1,   0.0,   0.0,   0.0,   0.0,   0.0,\n",
      "           0.0,   0.0,   0.0,   0.0,   0.1,   0.2,   0.3,   0.1,   0.2,   0.1,   0.4,   0.4,   0.5,   0.4,   0.2,   0.0,   0.1,   0.1,   0.0,   0.1,   0.1,   0.1,   0.0,   0.0,   0.0,   0.0,   0.0,\n",
      "           0.0,   0.0,   0.0,   0.0,   0.2,   0.2,   0.4,   0.2,   0.3,   0.1,   0.4,   0.7,   0.5,   0.5,   0.4,   0.0,   0.2,   0.2,   0.0,   0.2,   0.2,   0.2,   0.0,   0.0,   0.0,   0.0,   0.0,\n",
      "           0.0,   0.0,   0.0,   0.0,   0.3,   0.3,   0.8,   0.2,   0.5,   0.1,   0.9,   1.3,   0.5,   0.5,   0.4,   0.0,   0.4,   0.4,   0.0,   0.2,   0.2,   0.2,   0.0,   0.0,   0.0,   0.0,   0.0,\n",
      "           0.0,   0.0,   0.0,   0.0,   0.5,   0.2,   1.3,   0.1,   0.8,   0.1,   1.2,   1.2,   0.5,   0.6,   0.5,   0.0,   0.6,   0.6,   0.0,   0.3,   0.3,   0.3,   0.0,   0.0,   0.0,   0.0,   0.0,\n",
      "           0.0,   0.0,   0.0,   0.0,   0.4,   0.1,   1.1,   0.1,   0.5,   0.1,   1.6,   1.0,   0.5,   0.6,   0.5,   0.0,   0.5,   0.5,   0.0,   0.3,   0.3,   0.3,   0.0,   0.0,   0.0,   0.0,   0.0,\n",
      "           0.0,   0.0,   0.0,   0.0,   0.1,   0.1,   0.4,   0.1,   0.2,   0.1,   1.4,   0.8,   0.5,   0.7,   0.6,   0.0,   0.2,   0.2,   0.0,   0.2,   0.2,   0.2,   0.0,   0.0,   0.0,   0.0,   0.0,\n",
      "           0.0,   0.0,   0.0,   0.0,   0.0,   0.1,   0.4,   0.1,   0.2,   0.1,   0.6,   0.6,   0.5,   0.6,   0.5,   0.0,   0.2,   0.2,   0.0,   0.2,   0.2,   0.2,   0.0,   0.0,   0.0,   0.0,   0.0,\n",
      "           0.0,   0.0,   0.0,   0.0,   0.0,   0.1,   0.4,   0.1,   0.2,   0.1,   0.4,   0.5,   0.5,   0.5,   0.3,   0.0,   0.1,   0.1,   0.0,   0.1,   0.1,   0.1,   0.0,   0.0,   0.0,   0.0,   0.0,\n",
      "\n",
      " LAIM  =   0.0,   0.0,   0.4,   0.4,   0.4,   0.0,   0.4,   1.0,   1.0,   1.0,   0.0,   0.0,   3.5,   1.6,   1.0,   0.0,   0.4,   0.2,   0.0,   0.0,   0.0,   0.0,   0.0,   0.0,   0.0,   0.0,   0.0,\n",
      "           0.0,   0.0,   0.5,   0.5,   0.5,   0.0,   0.5,   1.0,   1.0,   1.0,   0.0,   0.0,   3.5,   1.6,   1.0,   0.0,   0.5,   0.4,   0.0,   0.0,   0.0,   0.0,   0.0,   0.0,   0.0,   0.0,   0.0,\n",
      "           0.0,   0.0,   0.6,   0.6,   0.6,   0.0,   0.6,   1.0,   1.0,   1.0,   0.3,   0.0,   3.5,   1.6,   1.0,   0.0,   0.6,   0.4,   0.0,   0.0,   0.0,   0.0,   0.0,   0.0,   0.0,   0.0,   0.0,\n",
      "           0.0,   0.0,   0.7,   0.7,   0.7,   0.5,   0.7,   1.0,   1.5,   1.0,   1.2,   0.6,   3.5,   1.6,   1.0,   0.0,   0.7,   0.4,   0.0,   0.2,   0.2,   0.2,   0.0,   0.0,   0.0,   0.0,   0.0,\n",
      "           0.0,   1.0,   1.2,   1.2,   1.2,   1.5,   1.2,   1.0,   2.0,   1.0,   3.0,   1.2,   3.5,   5.3,   2.3,   0.0,   1.2,   0.5,   0.0,   0.5,   0.5,   0.5,   0.0,   0.0,   0.0,   0.0,   0.0,\n",
      "           0.0,   2.0,   3.0,   3.0,   3.0,   2.5,   3.0,   1.0,   2.5,   1.0,   4.7,   2.0,   3.5,   5.5,   3.5,   0.0,   3.0,   0.7,   0.0,   1.0,   1.0,   1.0,   0.0,   0.0,   0.0,   0.0,   0.0,\n",
      "           0.0,   3.0,   3.5,   3.5,   3.5,   3.5,   3.5,   1.0,   3.0,   1.0,   4.5,   2.6,   3.5,   5.3,   4.3,   0.0,   3.5,   1.7,   0.0,   2.0,   2.0,   2.0,   0.0,   0.0,   0.0,   0.0,   0.0,\n",
      "           0.0,   3.0,   1.5,   1.5,   1.5,   3.5,   1.5,   1.0,   2.5,   1.0,   3.4,   1.7,   3.5,   5.3,   3.3,   0.0,   1.5,   3.0,   0.0,   1.0,   1.0,   1.0,   0.0,   0.0,   0.0,   0.0,   0.0,\n",
      "           0.0,   1.5,   0.7,   0.7,   0.7,   2.0,   0.7,   1.0,   1.5,   1.0,   1.2,   1.0,   3.5,   4.2,   2.2,   0.0,   0.7,   2.5,   0.0,   0.5,   0.5,   0.5,   0.0,   0.0,   0.0,   0.0,   0.0,\n",
      "           0.0,   0.0,   0.6,   0.6,   0.6,   1.0,   0.6,   1.0,   1.0,   1.0,   0.3,   0.5,   3.5,   2.2,   1.2,   0.0,   0.6,   1.6,   0.0,   0.2,   0.2,   0.2,   0.0,   0.0,   0.0,   0.0,   0.0,\n",
      "           0.0,   0.0,   0.5,   0.5,   0.5,   0.0,   0.5,   1.0,   1.0,   1.0,   0.0,   0.2,   3.5,   2.2,   1.2,   0.0,   0.5,   0.8,   0.0,   0.0,   0.0,   0.0,   0.0,   0.0,   0.0,   0.0,   0.0,\n",
      "           0.0,   0.0,   0.4,   0.4,   0.4,   0.0,   0.4,   1.0,   1.0,   1.0,   0.0,   0.0,   3.5,   2.2,   1.2,   0.0,   0.4,   0.4,   0.0,   0.0,   0.0,   0.0,   0.0,   0.0,   0.0,   0.0,   0.0,\n",
      "\n",
      " SLAREA=0.0228,0.0200,0.0200,0.0295,0.0223,0.0277,0.0060,0.0227,0.0188,0.0236,0.0258,0.0200,0.0200,0.0090,0.0223,0.0422,0.0390,  0.02,  0.02,  0.02,  0.02,  0.02,  0.02,  0.02,  0.02,  0.02,  0.02,\n",
      "\n",
      "! Five types, one row for each type.\n",
      " EPS   = 41.87,  0.00,  0.00,  2.52,  0.04, 17.11,  0.02, 21.62,  0.11, 22.80, 46.86,  0.00,  0.00,  0.46, 30.98,  2.31,  1.63,   0.0,   0.0,   0.0,   0.0,   0.0,   0.0,   0.0,   0.0,   0.0,   0.0,\n",
      "          0.98,  0.00,  0.00,  0.16,  0.09,  0.28,  0.05,  0.92,  0.22,  0.59,  0.38,  0.00,  0.00,  3.34,  0.96,  1.47,  1.07,   0.0,   0.0,   0.0,   0.0,   0.0,   0.0,   0.0,   0.0,   0.0,   0.0,\n",
      "          1.82,  0.00,  0.00,  0.23,  0.05,  0.81,  0.03,  1.73,  1.26,  1.37,  1.84,  0.00,  0.00,  1.85,  1.84,  1.70,  1.21,   0.0,   0.0,   0.0,   0.0,   0.0,   0.0,   0.0,   0.0,   0.0,   0.0,\n",
      "           0.0,   0.0,   0.0,   0.0,   0.0,   0.0,   0.0,   0.0,   0.0,   0.0,   0.0,   0.0,   0.0,   0.0,   0.0,   0.0,   0.0,   0.0,   0.0,   0.0,   0.0,   0.0,   0.0,   0.0,   0.0,   0.0,   0.0,\n",
      "           0.0,   0.0,   0.0,   0.0,   0.0,   0.0,   0.0,   0.0,   0.0,   0.0,   0.0,   0.0,   0.0,   0.0,   0.0,   0.0,   0.0,   0.0,   0.0,   0.0,   0.0,   0.0,   0.0,   0.0,   0.0,   0.0,   0.0,\n",
      "/\n",
      "\n",
      "\n",
      "&noah_mp_modis_veg_categories\n",
      " VEG_DATASET_DESCRIPTION = \"modified igbp modis noah\"\n",
      " NVEG = 20\n",
      "/\n",
      "\n",
      "&noah_mp_modis_parameters\n",
      "! 1          'Evergreen Needleleaf Forest'                       -> USGS 14\n",
      "! 2,         'Evergreen Broadleaf Forest'                        -> USGS 13\n",
      "! 3,         'Deciduous Needleleaf Forest'                       -> USGS 12\n",
      "! 4,         'Deciduous Broadleaf Forest'                        -> USGS 11\n",
      "! 5,         'Mixed Forests'                                     -> USGS 15\n",
      "! 6,         'Closed Shrublands'                                 -> USGS  8 \"shrubland\"\n",
      "! 7,         'Open Shrublands'                                   -> USGS  9 \"shrubland/grassland\"\n",
      "! 8,         'Woody Savannas'                                    -> USGS  8 \"shrubland\"\n",
      "! 9,         'Savannas'                                          -> USGS 10\n",
      "! 10,        'Grasslands'                                        -> USGS  7\n",
      "! 11         'Permanent wetlands'                                -> avg of USGS 17 and 18 (herb. wooded wetland)\n",
      "! 12,        'Croplands'                                         -> USGS  2 \"dryland cropland\"\n",
      "! 13,        'Urban and Built-Up'                                -> USGS  1\n",
      "! 14         'cropland/natural vegetation mosaic'                -> USGS  5 \"cropland/grassland\"\n",
      "! 15,        'Snow and Ice'                                      -> USGS 24\n",
      "! 16,        'Barren or Sparsely Vegetated'                      -> USGS 19\n",
      "! 17,        'Water'                                             -> USGS 16\n",
      "! 18,        'Wooded Tundra'                                     -> USGS 21\n",
      "! 19,        'Mixed Tundra'                                      -> USGS 22\n",
      "! 20,        'Barren Tundra'                                     -> USGS 23\n",
      "\n",
      " ISURBAN   = 13\n",
      " ISWATER   = 17\n",
      " ISBARREN  = 16\n",
      " ISSNOW    = 15\n",
      " EBLFOREST =  2\n",
      "\n",
      " !---------------------------------------------------------------------------------------------------------------------------------------------------------------------\n",
      " !          1       2       3       4       5       6       7       8       9      10      11      12      13      14      15      16      17      18      19      20\n",
      " !---------------------------------------------------------------------------------------------------------------------------------------------------------------------\n",
      " CH2OP =   0.1,    0.1,    0.1,    0.1,    0.1,    0.1,    0.1,    0.1,    0.1,    0.1,    0.1,    0.1,    0.1,    0.1,    0.1,    0.1,    0.1,    0.1,    0.1,    0.1,\n",
      " DLEAF =  0.04,   0.04,   0.04,   0.04,   0.04,   0.04,   0.04,   0.04,   0.04,   0.04,   0.04,   0.04,   0.04,   0.04,   0.04,   0.04,   0.04,   0.04,   0.04,   0.04,\n",
      " Z0MVT =  1.09,   1.10,   0.85,   0.80,   0.80,   0.06,   0.06,   0.06,   0.86,   0.06,  0.055,   0.06,   1.00,   0.06,   0.00,   0.00,   0.00,   0.06,   0.06,   0.03,\n",
      "! Z0MVT =  0.50,   0.50,   0.50,   0.50,   0.50,   0.05,   0.06,   0.05,   0.15,   0.12,  0.30,   0.15,   0.80,   0.14,   0.00,   0.01,   0.00,   0.30,   0.15,   0.10,\n",
      " HVT   =  20.0,   20.0,   18.0,   16.0,   16.0,   0.50,   0.50,   0.50,   16.0,   0.50,   0.65,   0.50,   15.0,   0.50,   0.00,   0.00,   0.00,   0.80,   0.80,   0.50,\n",
      " HVB   =  8.50,   8.00,   7.00,   11.5,   10.0,   0.10,   0.10,   0.10,   5.00,   0.05,  0.075,   0.10,   1.00,   0.10,   0.00,   0.00,   0.00,   0.10,   0.10,   0.10,\n",
      " DEN   =  0.28,   0.02,   0.28,   0.10,   0.10,   10.0,   10.0,   10.0,   0.02,   100.,   5.05,   25.0,   0.01,   25.0,   0.00,   0.01,   0.01,   1.00,   1.00,   1.00,\n",
      " RC    =  1.20,   3.60,   1.20,   1.40,   1.40,   0.12,   0.12,   0.12,   3.00,   0.03,   0.75,   0.08,   1.00,   0.08,   0.00,   0.01,   0.01,   0.30,   0.30,   0.30,\n",
      "\n",
      " ! Row 1:  Vis\n",
      " ! Row 2:  Near IR\n",
      " RHOL  =  0.07,   0.10,   0.07,   0.10,   0.10,   0.07,   0.10,   0.07,   0.10,   0.11,  0.105,   0.11,   0.00,   0.11,   0.00,   0.00,   0.00,   0.10,   0.10,   0.10,\n",
      "          0.35,   0.45,   0.35,   0.45,   0.45,   0.35,   0.45,   0.35,   0.45,   0.58,  0.515,   0.58,   0.00,   0.58,   0.00,   0.00,   0.00,   0.45,   0.45,   0.45,\n",
      "\n",
      " ! Row 1:  Vis\n",
      " ! Row 2:  Near IR\n",
      " RHOS  =  0.16,   0.16,   0.16,   0.16,   0.16,   0.16,   0.16,   0.16,   0.16,   0.36,   0.26,   0.36,   0.00,   0.36,   0.00,   0.00,   0.00,   0.16,   0.16,   0.16,\n",
      "          0.39,   0.39,   0.39,   0.39,   0.39,   0.39,   0.39,   0.39,   0.39,   0.58,  0.485,   0.58,   0.00,   0.58,   0.00,   0.00,   0.00,   0.39,   0.39,   0.39,\n",
      "\n",
      " ! Row 1:  Vis\n",
      " ! Row 2:  Near IR\n",
      " TAUL  =  0.05,   0.05,   0.05,   0.05,   0.05,   0.05,   0.05,   0.05,   0.05,   0.07,   0.06,   0.07,   0.00,   0.07,   0.00,   0.00,   0.00,   0.05,   0.05,   0.05,\n",
      "          0.10,   0.25,   0.10,   0.25,   0.25,   0.10,   0.10,   0.10,   0.25,   0.25,   0.25,   0.25,   0.00,   0.25,   0.00,   0.00,   0.00,   0.25,   0.25,   0.25,\n",
      "\n",
      " ! Row 1:  Vis\n",
      " ! Row 2:  Near IR\n",
      " TAUS  = 0.001,  0.001,  0.001,  0.001,  0.001,  0.001,  0.001,  0.001,  0.001,  0.220, 0.1105,  0.220,  0.000,  0.220,  0.000,  0.000,  0.000,  0.001,  0.001,  0.001,\n",
      "         0.001,  0.001,  0.001,  0.001,  0.001,  0.001,  0.001,  0.001,  0.001,  0.380, 0.1905,  0.380,  0.000,  0.380,  0.000,  0.000,  0.000,  0.001,  0.001,  0.001,\n",
      "\n",
      " XL    = 0.010,  0.010,  0.010,  0.250,  0.250,  0.010,  0.250,  0.010,  0.010,  -0.30, -0.025,  -0.30,  0.000,  -0.30,  0.000,  0.000,  0.000,  0.250,  0.250,  0.250,\n",
      " CWPVT =   3.0,    3.0,    3.0,    3.0,    3.0,    3.0,    3.0,    3.0,    3.0,    3.0,    3.0,    3.0,    3.0,    3.0,    3.0,    3.0,    3.0,    3.0,    3.0,    3.0,\n",
      "! CWPVT =  0.18,   0.18,   0.18,   0.18,   0.18,   0.18,   0.18,   0.18,   0.18,   0.18,   0.18,   0.18,   0.18,   0.18,   0.18,   0.18,   0.18,   0.18,   0.18,   0.18,\n",
      " C3PSN =   1.0,    1.0,    1.0,    1.0,    1.0,    1.0,    1.0,    1.0,    1.0,    1.0,    1.0,    1.0,    1.0,    1.0,    1.0,    1.0,    1.0,    1.0,    1.0,    1.0,\n",
      " KC25  =  30.0,   30.0,   30.0,   30.0,   30.0,   30.0,   30.0,   30.0,   30.0,   30.0,   30.0,   30.0,   30.0,   30.0,   30.0,   30.0,   30.0,   30.0,   30.0,   30.0,\n",
      " AKC   =   2.1,    2.1,    2.1,    2.1,    2.1,    2.1,    2.1,    2.1,    2.1,    2.1,    2.1,    2.1,    2.1,    2.1,    2.1,    2.1,    2.1,    2.1,    2.1,    2.1,\n",
      " KO25  =  3.E4,   3.E4,   3.E4,   3.E4,   3.E4,   3.E4,   3.E4,   3.E4,   3.E4,   3.E4,   3.E4,   3.E4,   3.E4,   3.E4,   3.E4,   3.E4,   3.E4,   3.E4,   3.E4,   3.E4,\n",
      " AKO   =   1.2,    1.2,    1.2,    1.2,    1.2,    1.2,    1.2,    1.2,    1.2,    1.2,    1.2,    1.2,    1.2,    1.2,    1.2,    1.2,    1.2,    1.2,    1.2,    1.2,\n",
      " AVCMX =   2.4,    2.4,    2.4,    2.4,    2.4,    2.4,    2.4,    2.4,    2.4,    2.4,    2.4,    2.4,    2.4,    2.4,    2.4,    2.4,    2.4,    2.4,    2.4,    2.4,\n",
      " AQE   =   1.0,    1.0,    1.0,    1.0,    1.0,    1.0,    1.0,    1.0,    1.0,    1.0,    1.0,    1.0,    1.0,    1.0,    1.0,    1.0,    1.0,    1.0,    1.0,    1.0,\n",
      "\n",
      " LTOVRC=   0.5,   0.55,    0.2,   0.55,    0.5,   0.65,   0.70,   0.65,   0.65,   0.50,    1.4,    1.6,    0.0,    1.2,    0.0,    0.0,    0.0,    1.3,    1.4,    1.0,\n",
      " DILEFC=  1.20,   0.50,   1.80,   0.60,   0.80,   0.20,   0.50,   0.20,   0.50,   0.20,    0.4,   0.50,   0.00,   0.35,   0.00,   0.00,   0.00,   0.30,   0.40,   0.30,\n",
      " DILEFW=  0.20,   4.00,   0.20,   0.20,   0.20,   0.20,   0.20,   0.20,   0.50,   0.10,    0.2,   0.20,   0.00,   0.20,   0.00,   0.00,   0.00,   0.20,   0.20,   0.20,\n",
      " RMF25 =  3.00,   0.65,   4.00,   3.00,   3.00,   0.26,   0.26,   0.26,   0.80,   1.80,    3.2,   1.00,   0.00,   1.45,   0.00,   0.00,   0.00,   3.00,   3.00,   3.00,\n",
      " SLA   =    80,     80,     80,     80,     80,     60,     60,     60,     50,     60,     80,     80,     60,     80,      0,      0,      0,     80,     80,     80,\n",
      " FRAGR =  0.10,   0.20,   0.10,   0.20,   0.10,   0.20,   0.20,   0.20,   0.20,   0.20,    0.1,   0.20,   0.00,   0.20,   0.00,   0.10,   0.00,   0.10,   0.10,   0.10,\n",
      " TMIN  =   265,    273,    268,    273,    268,    273,    273,    273,    273,    273,    268,    273,      0,    273,      0,      0,      0,    268,    268,    268,\n",
      " VCMX25=  50.0,   60.0,   60.0,   60.0,   55.0,   40.0,   40.0,   40.0,   40.0,   40.0,   50.0,   80.0,   0.00,   60.0,   0.00,   0.00,   0.00,   50.0,   50.0,   50.0,\n",
      " TDLEF =   278,    278,    268,    278,    268,    278,    278,    278,    278,    278,    268,    278,    278,    278,      0,      0,      0,    268,    268,    268,\n",
      " BP    =  2.E3,   2.E3,   2.E3,   2.E3,   2.E3,   2.E3,   2.E3,   2.E3,   2.E3,   2.E3,   2.E3,   2.E3,  1.E15,   2.E3,  1.E15,   2.E3,  1.E15,   2.E3,   2.E3,   2.E3,\n",
      " MP    =    6.,     9.,     6.,     9.,     9.,     9.,     9.,     9.,     9.,     9.,     9.,     9.,     9.,     9.,     9.,     9.,     9.,     9.,     9.,     9.,\n",
      " QE25  =  0.06,   0.06,   0.06,   0.06,   0.06,   0.06,   0.06,   0.06,   0.06,   0.06,   0.06,   0.06,   0.00,   0.06,   0.00,   0.06,   0.00,   0.06,   0.06,   0.06,\n",
      " RMS25 =  0.90,   0.30,   0.64,   0.10,   0.80,   0.10,   0.10,   0.10,   0.32,   0.10,   0.10,   0.10,   0.00,   0.10,   0.00,   0.00,   0.00,   0.10,   0.10,   0.00,\n",
      " RMR25 =  0.36,   0.05,   0.05,   0.01,   0.03,   0.00,   0.00,   0.00,   0.01,   1.20,    0.0,   0.00,   0.00,   0.00,   0.00,   0.00,   0.00,   2.11,   2.11,   0.00,\n",
      " ARM   =   2.0,    2.0,    2.0,    2.0,    2.0,    2.0,    2.0,    2.0,    2.0,    2.0,    2.0,    2.0,    2.0,    2.0,    2.0,    2.0,    2.0,    2.0,    2.0,    2.0,\n",
      " FOLNMX=   1.5,    1.5,    1.5,    1.5,    1.5,    1.5,    1.5,    1.5,    1.5,    1.5,    1.5,    1.5,   0.00,    1.5,   0.00,    1.5,   0.00,    1.5,    1.5,    1.5,\n",
      " WDPOOL=  1.00,   1.00,   1.00,   1.00,   1.00,   1.00,   1.00,   1.00,   1.00,   0.00,    0.5,   0.00,   0.00,   0.00,   0.00,   0.00,   0.00,   1.00,   1.00,   0.00,\n",
      " WRRAT =  30.0,   30.0,   30.0,   30.0,   30.0,   3.00,   3.00,   3.00,   3.00,   0.00,   15.0,   0.00,   0.00,   0.00,   0.00,   0.00,   0.00,   3.00,   3.00,   0.00,\n",
      " MRP   =  0.37,   0.23,   0.37,   0.40,   0.30,   0.19,   0.19,   0.19,   0.40,   0.17,  0.285,   0.23,   0.00,   0.23,   0.00,   0.00,   0.00,   0.23,   0.20,   0.00,\n",
      "\n",
      "! Monthly values, one row for each month:\n",
      " SAIM  =   0.4,    0.5,    0.3,    0.4,    0.2,    0.1,    0.2,    0.1,    0.1,    0.3,    0.1,    0.0,    0.0,    0.0,    0.0,    0.0,    0.0,    0.1,    0.1,    0.0,\n",
      "           0.4,    0.5,    0.3,    0.4,    0.2,    0.1,    0.2,    0.1,    0.1,    0.3,    0.1,    0.0,    0.0,    0.0,    0.0,    0.0,    0.0,    0.1,    0.1,    0.0,\n",
      "           0.4,    0.5,    0.3,    0.4,    0.2,    0.1,    0.2,    0.1,    0.1,    0.3,    0.1,    0.0,    0.0,    0.0,    0.0,    0.0,    0.0,    0.1,    0.1,    0.0,\n",
      "           0.3,    0.5,    0.4,    0.4,    0.2,    0.1,    0.2,    0.1,    0.1,    0.3,    0.1,    0.0,    0.0,    0.0,    0.0,    0.0,    0.0,    0.1,    0.1,    0.0,\n",
      "           0.4,    0.5,    0.4,    0.4,    0.2,    0.1,    0.2,    0.1,    0.1,    0.3,    0.1,    0.0,    0.0,    0.1,    0.0,    0.0,    0.0,    0.1,    0.1,    0.0,\n",
      "           0.5,    0.5,    0.7,    0.4,    0.4,    0.2,    0.3,    0.2,    0.1,    0.4,    0.2,    0.0,    0.0,    0.2,    0.0,    0.0,    0.0,    0.2,    0.2,    0.0,\n",
      "           0.5,    0.5,    1.3,    0.9,    0.4,    0.2,    0.5,    0.2,    0.1,    0.8,    0.4,    0.0,    0.0,    0.3,    0.0,    0.0,    0.0,    0.2,    0.2,    0.0,\n",
      "           0.6,    0.5,    1.2,    1.2,    0.5,    0.1,    0.8,    0.1,    0.1,    1.3,    0.6,    0.0,    0.0,    0.5,    0.0,    0.0,    0.0,    0.3,    0.3,    0.0,\n",
      "           0.6,    0.5,    1.0,    1.6,    0.5,    0.1,    0.5,    0.1,    0.1,    1.1,    0.5,    0.0,    0.0,    0.4,    0.0,    0.0,    0.0,    0.3,    0.3,    0.0,\n",
      "           0.7,    0.5,    0.8,    1.4,    0.6,    0.1,    0.2,    0.1,    0.1,    0.4,    0.2,    0.0,    0.0,    0.1,    0.0,    0.0,    0.0,    0.2,    0.2,    0.0,\n",
      "           0.6,    0.5,    0.6,    0.6,    0.5,    0.1,    0.2,    0.1,    0.1,    0.4,    0.2,    0.0,    0.0,    0.0,    0.0,    0.0,    0.0,    0.2,    0.2,    0.0,\n",
      "           0.5,    0.5,    0.5,    0.4,    0.3,    0.1,    0.2,    0.1,    0.1,    0.4,    0.1,    0.0,    0.0,    0.0,    0.0,    0.0,    0.0,    0.1,    0.1,    0.0,\n",
      "\n",
      " LAIM  =   1.6,    4.5,    0.0,    0.0,    1.0,    1.0,    1.0,    1.0,    1.0,    0.4,    0.3,    0.0,    0.0,    0.4,    0.0,    0.0,    0.0,    0.0,    0.0,    0.0,\n",
      "           1.6,    4.5,    0.0,    0.0,    1.0,    1.0,    1.0,    1.0,    1.0,    0.5,   0.45,    0.0,    0.0,    0.5,    0.0,    0.0,    0.0,    0.0,    0.0,    0.0,\n",
      "           1.6,    4.5,    0.0,    0.3,    1.0,    1.0,    1.0,    1.0,    1.0,    0.6,    0.5,    0.0,    0.0,    0.6,    0.0,    0.0,    0.0,    0.0,    0.0,    0.0,\n",
      "           1.6,    4.5,    0.6,    1.2,    1.0,    1.0,    1.5,    1.0,    1.0,    0.7,   0.55,    0.0,    0.0,    0.7,    0.0,    0.0,    0.0,    0.2,    0.2,    0.0,\n",
      "           5.3,    4.5,    1.2,    3.0,    2.3,    1.0,    2.0,    1.0,    1.0,    1.2,   0.85,    1.0,    0.0,    1.2,    0.0,    0.0,    0.0,    0.5,    0.5,    0.0,\n",
      "           5.5,    4.5,    2.0,    4.7,    3.5,    1.0,    2.5,    1.0,    1.0,    3.0,   1.85,    2.0,    0.0,    3.0,    0.0,    0.0,    0.0,    1.0,    1.0,    0.0,\n",
      "           5.3,    4.5,    2.6,    4.5,    4.3,    1.0,    3.0,    1.0,    1.0,    3.5,    2.6,    3.0,    0.0,    3.5,    0.0,    0.0,    0.0,    2.0,    2.0,    0.0,\n",
      "           5.3,    4.5,    1.7,    3.4,    3.3,    1.0,    2.5,    1.0,    1.0,    1.5,   2.25,    3.0,    0.0,    1.5,    0.0,    0.0,    0.0,    1.0,    1.0,    0.0,\n",
      "           4.2,    4.5,    1.0,    1.2,    2.2,    1.0,    1.5,    1.0,    1.0,    0.7,    1.6,    1.5,    0.0,    0.7,    0.0,    0.0,    0.0,    0.5,    0.5,    0.0,\n",
      "           2.2,    4.5,    0.5,    0.3,    1.2,    1.0,    1.0,    1.0,    1.0,    0.6,    1.1,    0.0,    0.0,    0.6,    0.0,    0.0,    0.0,    0.2,    0.2,    0.0,\n",
      "           2.2,    4.5,    0.2,    0.0,    1.2,    1.0,    1.0,    1.0,    1.0,    0.5,   0.65,    0.0,    0.0,    0.5,    0.0,    0.0,    0.0,    0.0,    0.0,    0.0,\n",
      "           2.2,    4.5,    0.0,    0.0,    1.2,    1.0,    1.0,    1.0,    1.0,    0.4,    0.4,    0.0,    0.0,    0.4,    0.0,    0.0,    0.0,    0.0,    0.0,    0.0,\n",
      "\n",
      "! LAIM  =   5.1,    3.3,    0.0,    1.9,    3.0,    1.0,    0.8,    0.5,    0.5,    0.7,    0.3,    1.8,    0.0,    2.4,    0.0,    0.0,    0.0,    0.6,    0.7,    0.0,\n",
      "!           5.0,    3.6,    0.0,    1.9,    2.9,    1.0,    0.6,    1.0,    1.0,    0.7,   0.45,    1.9,    0.0,    2.6,    0.0,    0.0,    0.0,    0.4,    0.4,    0.0,\n",
      "!           5.1,    4.4,    0.0,    2.1,    3.3,    1.0,    0.8,    1.8,    1.7,    1.1,    0.5,    2.6,    0.0,    2.9,    0.0,    0.0,    0.0,    0.4,    0.4,    0.0,\n",
      "!           5.3,    5.4,    0.6,    2.5,    4.0,    1.0,    0.9,    2.6,    2.9,    1.7,   0.55,    3.9,    0.0,    3.4,    0.0,    0.0,    0.0,    0.4,    0.4,    0.0,\n",
      "!           5.9,    6.2,    1.2,    3.1,    5.0,    1.0,    1.5,    3.4,    3.6,    2.5,   0.85,    5.2,    0.0,    4.0,    0.0,    0.0,    0.0,    0.8,    1.0,    0.0,\n",
      "!           6.3,    6.4,    2.0,    3.3,    5.4,    1.0,    2.1,    3.6,    3.5,    2.7,   1.85,    5.6,    0.0,    4.2,    0.0,    0.0,    0.0,    2.0,    2.3,    0.0,\n",
      "!           6.4,    5.9,    2.6,    3.3,    5.4,    1.0,    2.6,    3.4,    2.9,    2.8,    2.6,    5.3,    0.0,    4.1,    0.0,    0.0,    0.0,    3.3,    3.3,    0.0,\n",
      "!           6.1,    5.6,    1.7,    3.1,    5.0,    1.0,    2.4,    3.2,    2.7,    2.4,   2.25,    4.5,    0.0,    3.8,    0.0,    0.0,    0.0,    3.3,    3.0,    0.0,\n",
      "!           6.0,    5.3,    1.0,    2.9,    4.8,    1.0,    2.2,    2.9,    2.4,    2.1,    1.6,    4.1,    0.0,    3.7,    0.0,    0.0,    0.0,    2.8,    3.0,    0.0,\n",
      "!           5.5,    4.7,    0.5,    2.6,    4.1,    1.0,    1.6,    2.3,    1.8,    1.7,    1.1,    3.2,    0.0,    3.2,    0.0,    0.0,    0.0,    1.4,    1.4,    0.0,\n",
      "!           5.2,    4.0,    0.2,    2.2,    3.4,    1.0,    1.0,    1.5,    1.4,    1.3,   0.65,    2.3,    0.0,    2.7,    0.0,    0.0,    0.0,    0.5,    0.7,    0.0,\n",
      "!           5.1,    3.2,    0.0,    1.9,    3.0,    1.0,    0.9,    0.7,    0.7,    0.8,    0.4,    1.7,    0.0,    2.4,    0.0,    0.0,    0.0,    0.8,    0.7,    0.0,\n",
      "\n",
      " SLAREA=0.0090, 0.0200, 0.0200, 0.0258, 0.0223, 0.0227, 0.0188, 0.0227, 0.0236, 0.0060, 0.0295, 0.0200, 0.0228, 0.0223,   0.02,   0.02, 0.0422,   0.02,   0.02,   0.02,\n",
      "\n",
      "! Five types, one row for each type.\n",
      " EPS   =  0.46,   0.00,   0.00,  46.86,  30.98,  21.62,   0.11,  21.62,  22.80,   0.02,  0.815,   0.00,  41.87,   0.04,    0.0,    0.0,   2.31,    0.0,    0.0,    0.0,\n",
      "          3.34,   0.00,   0.00,   0.38,   0.96,   0.92,   0.22,   0.92,   0.59,   0.05,  0.535,   0.00,   0.98,   0.09,    0.0,    0.0,   1.47,    0.0,    0.0,    0.0,\n",
      "          1.85,   0.00,   0.00,   1.84,   1.84,   1.73,   1.26,   1.73,   1.37,   0.03,  0.605,   0.00,   1.82,   0.05,    0.0,    0.0,   1.70,    0.0,    0.0,    0.0,\n",
      "           0.0,    0.0,    0.0,    0.0,    0.0,    0.0,    0.0,    0.0,    0.0,    0.0,    0.0,    0.0,    0.0,    0.0,    0.0,    0.0,    0.0,    0.0,    0.0,    0.0,\n",
      "           0.0,    0.0,    0.0,    0.0,    0.0,    0.0,    0.0,    0.0,    0.0,    0.0,    0.0,    0.0,    0.0,    0.0,    0.0,    0.0,    0.0,    0.0,    0.0,    0.0,\n",
      "/\n"
     ]
    }
   ],
   "source": [
    "for mptable in s.mptable:\n",
    "    print(mptable.splitlines()[0])"
   ]
  },
  {
   "cell_type": "code",
   "execution_count": 27,
   "metadata": {},
   "outputs": [
    {
     "name": "stdout",
     "output_type": "stream",
     "text": [
      "Soil Parameters\n",
      "STAS\n",
      "19,1   'BB      DRYSMC      F11     MAXSMC   REFSMC   SATPSI  SATDK       SATDW     WLTSMC  QTZ    '\n",
      "1,     2.79,    0.010,    -0.472,   0.339,   0.236,   0.069,  1.07E-6,  0.608E-6,   0.010,  0.92, 'SAND'\n",
      "2,     4.26,    0.028,    -1.044,   0.421,   0.383,   0.036,  1.41E-5,  0.514E-5,   0.028,  0.82, 'LOAMY SAND'\n",
      "3,     4.74,    0.047,    -0.569,   0.434,   0.383,   0.141,  5.23E-6,  0.805E-5,   0.047,  0.60, 'SANDY LOAM'\n",
      "4,     5.33,    0.084,     0.162,   0.476,   0.360,   0.759,  2.81E-6,  0.239E-4,   0.084,  0.25, 'SILT LOAM'\n",
      "5,     5.33,    0.084,     0.162,   0.476,   0.383,   0.759,  2.81E-6,  0.239E-4,   0.084,  0.10, 'SILT'\n",
      "6,     5.25,    0.066,    -0.327,   0.439,   0.329,   0.355,  3.38E-6,  0.143E-4,   0.066,  0.40, 'LOAM'\n",
      "7,     6.66,    0.067,    -1.491,   0.404,   0.314,   0.135,  4.45E-6,  0.990E-5,   0.067,  0.60, 'SANDY CLAY LOAM'\n",
      "8,     8.72,    0.120,    -1.118,   0.464,   0.387,   0.617,  2.04E-6,  0.237E-4,   0.120,  0.10, 'SILTY CLAY LOAM'\n",
      "9,     8.17,    0.103,    -1.297,   0.465,   0.382,   0.263,  2.45E-6,  0.113E-4,   0.103,  0.35, 'CLAY LOAM'\n",
      "10,   10.73,    0.100,    -3.209,   0.406,   0.338,   0.098,  7.22E-6,  0.187E-4,   0.100,  0.52, 'SANDY CLAY'\n",
      "11,   10.39,    0.126,    -1.916,   0.468,   0.404,   0.324,  1.34E-6,  0.964E-5,   0.126,  0.10, 'SILTY CLAY'\n",
      "12,   11.55,    0.138,    -2.138,   0.468,   0.412,   0.468,  9.74E-7,  0.112E-4,   0.138,  0.25, 'CLAY'\n",
      "13,    5.25,    0.066,    -0.327,   0.439,   0.329,   0.355,  3.38E-6,  0.143E-4,   0.066,  0.05, 'ORGANIC MATERIAL'\n",
      "14,     0.0,      0.0,       0.0,     1.0,     0.0,     0.0,      0.0,       0.0,     0.0,  0.60, 'WATER'\n",
      "15,    2.79,    0.006,    -1.111,    0.20,    0.17,   0.069,  1.41E-4,  0.136E-3,   0.006,  0.07, 'BEDROCK'\n",
      "16,    4.26,    0.028,    -1.044,   0.421,   0.283,   0.036,  1.41E-5,  0.514E-5,   0.028,  0.25, 'OTHER(land-ice)'\n",
      "17,   11.55,    0.030,   -10.472,   0.468,   0.454,   0.468,  9.74E-7,  0.112E-4,   0.030,  0.60, 'PLAYA'\n",
      "18,    2.79,    0.006,    -0.472,   0.200,    0.17,   0.069,  1.41E-4,  0.136E-3,   0.006,  0.52, 'LAVA'\n",
      "19,    2.79,     0.01,    -0.472,   0.339,   0.236,   0.069,  1.07E-6,  0.608E-6,    0.01,  0.92, 'WHITE SAND'\n",
      "Soil Parameters\n",
      "STAS-RUC\n",
      "19,1   'BB      DRYSMC       HC     MAXSMC   REFSMC   SATPSI  SATDK       SATDW     WLTSMC  QTZ    '\n",
      "1,     4.05,    0.045,      1.47,   0.395,   0.236,   0.121,  1.76E-4,  0.608E-6,   0.068,  0.92, 'SAND'\n",
      "2,     4.38,    0.057,      1.41,   0.410,   0.383,   0.090,  1.56E-4,  0.514E-5,   0.075,  0.82, 'LOAMY SAND'\n",
      "3,     4.90,    0.065,      1.34,   0.435,   0.383,   0.218,  3.47E-5,  0.805E-5,   0.114,  0.60, 'SANDY LOAM'\n",
      "4,     5.30,    0.067,      1.27,   0.485,   0.360,   0.786,  7.20E-6,  0.239E-4,   0.179,  0.25, 'SILT LOAM'\n",
      "5,     5.30,    0.034,      1.27,   0.485,   0.383,   0.786,  7.20E-6,  0.239E-4,   0.179,  0.10, 'SILT'\n",
      "6,     5.39,    0.078,      1.21,   0.451,   0.329,   0.478,  6.95E-6,  0.143E-4,   0.155,  0.40, 'LOAM'\n",
      "7,     7.12,    0.100,      1.18,   0.420,   0.314,   0.299,  6.30E-6,  0.990E-5,   0.175,  0.60, 'SANDY CLAY LOAM'\n",
      "8,     7.75,    0.089,      1.32,   0.477,   0.387,   0.356,  1.70E-6,  0.237E-4,   0.218,  0.10, 'SILTY CLAY LOAM'\n",
      "9,     8.52,    0.095,      1.23,   0.476,   0.382,   0.630,  2.45E-6,  0.113E-4,   0.250,  0.35, 'CLAY LOAM'\n",
      "10,   10.40,    0.100,      1.18,   0.426,   0.338,   0.153,  2.17E-6,  0.187E-4,   0.219,  0.52, 'SANDY CLAY'\n",
      "11,   10.40,    0.070,      1.15,   0.492,   0.404,   0.490,  1.03E-6,  0.964E-5,   0.283,  0.10, 'SILTY CLAY'\n",
      "12,   11.40,    0.068,      1.09,   0.482,   0.412,   0.405,  1.28E-6,  0.112E-4,   0.286,  0.25, 'CLAY'\n",
      "13,    5.39,    0.078,      1.21,   0.451,   0.329,   0.478,  6.95E-6,  0.143E-4,   0.155,  0.05, 'ORGANIC MATERIAL'\n",
      "14,     0.0,      0.0,      4.18,   1.0,     1.0,     0.0,      0.0,       0.0,     0.0,    0.00, 'WATER'\n",
      "15,    4.05,    0.004,      2.03,   0.200,   0.17,   0.121,  1.41E-4,  0.136E-3,   0.006,  0.60, 'BEDROCK'\n",
      "16,    4.90,    0.065,      2.10,   0.435,   0.283,   0.218,  3.47E-5,  0.514E-5,   0.114,  0.05, 'OTHER(land-ice)'\n",
      "17,   11.40,    0.030,      1.41,   0.468,   0.454,   0.468,  9.74E-7,  0.112E-4,   0.030,  0.60, 'PLAYA'\n",
      "18,    4.05,    0.006,      1.41,   0.200,   0.17,   0.069,  1.41E-4,  0.136E-3,   0.060,  0.52, 'LAVA'\n",
      "19,    4.05,     0.01,      1.47,   0.339,   0.236,   0.069,  1.76E-4,  0.608E-6,   0.060,  0.92, 'WHITE SAND'\n",
      "Soil Parameters\n",
      "ROSETTA\n",
      "12,1 'theta_res   theta_sat   vGn_alpha       vGn_n      k_soil          BB      DRYSMC          HC      MAXSMC      REFSMC      SATPSI       SATDK       SATDW      WLTSMC         QTZ    '\n",
      "1         0.098       0.459      -1.496       1.253 1.70799e-06        1.40       0.068        1.09       0.482       0.412       0.405     1.28E-6    0.112E-4       0.286        0.25    'CLAY' \n",
      "2         0.079       0.442      -1.581       1.416 9.47297e-07        8.52       0.095        1.23       0.476       0.382       0.630     2.45E-6    0.113E-4       0.250        0.35    'CLAY LOAM'\n",
      "3         0.061       0.399      -1.112       1.472 1.39472e-06        5.39       0.078        1.21       0.451       0.329       0.478     6.95E-6    0.143E-4       0.155        0.40    'LOAM' \n",
      "4         0.049       0.390      -3.475       1.746 1.21755e-05        4.38       0.057        1.41       0.410       0.383       0.090     1.56E-4    0.514E-5       0.075        0.82    'LOAMY SAND'\n",
      "5         0.053       0.375      -3.524       3.177 7.43852e-05        4.05       0.045        1.47       0.395       0.236       0.121     1.76E-4    0.608E-6       0.068        0.92    'SAND'\n",
      "6         0.117       0.385      -3.342       1.208 1.31367e-06        0.40       0.100        1.18       0.426       0.338       0.153     2.17E-6    0.187E-4       0.219        0.52    'SANDY CLAY'\n",
      "7         0.063       0.384      -2.109       1.330 1.52576e-06        7.12       0.100        1.18       0.420       0.314       0.299     6.30E-6    0.990E-5       0.175        0.60    'SANDY CLAY LOAM'\n",
      "8         0.039       0.387      -2.667       1.449 4.43084e-06        4.90       0.065        1.34       0.435       0.383       0.218     3.47E-5    0.805E-5       0.114        0.60    'SANDY LOAM'\n",
      "9         0.050       0.489      -0.658       1.679 5.06391e-06        5.30       0.034        1.27       0.485       0.383       0.786     7.20E-6    0.239E-4       0.179        0.10    'SILT'\n",
      "10        0.111       0.481      -1.622       1.321 1.11298e-06        0.40       0.070        1.15       0.492       0.404       0.490     1.03E-6    0.964E-5       0.283        0.10    'SILTY CLAY'\n",
      "11        0.090       0.482      -0.839       1.521 1.28673e-06        7.75       0.089        1.32       0.477       0.387       0.356     1.70E-6    0.237E-4       0.218        0.10    'SILTY CLAY LOAM'\n",
      "12        0.065       0.439      -0.506       1.663 2.11099e-06        5.30       0.067        1.27       0.485       0.360       0.786     7.20E-6    0.239E-4       0.179        0.25    'SILT LOAM'\n"
     ]
    }
   ],
   "source": [
    "for soilparm in s.soilparm:\n",
    "    print(soilparm.splitlines()[0])"
   ]
  },
  {
   "cell_type": "code",
   "execution_count": 28,
   "metadata": {},
   "outputs": [
    {
     "name": "stdout",
     "output_type": "stream",
     "text": [
      "Vegetation Parameters\n",
      "USGS\n",
      "27,1, 'SHDFAC NROOT   RS      RGL      HS      SNUP  MAXALB   LAIMIN  LAIMAX  EMISSMIN EMISSMAX ALBEDOMIN ALBEDOMAX  Z0MIN    Z0MAX  '\n",
      "1,      .10,   1,    200.,   999.,   999.0,   0.04,    46.,    1.00,   1.00,   .880,    .880,     .15,      .15,      .50,     .50,     'Urban and Built-Up Land'  \n",
      "2,      .80,   3,     40.,   100.,   36.25,   0.04,    66.,    1.56,   5.68,   .920,    .985,     .17,      .23,      .05,     .15,     'Dryland Cropland and Pasture' \n",
      "3,      .80,   3,     40.,   100.,   36.25,   0.04,    66.,    1.56,   5.68,   .930,    .985,     .20,      .25,      .02,     .10,     'Irrigated Cropland and Pasture' \n",
      "4,      .80,   3,     40.,   100.,   36.25,   0.04,    66.,    1.00,   4.50,   .920,    .985,     .18,      .23,      .05,     .15,     'Mixed Dryland/Irrigated Cropland and Pasture' \n",
      "5,      .80,   3,     40.,   100.,   36.25,   0.04,    68.,    2.29,   4.29,   .920,    .980,     .18,      .23,      .05,     .14,     'Cropland/Grassland Mosaic'\n",
      "6,      .80,   3,     70.,    65.,   44.14,   0.04,    60.,    2.00,   4.00,   .930,    .985,     .16,      .20,      .20,     .20,     'Cropland/Woodland Mosaic' \n",
      "7,      .80,   3,     40.,   100.,   36.35,   0.04,    70.,    0.52,   2.90,   .920,    .960,     .19,      .23,      .10,     .12,     'Grassland' \n",
      "8,      .70,   3,    300.,   100.,   42.00,   0.03,    60.,    0.50,   3.66,   .930,    .930,     .25,      .30,      .01,     .05,     'Shrubland' \n",
      "9,      .70,   3,    170.,   100.,   39.18,  0.035,    65.,    0.60,   2.60,   .930,    .950,     .22,      .30,      .01,     .06,     'Mixed Shrubland/Grassland' \n",
      "10,     .50,   3,     70.,    65.,   54.53,   0.04,    50.,    0.50,   3.66,   .920,    .920,     .20,      .20,      .15,     .15,     'Savanna' \n",
      "11,     .80,   4,    100.,    30.,   54.53,   0.08,    58.,    1.85,   3.31,   .930,    .930,     .16,      .17,      .50,     .50,     'Deciduous Broadleaf Forest' \n",
      "12,     .70,   4,    150.,    30.,   47.35,   0.08,    54.,    1.00,   5.16,   .930,    .940,     .14,      .15,      .50,     .50,     'Deciduous Needleleaf Forest' \n",
      "13,     .95,   4,    150.,    30.,   41.69,   0.08,    35.,    3.08,   6.48,   .950,    .950,     .12,      .12,      .50,     .50,     'Evergreen Broadleaf Forest'\n",
      "14,     .70,   4,    125.,    30.,   47.35,   0.08,    52.,    5.00,   6.40,   .950,    .950,     .12,      .12,      .50,     .50,     'Evergreen Needleleaf Forest'  \n",
      "15,     .80,   4,    125.,    30.,   51.93,   0.08,    53.,    2.80,   5.50,   .930,    .970,     .17,      .25,      .20,     .50,     'Mixed Forest' \n",
      "16,     .00,   0,    100.,    30.,   51.75,   0.01,    70.,    0.01,   0.01,   .980,    .980,     .08,      .08,   0.0001,  0.0001,     'Water Bodies' \n",
      "17,     .60,   2,     40.,   100.,   60.00,   0.01,    68.,    1.50,   5.65,   .950,    .950,     .14,      .14,      .20,     .20,     'Herbaceous Wetland' \n",
      "18,     .60,   2,    100.,    30.,   51.93,   0.02,    50.,    2.00,   5.80,   .950,    .950,     .14,      .14,      .40,     .40,     'Wooded Wetland' \n",
      "19,     .01,   1,    999.,   999.,   999.0,   0.02,    75.,    0.10,   0.75,   .900,    .900,     .38,      .38,      .01,     .01,     'Barren or Sparsely Vegetated' \n",
      "20,     .60,   3,    150.,   100.,   42.00,  0.025,    68.,    0.41,   3.35,   .920,    .920,     .15,      .20,      .10,     .10,     'Herbaceous Tundra' \n",
      "21,     .60,   3,    150.,   100.,   42.00,  0.025,    55.,    0.41,   3.35,   .930,    .930,     .15,      .20,      .30,     .30,     'Wooded Tundra' \n",
      "22,     .60,   3,    150.,   100.,   42.00,  0.025,    60.,    0.41,   3.35,   .920,    .920,     .15,      .20,      .15,     .15,     'Mixed Tundra' \n",
      "23,     .30,   2,    200.,   100.,   42.00,   0.02,    75.,    0.41,   3.35,   .900,    .900,     .25,      .25,      .05,     .10,     'Bare Ground Tundra' \n",
      "24,     .00,   1,    999.,   999.,   999.0,   0.02,    82.,    0.01,   0.01,   .950,    .950,     .55,      .70,    0.001,   0.001,     'Snow or Ice' \n",
      "25,     .50,   1,     40.,   100.,   36.25,   0.02,    75.,    0.01,   0.01,   .890,    .890,     .30,      .30,      .01,     .01,     'Playa' \n",
      "26,     .00,   0,    999.,   999.,   999.0,   0.02,    75.,    0.01,   0.01,   .880,    .880,     .16,      .16,      .15,     .15,     'Lava'   \n",
      "27,     .00,   0,    999.,   999.,   999.0,   0.02,    75.,    0.01,   0.01,   .830,    .830,     .60,      .60,      .01,     .01,     'White Sand' \n",
      "TOPT_DATA\n",
      "298.0\n",
      "CMCMAX_DATA\n",
      "0.5E-3\n",
      "CFACTR_DATA\n",
      "0.5\n",
      "RSMAX_DATA\n",
      "5000.0\n",
      "BARE\n",
      "19\n",
      "NATURAL\n",
      "5\n",
      "Vegetation Parameters\n",
      "MODIFIED_IGBP_MODIS_NOAH\n",
      "20,1, 'SHDFAC NROOT   RS      RGL      HS      SNUP  MAXALB   LAIMIN  LAIMAX   EMISSMIN EMISSMAX ALBEDOMIN ALBEDOMAX   Z0MIN    Z0MAX'\n",
      "1       .70,   4,    125.,    30.,   47.35,   0.08,    52.,    5.00,   6.40,   .950,    .950,     .12,      .12,      .50,     .50,         'Evergreen Needleleaf Forest'\n",
      "2,      .95,   4,    150.,    30.,   41.69,   0.08,    35.,    3.08,   6.48,   .950,    .950,     .12,      .12,      .50,     .50,         'Evergreen Broadleaf Forest'\n",
      "3,      .70,   4,    150.,    30.,   47.35,   0.08,    54.,    1.00,   5.16,   .930,    .940,     .14,      .15,      .50,     .50,         'Deciduous Needleleaf Forest'\n",
      "4,      .80,   4,    100.,    30.,   54.53,   0.08,    58.,    1.85,   3.31,   .930,    .930,     .16,      .17,      .50,     .50,         'Deciduous Broadleaf Forest'\n",
      "5,      .80,   4,    125.,    30.,   51.93,   0.08,    53.,    2.80,   5.50,   .930,    .970,     .17,      .25,      .20,     .50,         'Mixed Forests'\n",
      "6,      .70,   3,    300.,   100.,   42.00,   0.03,    60.,    0.50,   3.66,   .930,    .930,     .25,      .30,      .01,     .05,         'Closed Shrublands'\n",
      "7,      .70,   3,    170.,   100.,   39.18,  0.035,    65.,    0.60,   2.60,   .930,    .950,     .22,      .30,      .01,     .06,         'Open Shrublands'\n",
      "8,      .70,   3,    300.,   100.,   42.00,   0.03,    60.,    0.50,   3.66,   .930,    .930,     .25,      .30,      .01,     .05,         'Woody Savannas'\n",
      "9,      .50,   3,     70.,    65.,   54.53,   0.04,    50.,    0.50,   3.66,   .920,    .920,     .20,      .20,      .15,     .15,         'Savannas'\n",
      "10,     .80,   3,     40.,   100.,   36.35,   0.04,    70.,    0.52,   2.90,   .920,    .960,     .19,      .23,      .10,     .12,         'Grasslands'\n",
      "11      .60,   2,     70.,    65.,   55.97   0.015     59.,    1.75,   5.72,   .950,    .950,     .14,      .14,      .30,     .30,         'Permanent wetlands'\n",
      "12,     .80,   3,     40.,   100.,   36.25,   0.04,    66.,    1.56,   5.68,   .920,    .985,     .17,      .23,      .05,     .15,         'Croplands'\n",
      "13,     .10,   1,    200.,   999.,   999.0,   0.04,    46.,    1.00,   1.00,   .880,    .880,     .15,      .15,      .50,     .50,         'Urban and Built-Up'\n",
      "14      .80,   3,     40.,   100.,   36.25,   0.04,    68.,    2.29,   4.29,   .920,    .980,     .18,      .23,      .05,     .14,         'cropland/natural vegetation mosaic'\n",
      "15,     .00,   1,    999.,   999.,   999.0,   0.02,    82.,    0.01,   0.01,   .950,    .950,     .55,      .70,    0.001,   0.001,         'Snow and Ice'\n",
      "16,     .01,   1,    999.,   999.,   999.0,   0.02,    75.,    0.10,   0.75,   .900,    .900,     .38,      .38,      .01,     .01,         'Barren or Sparsely Vegetated'\n",
      "17,     .00,   0,    100.,    30.,   51.75,   0.01,    70.,    0.01,   0.01,   .980,    .980,     .08,      .08,   0.0001,  0.0001,         'Water'\n",
      "18,     .60,   3,    150.,   100.,   42.00,  0.025,    55.,    0.41,   3.35,   .930,    .930,     .15,      .20,      .30,     .30,         'Wooded Tundra'\n",
      "19,     .60,   3,    150.,   100.,   42.00,  0.025,    60.,    0.41,   3.35,   .920,    .920,     .15,      .20,      .15,     .15,         'Mixed Tundra'\n",
      "20,     .30,   2,    200.,   100.,   42.00,   0.02,    75.,    0.41,   3.35,   .900,    .900,     .25,      .25,      .05,     .10,         'Barren Tundra'\n",
      "TOPT_DATA\n",
      "298.0\n",
      "CMCMAX_DATA\n",
      "0.5E-3\n",
      "CFACTR_DATA\n",
      "0.5\n",
      "RSMAX_DATA\n",
      "5000.0\n",
      "BARE\n",
      "16\n",
      "NATURAL\n",
      "14\n",
      "Vegetation Parameters\n",
      "USGS-RUC\n",
      "27,1, 'ALBEDO    Z0   LEMI     PC   SHDFAC NROOT   RS      RGL      HS      SNUP    LAI   MAXALB'\n",
      "1,     .18,     .50,   .88,   .40,   .10,   1,    200.,   999.,   999.0,   0.04,   4.0,     40.,    'Urban and Built-Up Land'\n",
      "2,     .17,     .06,   .92,   .30,   .80,   3,     40.,   100.,   36.25,   0.04,   4.0,     64.,    'Dryland Cropland and Pasture'\n",
      "3,     .18,     .075,  .92,   .40,   .80,   3,     40.,   100.,   36.25,   0.04,   4.0,     64.,    'Irrigated Cropland and Pasture'\n",
      "4,     .18,     .065,  .92,   .40,   .80,   3,     40.,   100.,   36.25,   0.04,   4.0,     64.,    'Mixed Dryland/Irrigated Cropland and Pasture'\n",
      "5,     .18,     .05,   .92,   .40,   .80,   3,     40.,   100.,   36.25,   0.04,   4.0,     64.,    'Cropland/Grassland Mosaic'\n",
      "6,     .16,     .20,   .93,   .40,   .80,   3,     70.,    65.,   44.14,   0.04,   4.0,     60.,    'Cropland/Woodland Mosaic'\n",
      "7,     .19,     .075   .92,   .40,   .80,   3,     40.,   100.,   36.35,   0.04,   4.0,     64.,    'Grassland'\n",
      "8,     .22,     .10,   .88,   .40,   .70,   3,    300.,   100.,   42.00,   0.03,   4.0,     69.,    'Shrubland'\n",
      "9,     .20,     .11,   .90,   .40,   .70,   3,    170.,   100.,   39.18,  0.035,   4.0,     67.,    'Mixed Shrubland/Grassland'\n",
      "10,    .20,     .15,   .92,   .40,   .50,   3,     70.,    65.,   54.53,   0.04,   4.0,     45.,    'Savanna'\n",
      "11,    .16,     .50,   .93,   .55,   .80,   4,    100.,    30.,   54.53,   0.08,   4.0,     58.,    'Deciduous Broadleaf Forest'\n",
      "12,    .14,     .50,   .94,   .55,   .70,   4,    150.,    30.,   47.35,   0.08,   4.0,     54.,    'Deciduous Needleleaf Forest'\n",
      "13,    .12,     .50,   .95,   .55,   .95,   4,    150.,    30.,   41.69,   0.08,   4.0,     32.,    'Evergreen Broadleaf Forest'\n",
      "14,    .12,     .50,   .95,   .55,   .70,   4,    125.,    30.,   47.35,   0.08,   4.0,     52.,    'Evergreen Needleleaf Forest'\n",
      "15,    .13,     .50,   .94,   .55,   .80,   4,    125.,    30.,   51.93,   0.08,   4.0,     53.,    'Mixed Forest'\n",
      "16,    .08,    .0001,  .98,   .00,   .00,   0,    100.,    30.,   51.75,   0.01,   4.0,     70.,    'Water Bodies'\n",
      "17,    .14,     .20,   .95,   .55,   .60,   2,     40.,   100.,   60.00,   0.01,   4.0,     35.,    'Herbaceous Wetland'\n",
      "18,    .14,     .40,   .95,   .55,   .60,   2,    100.,    30.,   51.93,   0.02,   4.0,     30.,    'Wooded Wetland'\n",
      "19,    .25,     .05,   .85,   .30,   .01,   1,    999.,   999.,   999.0,   0.02,   4.0,     69.,    'Barren or Sparsely Vegetated'\n",
      "20,    .15,     .10,   .92,   .30,   .60,   3,    150.,   100.,   42.00,  0.025,   4.0,     58.,    'Herbaceous Tundra'\n",
      "21,    .15,     .15,   .93,   .40,   .60,   3,    150.,   100.,   42.00,  0.025,   4.0,     55.,    'Wooded Tundra'\n",
      "22,    .15,     .10,   .92,   .40,   .60,   3,    150.,   100.,   42.00,  0.025,   4.0,     55.,    'Mixed Tundra'\n",
      "23,    .25,     .065   .85,   .30,   .30,   2,    200.,   100.,   42.00,   0.02,   4.0,     65.,    'Bare Ground Tundra'\n",
      "24,    .55,     .05,   .95,   .00,   .00,   1,    999.,   999.,   999.0,   0.02,   4.0,     75.,    'Snow or Ice'\n",
      "25,    .30,     .01,   .85,   .30,   .50,   1,     40.,   100.,   36.25,   0.02,   4.0,     69.,    'Playa'\n",
      "26,    .16,     .15,   .85,   .00,   .00,   0,    999.,   999.,   999.0,   0.02,   4.0,     69.,    'Lava'\n",
      "27,    .60,     .01,   .90,   .00,   .00,   0,    999.,   999.,   999.0,   0.02,   4.0,     69.,    'White Sand'\n",
      "TOPT_DATA\n",
      "298.0\n",
      "CMCMAX_DATA\n",
      "0.5E-3\n",
      "CFACTR_DATA\n",
      "0.5\n",
      "RSMAX_DATA\n",
      "5000.0\n",
      "BARE\n",
      "19\n",
      "NATURAL\n",
      "5\n"
     ]
    }
   ],
   "source": [
    "for vegparm in s.vegparm:\n",
    "    print(vegparm.splitlines()[0])"
   ]
  },
  {
   "cell_type": "code",
   "execution_count": null,
   "metadata": {},
   "outputs": [],
   "source": []
  }
 ],
 "metadata": {
  "kernelspec": {
   "display_name": "SUMMA",
   "language": "python",
   "name": "pysumma"
  },
  "language_info": {
   "codemirror_mode": {
    "name": "ipython",
    "version": 3
   },
   "file_extension": ".py",
   "mimetype": "text/x-python",
   "name": "python",
   "nbconvert_exporter": "python",
   "pygments_lexer": "ipython3",
   "version": "3.8.5"
  },
  "toc": {
   "base_numbering": 1,
   "nav_menu": {},
   "number_sections": true,
   "sideBar": true,
   "skip_h1_title": false,
   "title_cell": "Table of Contents",
   "title_sidebar": "Contents",
   "toc_cell": false,
   "toc_position": {},
   "toc_section_display": true,
   "toc_window_display": true
  }
 },
 "nbformat": 4,
 "nbformat_minor": 4
}
